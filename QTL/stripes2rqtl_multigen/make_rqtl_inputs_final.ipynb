{
 "cells": [
  {
   "cell_type": "markdown",
   "metadata": {},
   "source": [
    "# Imports and general formatting"
   ]
  },
  {
   "cell_type": "code",
   "execution_count": 15,
   "metadata": {},
   "outputs": [],
   "source": [
    "import pandas as pd\n",
    "import numpy as np\n",
    "import copy\n",
    "from collections import Counter"
   ]
  },
  {
   "cell_type": "code",
   "execution_count": 103,
   "metadata": {},
   "outputs": [],
   "source": [
    "from scripts.QC.GT_matrices import Genotypes, Pedigree\n",
    "from scripts.downstream_formatting import *"
   ]
  },
  {
   "cell_type": "markdown",
   "metadata": {},
   "source": [
    "#### load genotypes:"
   ]
  },
  {
   "cell_type": "code",
   "execution_count": 6,
   "metadata": {},
   "outputs": [],
   "source": [
    "genotype_path = \"various_subsets/raw_geno_all_samples_fill3mbgaps.csv\""
   ]
  },
  {
   "cell_type": "code",
   "execution_count": 9,
   "metadata": {},
   "outputs": [],
   "source": [
    "genotypes = pd.read_csv(genotype_path)\n",
    "genotypes.index = genotypes[\"Unnamed: 0\"].astype(str)\n",
    "del(genotypes[\"Unnamed: 0\"])"
   ]
  },
  {
   "cell_type": "markdown",
   "metadata": {},
   "source": [
    "#### load phenotypes:"
   ]
  },
  {
   "cell_type": "code",
   "execution_count": 10,
   "metadata": {},
   "outputs": [],
   "source": [
    "phenotype_path = \"/home/tilman/nas/AIL_phenotypes20190826.csv\""
   ]
  },
  {
   "cell_type": "code",
   "execution_count": 12,
   "metadata": {},
   "outputs": [],
   "source": [
    "phenotypes = pd.read_csv(phenotype_path, sep=\",\")"
   ]
  },
  {
   "cell_type": "code",
   "execution_count": 106,
   "metadata": {},
   "outputs": [],
   "source": [
    "pedigree_file = \"/home/tilman/nas/pedigree/AIL_pedigree_20190826.tsv\""
   ]
  },
  {
   "cell_type": "code",
   "execution_count": 140,
   "metadata": {},
   "outputs": [],
   "source": [
    "def load_pedigree(pedfile):\n",
    "    \"\"\"Returns a dictionary from a input file \"\"\"\n",
    "    raw_ped = pd.read_csv(pedfile, sep=\"\\t\")\n",
    "    raw_ped.index=raw_ped[\"ID\"]\n",
    "    ped_d = {}\n",
    "    for i, k in raw_ped.iterrows():\n",
    "        ped_d[str(i)] = {\"sire\":str(k[\"Sire\"]).split(\".\")[0],\n",
    "                    \"dam\":str(k[\"Dam\"]).split(\".\")[0],\n",
    "                    \"sex\":str(k[\"Sex\"]),\n",
    "                    \"generation\":str(i)[-2:]}\n",
    "    return ped_d"
   ]
  },
  {
   "cell_type": "code",
   "execution_count": 141,
   "metadata": {},
   "outputs": [],
   "source": [
    "p = load_pedigree(pedfile=pedigree_file)"
   ]
  },
  {
   "cell_type": "code",
   "execution_count": 111,
   "metadata": {},
   "outputs": [],
   "source": [
    "pedigree = pd.read_csv(\"/home/tilman/nas/pedigree/AIL_pedigree_20190826.tsv\", sep=\"\\t\")"
   ]
  },
  {
   "cell_type": "code",
   "execution_count": 129,
   "metadata": {},
   "outputs": [],
   "source": [
    "pedigree_obj = Pedigree(pedigree_file=pedigree_file)"
   ]
  },
  {
   "cell_type": "code",
   "execution_count": 144,
   "metadata": {},
   "outputs": [],
   "source": [
    "pedigree_obj.pedigree=p"
   ]
  },
  {
   "cell_type": "code",
   "execution_count": 113,
   "metadata": {},
   "outputs": [],
   "source": [
    "pedigree.index = pedigree.ID\n",
    "phenotypes.index = phenotypes.ID"
   ]
  },
  {
   "cell_type": "markdown",
   "metadata": {},
   "source": [
    "##### transfer some sex data to the phenotype file."
   ]
  },
  {
   "cell_type": "code",
   "execution_count": 29,
   "metadata": {},
   "outputs": [
    {
     "name": "stdout",
     "output_type": "stream",
     "text": [
      "225109 not in pedigree\n",
      "232509 not in pedigree\n",
      "543608 not in pedigree\n"
     ]
    }
   ],
   "source": [
    "new_sex = []\n",
    "for i,k in phenotypes.iterrows():\n",
    "    if float(k[\"SEX\"]) not in [1.0,2.0]:\n",
    "        try:\n",
    "            if float(pedigree.loc[i][\"Sex\"]) in [1.0,2.0]:\n",
    "                new_sex.append(float(pedigree.loc[i][\"Sex\"]))\n",
    "            else:\n",
    "                new_sex.append(float(k[\"SEX\"]))\n",
    "        except KeyError:\n",
    "            print(\"{} not in pedigree\".format(i))\n",
    "            new_sex.append(float(k[\"SEX\"]))\n",
    "    else:\n",
    "        new_sex.append(float(k[\"SEX\"]))"
   ]
  },
  {
   "cell_type": "code",
   "execution_count": 40,
   "metadata": {},
   "outputs": [
    {
     "name": "stdout",
     "output_type": "stream",
     "text": [
      "[(2.0, 1828), (1.0, 1618), (nan, 1), (nan, 1), (nan, 1)]\n",
      "[(2.0, 2277), (1.0, 2059), (nan, 1), (nan, 1), (nan, 1)]\n",
      "890\n"
     ]
    }
   ],
   "source": [
    "print(Counter(phenotypes.SEX).most_common(5))\n",
    "print(Counter(new_sex).most_common(5))\n",
    "print((2277+2059)-(1828+1618)) #recovered sex data for 890 samples, nice"
   ]
  },
  {
   "cell_type": "code",
   "execution_count": 41,
   "metadata": {},
   "outputs": [],
   "source": [
    "phenotypes[\"SEX\"]=new_sex"
   ]
  },
  {
   "cell_type": "markdown",
   "metadata": {},
   "source": [
    "### filter out bad phenotypes"
   ]
  },
  {
   "cell_type": "code",
   "execution_count": 45,
   "metadata": {},
   "outputs": [],
   "source": [
    "phenotypes[\"ID\"] = phenotypes[\"ID\"].astype(str)"
   ]
  },
  {
   "cell_type": "code",
   "execution_count": 46,
   "metadata": {},
   "outputs": [],
   "source": [
    "generation = [i[-2:] for i in phenotypes[\"ID\"]]"
   ]
  },
  {
   "cell_type": "code",
   "execution_count": 51,
   "metadata": {},
   "outputs": [],
   "source": [
    "phenotypes.GENERATION = generation"
   ]
  },
  {
   "cell_type": "code",
   "execution_count": 82,
   "metadata": {},
   "outputs": [
    {
     "name": "stdout",
     "output_type": "stream",
     "text": [
      "died D33\n",
      "died D47\n",
      "Died D31\n",
      "Died D40\n",
      "Died D30\n",
      "Died D35\n",
      "died D48\n",
      "Died D36\n",
      "died D41\n",
      "Died D41\n",
      "died D35\n",
      "died D30\n",
      "Died D43\n",
      "died D49\n"
     ]
    }
   ],
   "source": [
    "notes = []\n",
    "new_bw8 = []\n",
    "for i, k in phenotypes.iterrows():\n",
    "    try:\n",
    "        float(k[\"BW8\"])\n",
    "        notes.append(\"\")\n",
    "        new_bw8.append(float(k[\"BW8\"]))\n",
    "    except ValueError:\n",
    "        print(k[\"BW8\"])\n",
    "        notes.append(k[\"BW8\"])\n",
    "        new_bw8.append(np.nan)"
   ]
  },
  {
   "cell_type": "code",
   "execution_count": 84,
   "metadata": {},
   "outputs": [
    {
     "name": "stdout",
     "output_type": "stream",
     "text": [
      "4485\n"
     ]
    }
   ],
   "source": [
    "print(len(new_bw8))"
   ]
  },
  {
   "cell_type": "code",
   "execution_count": 85,
   "metadata": {},
   "outputs": [],
   "source": [
    "phenotypes[\"NOTES\"]=notes\n",
    "phenotypes[\"BW8\"]=new_bw8"
   ]
  },
  {
   "cell_type": "markdown",
   "metadata": {},
   "source": [
    "### make normalised-by-generation BW8 phenotypes.\n",
    "\n",
    "$ \\frac{BW8-mean(BW8)}{var(BW8)}$"
   ]
  },
  {
   "cell_type": "code",
   "execution_count": 98,
   "metadata": {},
   "outputs": [],
   "source": [
    "var_mean_d = {}\n",
    "for i in set(phenotypes.GENERATION):\n",
    "    #print(i)\n",
    "    var_mean_d[i]={}\n",
    "    \n",
    "    curr_gen = phenotypes.loc[phenotypes.GENERATION == i]\n",
    "    var = np.var(curr_gen[\"BW8\"].astype(float))\n",
    "    #print(var)\n",
    "    mean = curr_gen[\"BW8\"].astype(float).mean(skipna=True)\n",
    "    var_mean_d[i][\"variance\"] = var\n",
    "    var_mean_d[i][\"mean\"] = mean\n",
    "    #print(curr_gen[\"BW8\"].astype(float).mean(skipna=True))"
   ]
  },
  {
   "cell_type": "code",
   "execution_count": 94,
   "metadata": {},
   "outputs": [],
   "source": [
    "norm = []\n",
    "for i,k in phenotypes.iterrows():\n",
    "    var = var_mean_d[k[\"GENERATION\"]][\"variance\"]\n",
    "    mean = var_mean_d[k[\"GENERATION\"]][\"mean\"]\n",
    "    normval = (k[\"BW8\"]-mean)/var\n",
    "    #print(i, k[\"BW8\"], var, mean)\n",
    "    #print(\"#########\")\n",
    "    norm.append(normval)"
   ]
  },
  {
   "cell_type": "code",
   "execution_count": 97,
   "metadata": {},
   "outputs": [],
   "source": [
    "phenotypes[\"BW8_norm_by_gen\"] = norm"
   ]
  },
  {
   "cell_type": "markdown",
   "metadata": {},
   "source": [
    "### add Dam and Sire so i can control for family"
   ]
  },
  {
   "cell_type": "code",
   "execution_count": 149,
   "metadata": {},
   "outputs": [],
   "source": [
    "dams = []\n",
    "sires = []\n",
    "for i, k in phenotypes.iterrows():\n",
    "    try:\n",
    "        dam, sire = pedigree_obj.get_parents(sample=str(i))\n",
    "        #print(dam,sire)\n",
    "        dams.append(dam)\n",
    "        sires.append(sire)\n",
    "    except KeyError:\n",
    "        #print(\"{} is not in the pedigree\".format(i))\n",
    "        dams.append(np.nan)\n",
    "        sires.append(np.nan)"
   ]
  },
  {
   "cell_type": "code",
   "execution_count": 153,
   "metadata": {},
   "outputs": [],
   "source": [
    "phenotypes[\"DAM\"]=dams\n",
    "phenotypes[\"SIRE\"]=sires"
   ]
  },
  {
   "cell_type": "markdown",
   "metadata": {},
   "source": [
    "### export phenotypes again"
   ]
  },
  {
   "cell_type": "code",
   "execution_count": 156,
   "metadata": {},
   "outputs": [],
   "source": [
    "phenotypes.to_csv(\"/home/tilman/nas/AIL_phenotypes20190827.csv\")\n",
    "phenotypes.to_csv(\"/home/tilman/nas/AIL_phenotypes20190827.tsv\", sep=\"\\t\")\n",
    "\n",
    "phenotypes.to_csv(\"/mnt/bbg/AIL_reseq/useful_info/phenotypes/AIL_phenotypes20190827.csv\")\n",
    "phenotypes.to_csv(\"/mnt/bbg/AIL_reseq/useful_info/phenotypes/AIL_phenotypes20190827.tsv\", sep=\"\\t\")"
   ]
  },
  {
   "cell_type": "markdown",
   "metadata": {},
   "source": [
    "### make subset for easy rqtl input generation:"
   ]
  },
  {
   "cell_type": "code",
   "execution_count": 172,
   "metadata": {},
   "outputs": [],
   "source": [
    "nss = phenotypes[[\"ID\",\"BW8\", \"BW8_norm_by_gen\", \"SEX\", \"GENERATION\", \"DAM\", \"SIRE\"]]"
   ]
  },
  {
   "cell_type": "code",
   "execution_count": 174,
   "metadata": {},
   "outputs": [],
   "source": [
    "nss = copy.deepcopy(nss) # no messing with the original dataframe, tilman"
   ]
  },
  {
   "cell_type": "code",
   "execution_count": 177,
   "metadata": {},
   "outputs": [],
   "source": [
    "nss.columns = ['id', 'BW8', 'BW8_norm_by_gen', 'SEX', 'GENERATION', 'DAM', 'SIRE']"
   ]
  },
  {
   "cell_type": "markdown",
   "metadata": {},
   "source": [
    "# Minimally filtered"
   ]
  },
  {
   "cell_type": "markdown",
   "metadata": {},
   "source": [
    "## Make all_samples input"
   ]
  },
  {
   "cell_type": "code",
   "execution_count": 178,
   "metadata": {},
   "outputs": [],
   "source": [
    "make_rqtl_input(gen_out=\"20190827_rqtl_all_geno.csv\", phe_out=\"20190827_rqtl_all_pheno.csv\", old_id_pheno=False, df=genotypes, phe_id_col=\"id\", phenotype=nss)"
   ]
  },
  {
   "cell_type": "markdown",
   "metadata": {},
   "source": [
    "## Make F2_samples input"
   ]
  },
  {
   "cell_type": "code",
   "execution_count": 180,
   "metadata": {},
   "outputs": [],
   "source": [
    "F2s = nss.loc[nss[\"GENERATION\"]==\"02\"]"
   ]
  },
  {
   "cell_type": "code",
   "execution_count": 181,
   "metadata": {},
   "outputs": [
    {
     "name": "stderr",
     "output_type": "stream",
     "text": [
      "/home/tilman/nas/chicken_finemapping/QTL/stripes2rqtl_multigen/scripts/downstream_formatting.py:23: SettingWithCopyWarning: \n",
      "A value is trying to be set on a copy of a slice from a DataFrame.\n",
      "Try using .loc[row_indexer,col_indexer] = value instead\n",
      "\n",
      "See the caveats in the documentation: http://pandas.pydata.org/pandas-docs/stable/user_guide/indexing.html#returning-a-view-versus-a-copy\n",
      "  phenotypes_raw[phe_id_col] = phenotypes_raw[phe_id_col].astype(str)\n"
     ]
    }
   ],
   "source": [
    "make_rqtl_input(gen_out=\"20190827_rqtl_f2_geno.csv\", phe_out=\"20190827_rqtl_f2_pheno.csv\", old_id_pheno=False, df=genotypes, phe_id_col=\"id\", phenotype=F2s)"
   ]
  },
  {
   "cell_type": "markdown",
   "metadata": {},
   "source": [
    "## Make F3_samples input"
   ]
  },
  {
   "cell_type": "code",
   "execution_count": 182,
   "metadata": {},
   "outputs": [],
   "source": [
    "F3s = nss.loc[nss[\"GENERATION\"]==\"03\"]"
   ]
  },
  {
   "cell_type": "code",
   "execution_count": 183,
   "metadata": {},
   "outputs": [],
   "source": [
    "make_rqtl_input(gen_out=\"20190827_rqtl_f3_geno.csv\", phe_out=\"20190827_rqtl_f3_pheno.csv\", old_id_pheno=False, df=genotypes, phe_id_col=\"id\", phenotype=F3s)"
   ]
  },
  {
   "cell_type": "markdown",
   "metadata": {},
   "source": [
    "### make F8_samples input"
   ]
  },
  {
   "cell_type": "code",
   "execution_count": 184,
   "metadata": {},
   "outputs": [],
   "source": [
    "F8s = nss.loc[nss[\"GENERATION\"]==\"08\"]"
   ]
  },
  {
   "cell_type": "code",
   "execution_count": 185,
   "metadata": {},
   "outputs": [],
   "source": [
    "make_rqtl_input(gen_out=\"20190827_rqtl_f8_geno.csv\", phe_out=\"20190827_rqtl_f8_pheno.csv\", old_id_pheno=False, df=genotypes, phe_id_col=\"id\", phenotype=F8s)"
   ]
  },
  {
   "cell_type": "markdown",
   "metadata": {},
   "source": [
    "## Make F15_samples input"
   ]
  },
  {
   "cell_type": "code",
   "execution_count": 186,
   "metadata": {},
   "outputs": [],
   "source": [
    "F15s = nss.loc[nss[\"GENERATION\"]==\"15\"]"
   ]
  },
  {
   "cell_type": "code",
   "execution_count": 187,
   "metadata": {},
   "outputs": [],
   "source": [
    "make_rqtl_input(gen_out=\"20190827_rqtl_f15_geno.csv\", phe_out=\"20190827_rqtl_f15_pheno.csv\", old_id_pheno=False, df=genotypes, phe_id_col=\"id\", phenotype=F15s)"
   ]
  }
 ],
 "metadata": {
  "kernelspec": {
   "display_name": "Python 3",
   "language": "python",
   "name": "python3"
  },
  "language_info": {
   "codemirror_mode": {
    "name": "ipython",
    "version": 3
   },
   "file_extension": ".py",
   "mimetype": "text/x-python",
   "name": "python",
   "nbconvert_exporter": "python",
   "pygments_lexer": "ipython3",
   "version": "3.6.7"
  }
 },
 "nbformat": 4,
 "nbformat_minor": 2
}
