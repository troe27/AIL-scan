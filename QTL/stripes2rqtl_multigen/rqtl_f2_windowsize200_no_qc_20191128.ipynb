{
 "cells": [
  {
   "cell_type": "code",
   "execution_count": 1,
   "metadata": {},
   "outputs": [
    {
     "name": "stderr",
     "output_type": "stream",
     "text": [
      "Warning message:\n",
      "“package ‘data.table’ was built under R version 3.5.2”Warning message:\n",
      "“package ‘qtl’ was built under R version 3.5.2”"
     ]
    }
   ],
   "source": [
    "library(\"data.table\")\n",
    "library(\"qtl\")"
   ]
  },
  {
   "cell_type": "code",
   "execution_count": 2,
   "metadata": {},
   "outputs": [
    {
     "name": "stderr",
     "output_type": "stream",
     "text": [
      "Warning message in file(file, \"rt\"):\n",
      "“cannot open file '/home/tilman/optimise_test/Stripes/stripes2rqtl/home/optimise_test/str2qtl_out/F2/F2_rqtl_genotypes_ws200_FilteredForBinsize1000000_FilteredForXO3removedAmb0.2.csv': No such file or directory”"
     ]
    },
    {
     "ename": "ERROR",
     "evalue": "Error in file(file, \"rt\"): cannot open the connection\n",
     "output_type": "error",
     "traceback": [
      "Error in file(file, \"rt\"): cannot open the connection\nTraceback:\n",
      "1. read.cross(format = \"csvs\", genotypes = c(-1, 0, 1, \"C\", \"D\"), \n .     dir = \"/home/tilman/optimise_test/Stripes/stripes2rqtl/home/optimise_test/str2qtl_out/F2\", \n .     genfile = \"F2_rqtl_genotypes_ws200_FilteredForBinsize1000000_FilteredForXO3removedAmb0.2.csv\", \n .     phefile = \"F2_rqtl_phenotypes_ws200_FilteredForBinsize_FilteredForXO3removedAmb0.2.csv\")",
      "2. read.cross.csvs(dir, genfile, phefile, na.strings, genotypes, \n .     estimate.map, rotate = (format == \"csvsr\"), ...)",
      "3. read.table(genfile, sep = \",\", na.strings = na.strings, colClasses = \"character\", \n .     fill = TRUE, blank.lines.skip = TRUE, comment.char = \"\", \n .     ...)",
      "4. file(file, \"rt\")"
     ]
    }
   ],
   "source": [
    "datf2 <- read.cross(format = \"csvs\",\n",
    "                    genotypes = c(-1,0,1,\"C\",\"D\"),\n",
    "                    dir = \"/home/tilman/optimise_test/Stripes/stripes2rqtl/home/optimise_test/str2qtl_out/F2\",\n",
    "                    genfile=\"F2_rqtl_genotypes_ws200_FilteredForBinsize1000000_FilteredForXO3removedAmb0.2.csv\",\n",
    "                    phefile = \"F2_rqtl_phenotypes_ws200_FilteredForBinsize_FilteredForXO3removedAmb0.2.csv\" )"
   ]
  },
  {
   "cell_type": "code",
   "execution_count": null,
   "metadata": {},
   "outputs": [],
   "source": [
    "summary(datf2)"
   ]
  },
  {
   "cell_type": "code",
   "execution_count": null,
   "metadata": {},
   "outputs": [],
   "source": [
    "plotMissing(datf2)"
   ]
  },
  {
   "cell_type": "code",
   "execution_count": null,
   "metadata": {},
   "outputs": [],
   "source": [
    "par(mfrow=c(1,2), las=1)\n",
    "plot(ntyped(datf2), ylab=\"No. typed markers\", main=\"No. genotypes by individual\")\n",
    "plot(ntyped(datf2, \"mar\"), ylab=\"No. typed individuals\", main=\"No. genotypes by marker\")"
   ]
  },
  {
   "cell_type": "code",
   "execution_count": null,
   "metadata": {},
   "outputs": [],
   "source": [
    "nt.bymar <- ntyped(datf2, \"mar\")\n",
    "todrop <- names(nt.bymar[nt.bymar < 450]) # less than 50% of all markers\n"
   ]
  },
  {
   "cell_type": "code",
   "execution_count": null,
   "metadata": {},
   "outputs": [],
   "source": [
    "todrop"
   ]
  },
  {
   "cell_type": "code",
   "execution_count": null,
   "metadata": {},
   "outputs": [],
   "source": [
    "datf2.1 <- drop.markers(datf2, todrop)"
   ]
  },
  {
   "cell_type": "code",
   "execution_count": null,
   "metadata": {},
   "outputs": [],
   "source": [
    "par(mfrow=c(1,2), las=1)\n",
    "plot(ntyped(datf2.1), ylab=\"No. typed markers\", main=\"No. genotypes by individual\") \n",
    "plot(ntyped(datf2.1, \"mar\"), ylab=\"No. typed individuals\",main=\"No. genotypes by marker\")"
   ]
  },
  {
   "cell_type": "code",
   "execution_count": null,
   "metadata": {},
   "outputs": [],
   "source": []
  },
  {
   "cell_type": "code",
   "execution_count": null,
   "metadata": {},
   "outputs": [],
   "source": []
  },
  {
   "cell_type": "code",
   "execution_count": null,
   "metadata": {},
   "outputs": [],
   "source": [
    "datf2.2 <- subset(datf2.1, ind=(ntyped(datf2.1)>100)) # removing all individuals that have less than 10% of all markers\n"
   ]
  },
  {
   "cell_type": "code",
   "execution_count": null,
   "metadata": {},
   "outputs": [],
   "source": [
    "length(ntyped(datf2.1, \"ind\"))\n",
    "length(ntyped(datf2.2, \"ind\"))"
   ]
  },
  {
   "cell_type": "code",
   "execution_count": null,
   "metadata": {},
   "outputs": [],
   "source": [
    "par(mfrow=c(1,2), las=1)\n",
    "plot(ntyped(datf2.2), ylab=\"No. typed markers\", main=\"No. genotypes by individual\") \n",
    "plot(ntyped(datf2.2, \"mar\"), ylab=\"No. typed individuals\",main=\"No. genotypes by marker\")"
   ]
  },
  {
   "cell_type": "code",
   "execution_count": null,
   "metadata": {},
   "outputs": [],
   "source": [
    "summary(datf2.2)"
   ]
  },
  {
   "cell_type": "code",
   "execution_count": null,
   "metadata": {},
   "outputs": [],
   "source": [
    "cg <- comparegeno(datf2.2)"
   ]
  },
  {
   "cell_type": "code",
   "execution_count": null,
   "metadata": {},
   "outputs": [],
   "source": [
    "hist(cg[lower.tri(cg)], breaks=seq(0, 1, len=101), xlab=\"No. matching genotypes\") \n",
    "rug(cg[lower.tri(cg)])"
   ]
  },
  {
   "cell_type": "code",
   "execution_count": null,
   "metadata": {},
   "outputs": [],
   "source": [
    "wh <- which(cg > 0.9, arr=TRUE)\n",
    "wh <- wh[wh[,1] < wh[,2],]"
   ]
  },
  {
   "cell_type": "code",
   "execution_count": null,
   "metadata": {},
   "outputs": [],
   "source": [
    "wh"
   ]
  },
  {
   "cell_type": "code",
   "execution_count": null,
   "metadata": {},
   "outputs": [],
   "source": [
    "print(dup <- findDupMarkers(datf2.2, exact.only=FALSE))"
   ]
  },
  {
   "cell_type": "code",
   "execution_count": null,
   "metadata": {},
   "outputs": [],
   "source": [
    "gt <- geno.table(datf2.2)"
   ]
  },
  {
   "cell_type": "code",
   "execution_count": null,
   "metadata": {},
   "outputs": [],
   "source": [
    "gt[gt$P.value < 0.05/totmar(datf2.2),]\n",
    "todrop <- rownames(gt[gt$P.value < 0.05/totmar(datf2.2),])\n",
    "datf2.3 <- drop.markers(datf2.2, todrop)"
   ]
  },
  {
   "cell_type": "code",
   "execution_count": null,
   "metadata": {},
   "outputs": [],
   "source": [
    "length(todrop)"
   ]
  },
  {
   "cell_type": "code",
   "execution_count": null,
   "metadata": {},
   "outputs": [],
   "source": [
    "datf2.3 <- datf2.2"
   ]
  },
  {
   "cell_type": "code",
   "execution_count": null,
   "metadata": {},
   "outputs": [],
   "source": [
    "g <- pull.geno(datf2.2)\n",
    "gfreq <- apply(g, 1, function(a) table(factor(a, levels=1:3)))\n",
    "gfreq <- t(t(gfreq) / colSums(gfreq))\n",
    "par(mfrow=c(1,3), las=1)\n",
    "for(i in 1:3) plot(gfreq[i,], ylab=\"Genotype frequency\", main=c(\"AA\", \"AB\", \"BB\")[i], ylim=c(0,1))"
   ]
  },
  {
   "cell_type": "code",
   "execution_count": null,
   "metadata": {},
   "outputs": [],
   "source": [
    "g <- pull.geno(datf2.3)\n",
    "gfreq <- apply(g, 1, function(a) table(factor(a, levels=1:3)))\n",
    "gfreq <- t(t(gfreq) / colSums(gfreq))\n",
    "par(mfrow=c(1,3), las=1)\n",
    "for(i in 1:3) plot(gfreq[i,], ylab=\"Genotype frequency\", main=c(\"AA\", \"AB\", \"BB\")[i], ylim=c(0,1))"
   ]
  },
  {
   "cell_type": "code",
   "execution_count": null,
   "metadata": {},
   "outputs": [],
   "source": [
    "id_gtfreq <- which(gfreq[1,]<0.5 & gfreq[2,]<0.65 & gfreq[2,]>0.35 & gfreq[3,]<0.5)"
   ]
  },
  {
   "cell_type": "code",
   "execution_count": null,
   "metadata": {},
   "outputs": [],
   "source": []
  },
  {
   "cell_type": "code",
   "execution_count": null,
   "metadata": {},
   "outputs": [],
   "source": [
    "datf2.4 <- subset(datf2.3, ind=(id_gtfreq))"
   ]
  },
  {
   "cell_type": "code",
   "execution_count": null,
   "metadata": {},
   "outputs": [],
   "source": [
    "datf2.4 <- datf2.3"
   ]
  },
  {
   "cell_type": "code",
   "execution_count": null,
   "metadata": {},
   "outputs": [],
   "source": [
    "g <- pull.geno(datf2.4)\n",
    "gfreq <- apply(g, 1, function(a) table(factor(a, levels=1:3)))\n",
    "gfreq <- t(t(gfreq) / colSums(gfreq))\n",
    "par(mfrow=c(1,3), las=1)\n",
    "for(i in 1:3) plot(gfreq[i,], ylab=\"Genotype frequency\", main=c(\"AA\", \"AB\", \"BB\")[i], ylim=c(0,1))"
   ]
  },
  {
   "cell_type": "code",
   "execution_count": null,
   "metadata": {},
   "outputs": [],
   "source": [
    "datf2.4 <- est.rf(datf2.4)\n",
    "datf2.4_tst <- markerlrt(datf2.4)"
   ]
  },
  {
   "cell_type": "code",
   "execution_count": null,
   "metadata": {},
   "outputs": [],
   "source": [
    "rf <- pull.rf(datf2.4)\n",
    "lod <- pull.rf(datf2.4, what=\"lod\")\n",
    "plot(as.numeric(rf), as.numeric(lod), xlab=\"Recombination fraction\", ylab=\"LOD score\")"
   ]
  },
  {
   "cell_type": "code",
   "execution_count": null,
   "metadata": {},
   "outputs": [],
   "source": [
    "plotRF(datf2.4, alternate.chrid=TRUE)"
   ]
  },
  {
   "cell_type": "code",
   "execution_count": null,
   "metadata": {},
   "outputs": [],
   "source": [
    "genmap <- est.map(datf2.4, error.prob=0.005)"
   ]
  },
  {
   "cell_type": "code",
   "execution_count": null,
   "metadata": {},
   "outputs": [],
   "source": [
    "summaryMap(genmap)"
   ]
  },
  {
   "cell_type": "code",
   "execution_count": null,
   "metadata": {},
   "outputs": [],
   "source": [
    "plotMap(genmap)"
   ]
  },
  {
   "cell_type": "code",
   "execution_count": null,
   "metadata": {},
   "outputs": [],
   "source": [
    "genmap"
   ]
  },
  {
   "cell_type": "code",
   "execution_count": null,
   "metadata": {},
   "outputs": [],
   "source": [
    "datf2.4 <- replace.map(datf2.4, genmap)"
   ]
  },
  {
   "cell_type": "code",
   "execution_count": null,
   "metadata": {},
   "outputs": [],
   "source": []
  },
  {
   "cell_type": "code",
   "execution_count": null,
   "metadata": {},
   "outputs": [],
   "source": [
    "plot(countXO(datf2.4), ylab=\"Number of crossovers\")\n",
    "hist(countXO(datf2.4), ylab=\"Number of crossovers\")\n",
    "mean(countXO(datf2.4), ylab=\"Number of crossovers\")\n"
   ]
  },
  {
   "cell_type": "code",
   "execution_count": null,
   "metadata": {},
   "outputs": [],
   "source": [
    "datf2.5 <- datf2.4"
   ]
  },
  {
   "cell_type": "code",
   "execution_count": null,
   "metadata": {},
   "outputs": [],
   "source": [
    "plotPheno(datf2.5, pheno.col =2 )"
   ]
  },
  {
   "cell_type": "code",
   "execution_count": null,
   "metadata": {},
   "outputs": [],
   "source": [
    "#plotMissing(datf2.5, reorder=TRUE)"
   ]
  },
  {
   "cell_type": "code",
   "execution_count": null,
   "metadata": {},
   "outputs": [],
   "source": [
    "datf2.5 <- calc.genoprob(datf2.5, step=1)"
   ]
  },
  {
   "cell_type": "code",
   "execution_count": null,
   "metadata": {},
   "outputs": [],
   "source": [
    "datf2.5 <- calc.genoprob(datf2.5, step=0, off.end = 0)\n"
   ]
  },
  {
   "cell_type": "code",
   "execution_count": null,
   "metadata": {},
   "outputs": [],
   "source": [
    "out.em <- scanone(datf2.5, pheno.col = 2)"
   ]
  },
  {
   "cell_type": "code",
   "execution_count": null,
   "metadata": {},
   "outputs": [],
   "source": [
    "plot(out.em)"
   ]
  },
  {
   "cell_type": "code",
   "execution_count": null,
   "metadata": {},
   "outputs": [],
   "source": [
    "plot(out.em,chr=1)"
   ]
  },
  {
   "cell_type": "code",
   "execution_count": null,
   "metadata": {},
   "outputs": [],
   "source": [
    "ac <- pull.pheno(datf2.5, c(\"SEX\"))"
   ]
  },
  {
   "cell_type": "code",
   "execution_count": null,
   "metadata": {},
   "outputs": [],
   "source": [
    "ac2 <- pull.pheno(datf2.5, c(\"SEX\",\"DAM\",\"SIRE\"))"
   ]
  },
  {
   "cell_type": "code",
   "execution_count": null,
   "metadata": {},
   "outputs": [],
   "source": [
    "out.acovar <- scanone(datf2.5, pheno.col = 2, addcovar=ac2)"
   ]
  },
  {
   "cell_type": "code",
   "execution_count": null,
   "metadata": {},
   "outputs": [],
   "source": [
    "plot(out.acovar, )"
   ]
  },
  {
   "cell_type": "code",
   "execution_count": null,
   "metadata": {},
   "outputs": [],
   "source": [
    "plot(out.acovar, chr=1)"
   ]
  },
  {
   "cell_type": "code",
   "execution_count": null,
   "metadata": {},
   "outputs": [],
   "source": [
    "out.acovar"
   ]
  },
  {
   "cell_type": "code",
   "execution_count": null,
   "metadata": {},
   "outputs": [],
   "source": [
    "#write.csv(out.acovar, \"20190828_out_f2_bw8_ctrlsex.csv\")"
   ]
  },
  {
   "cell_type": "code",
   "execution_count": null,
   "metadata": {},
   "outputs": [],
   "source": []
  }
 ],
 "metadata": {
  "kernelspec": {
   "display_name": "R",
   "language": "R",
   "name": "ir"
  },
  "language_info": {
   "codemirror_mode": "r",
   "file_extension": ".r",
   "mimetype": "text/x-r-source",
   "name": "R",
   "pygments_lexer": "r",
   "version": "3.5.1"
  }
 },
 "nbformat": 4,
 "nbformat_minor": 2
}
