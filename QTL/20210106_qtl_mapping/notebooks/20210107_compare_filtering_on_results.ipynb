{
 "cells": [
  {
   "cell_type": "code",
   "execution_count": 30,
   "metadata": {},
   "outputs": [],
   "source": [
    "library(\"data.table\")\n",
    "library(\"qtl\")"
   ]
  },
  {
   "cell_type": "code",
   "execution_count": 2,
   "metadata": {},
   "outputs": [],
   "source": [
    "load('../../20200707_qtl_mapping/scripts/20201125_rqtl_all_precorr_perm.Rdata')"
   ]
  },
  {
   "cell_type": "code",
   "execution_count": null,
   "metadata": {},
   "outputs": [],
   "source": []
  },
  {
   "cell_type": "code",
   "execution_count": 11,
   "metadata": {},
   "outputs": [],
   "source": [
    "old_out = out.hk.AC"
   ]
  },
  {
   "cell_type": "code",
   "execution_count": 12,
   "metadata": {},
   "outputs": [],
   "source": [
    "load('../scripts/20210107_qtl_mapping_xo_nomiss_with_map_and_results.Rdata')"
   ]
  },
  {
   "cell_type": "code",
   "execution_count": 13,
   "metadata": {},
   "outputs": [],
   "source": [
    "filtered_output = out.hk.AC\n",
    "filtered_sig = out.hk.ac.perm\n",
    "filtered_sug = out.hk.ac.chr4.perm"
   ]
  },
  {
   "cell_type": "code",
   "execution_count": 17,
   "metadata": {},
   "outputs": [],
   "source": [
    "load('../scripts/20210107_qtl_mapping_with_map_and_results.Rdata')"
   ]
  },
  {
   "cell_type": "code",
   "execution_count": 15,
   "metadata": {},
   "outputs": [
    {
     "data": {
      "text/plain": [
       "LOD thresholds (10000 permutations)\n",
       "     lod\n",
       "5%  3.72\n",
       "10% 3.40"
      ]
     },
     "metadata": {},
     "output_type": "display_data"
    }
   ],
   "source": [
    "summary(filtered_sig)"
   ]
  },
  {
   "cell_type": "code",
   "execution_count": 18,
   "metadata": {},
   "outputs": [
    {
     "data": {
      "text/plain": [
       "LOD thresholds (10000 permutations)\n",
       "     lod\n",
       "5%  4.01\n",
       "10% 3.66"
      ]
     },
     "metadata": {},
     "output_type": "display_data"
    }
   ],
   "source": [
    "summary(out.hk.ac.perm)"
   ]
  },
  {
   "cell_type": "code",
   "execution_count": 16,
   "metadata": {},
   "outputs": [
    {
     "data": {
      "text/plain": [
       "LOD thresholds (10000 permutations)\n",
       "     lod\n",
       "5%  2.61\n",
       "10% 2.28"
      ]
     },
     "metadata": {},
     "output_type": "display_data"
    }
   ],
   "source": [
    "summary(filtered_sug)"
   ]
  },
  {
   "cell_type": "code",
   "execution_count": 19,
   "metadata": {},
   "outputs": [
    {
     "data": {
      "text/plain": [
       "LOD thresholds (10000 permutations)\n",
       "     lod\n",
       "5%  2.86\n",
       "10% 2.55"
      ]
     },
     "metadata": {},
     "output_type": "display_data"
    }
   ],
   "source": [
    "summary(out.hk.ac.chr4.perm)"
   ]
  },
  {
   "cell_type": "markdown",
   "metadata": {},
   "source": [
    "### Thresholds\n",
    "\n",
    "#### filtered:\n",
    " - genomewide significance: **3.72**\n",
    " - chr 4 significance: **2.61**\n",
    " \n",
    "#### unfiltered:\n",
    " - genomewide significance: **4.01**\n",
    " - chr 4 significance: **2.86**"
   ]
  },
  {
   "cell_type": "code",
   "execution_count": null,
   "metadata": {},
   "outputs": [
    {
     "data": {
      "image/png": "[encoded data removed]",
      "text/plain": [
       "plot without title"
      ]
     },
     "metadata": {
      "image/png": {
       "height": 420,
       "width": 420
      }
     },
     "output_type": "display_data"
    }
   ],
   "source": [
    "chr=4\n",
    "plot(filtered_output, chr = chr)\n",
    "abline(h=2.61)\n",
    "abline(h=3.86)\n",
    "plot(out.hk.AC, chr=chr)\n",
    "abline(h=2.86)\n",
    "abline(h=4.1)"
   ]
  },
  {
   "cell_type": "markdown",
   "metadata": {},
   "source": [
    "# Conclusion: \n",
    "\n",
    "### pick the one with fewer filters! much better resolution with a conservative map expansion that is well within the expected"
   ]
  },
  {
   "cell_type": "code",
   "execution_count": null,
   "metadata": {},
   "outputs": [],
   "source": []
  }
 ],
 "metadata": {
  "kernelspec": {
   "display_name": "R",
   "language": "R",
   "name": "ir"
  },
  "language_info": {
   "codemirror_mode": "r",
   "file_extension": ".r",
   "mimetype": "text/x-r-source",
   "name": "R",
   "pygments_lexer": "r",
   "version": "3.6.3"
  }
 },
 "nbformat": 4,
 "nbformat_minor": 4
}
