{
 "cells": [
  {
   "cell_type": "code",
   "execution_count": null,
   "metadata": {},
   "outputs": [],
   "source": [
    "library('qtl')"
   ]
  },
  {
   "cell_type": "code",
   "execution_count": null,
   "metadata": {},
   "outputs": [],
   "source": [
    "#load('../scripts/20210113_Wahlberg_individ_aftergenmap.Rdata')"
   ]
  },
  {
   "cell_type": "code",
   "execution_count": null,
   "metadata": {},
   "outputs": [],
   "source": []
  },
  {
   "cell_type": "code",
   "execution_count": null,
   "metadata": {},
   "outputs": [],
   "source": [
    "load('../scripts/20210113_WBindivid_WBmark_aftergenmap.Rdata')  "
   ]
  },
  {
   "cell_type": "code",
   "execution_count": null,
   "metadata": {},
   "outputs": [],
   "source": [
    "summary(datf2.4)"
   ]
  },
  {
   "cell_type": "code",
   "execution_count": null,
   "metadata": {},
   "outputs": [],
   "source": [
    "plotPheno(datf2.4, pheno.col = 2)"
   ]
  },
  {
   "cell_type": "code",
   "execution_count": null,
   "metadata": {},
   "outputs": [],
   "source": [
    "datf2.5 <- datf2.4\n",
    "\n",
    "datf2.5 <- calc.genoprob(datf2.5, step=1)\n",
    "\n",
    "datf2.5 <- calc.genoprob(datf2.5, step=0, off.end = 0)\n",
    "\n",
    "ac <- pull.pheno(datf2.5, c(\"SEX\")) \n",
    "\n",
    "out.hk.AC <- scanone(datf2.5, pheno.col =2, addcovar=ac,  method='hk') \n"
   ]
  },
  {
   "cell_type": "code",
   "execution_count": null,
   "metadata": {},
   "outputs": [],
   "source": [
    "out.hk.AC"
   ]
  },
  {
   "cell_type": "code",
   "execution_count": null,
   "metadata": {},
   "outputs": [],
   "source": []
  },
  {
   "cell_type": "code",
   "execution_count": null,
   "metadata": {},
   "outputs": [],
   "source": [
    "chr=c(1,1)\n",
    "pos<- c(175,275)"
   ]
  },
  {
   "cell_type": "code",
   "execution_count": null,
   "metadata": {},
   "outputs": [],
   "source": [
    "qtls <- makeqtl(datf2.5, chr = chr, pos = pos, what = 'prob' )\n",
    "fit_sugg <- fitqtl(datf2.5, pheno.col = 2, qtl = qtls, get.ests=TRUE, covar = data.frame(ac))\n",
    "summary(fit_sugg)"
   ]
  },
  {
   "cell_type": "code",
   "execution_count": null,
   "metadata": {},
   "outputs": [],
   "source": []
  },
  {
   "cell_type": "code",
   "execution_count": null,
   "metadata": {},
   "outputs": [],
   "source": []
  },
  {
   "cell_type": "code",
   "execution_count": null,
   "metadata": {},
   "outputs": [],
   "source": []
  },
  {
   "cell_type": "code",
   "execution_count": null,
   "metadata": {},
   "outputs": [],
   "source": [
    "load('../scripts/20210113_Wahlberg_markers_aftergenmap.Rdata')  "
   ]
  },
  {
   "cell_type": "code",
   "execution_count": null,
   "metadata": {},
   "outputs": [],
   "source": [
    "plotPheno(datf2.4, pheno.col = 2)"
   ]
  },
  {
   "cell_type": "code",
   "execution_count": null,
   "metadata": {},
   "outputs": [],
   "source": [
    "datf2.5 <- datf2.4\n",
    "\n",
    "datf2.5 <- calc.genoprob(datf2.5, step=1)\n",
    "\n",
    "datf2.5 <- calc.genoprob(datf2.5, step=0, off.end = 0)\n",
    "\n",
    "ac <- pull.pheno(datf2.5, c(\"SEX\")) \n",
    "\n",
    "out.hk.AC <- scanone(datf2.5, pheno.col =2, addcovar=ac,  method='hk') \n"
   ]
  },
  {
   "cell_type": "code",
   "execution_count": null,
   "metadata": {},
   "outputs": [],
   "source": [
    "plot(out.hk.AC, chr=1)"
   ]
  },
  {
   "cell_type": "code",
   "execution_count": null,
   "metadata": {},
   "outputs": [],
   "source": [
    "out.hk.AC"
   ]
  },
  {
   "cell_type": "code",
   "execution_count": null,
   "metadata": {},
   "outputs": [],
   "source": [
    "chr <-c(1, 1)\n",
    "pos <-c(175,275)"
   ]
  },
  {
   "cell_type": "code",
   "execution_count": null,
   "metadata": {},
   "outputs": [],
   "source": [
    "qtls <- makeqtl(datf2.5, chr = chr, pos = pos, what = 'prob' )\n",
    "fit_sugg <- fitqtl(datf2.5, pheno.col = 2, qtl = qtls, get.ests=TRUE, covar = data.frame(ac))\n",
    "summary(fit_sugg)"
   ]
  },
  {
   "cell_type": "code",
   "execution_count": null,
   "metadata": {},
   "outputs": [],
   "source": []
  },
  {
   "cell_type": "code",
   "execution_count": null,
   "metadata": {},
   "outputs": [],
   "source": [
    "load('../scripts/20210113_Wahlberg_individ_aftergenmap.Rdata')"
   ]
  },
  {
   "cell_type": "code",
   "execution_count": null,
   "metadata": {},
   "outputs": [],
   "source": [
    "datf2.4 <- replace.map(datf2.4, genmap)\n",
    "datf2.5 <- datf2.4\n",
    "\n",
    "datf2.5 <- calc.genoprob(datf2.5, step=1)\n",
    "\n",
    "datf2.5 <- calc.genoprob(datf2.5, step=0, off.end = 0)\n",
    "\n",
    "ac <- pull.pheno(datf2.5, c(\"SEX\")) \n",
    "\n",
    "out.hk.AC <- scanone(datf2.5, pheno.col =2, addcovar=ac,  method='hk') \n"
   ]
  },
  {
   "cell_type": "code",
   "execution_count": null,
   "metadata": {},
   "outputs": [],
   "source": [
    "plot(out.hk.AC, chr=1)"
   ]
  },
  {
   "cell_type": "code",
   "execution_count": null,
   "metadata": {},
   "outputs": [],
   "source": [
    "#[out.hk.AC$chr==1,]\n",
    "out.hk.AC[1:60,]"
   ]
  },
  {
   "cell_type": "code",
   "execution_count": null,
   "metadata": {},
   "outputs": [],
   "source": [
    "chr <-c(1, 1)\n",
    "pos <-c(133.41906,201.37280)"
   ]
  },
  {
   "cell_type": "code",
   "execution_count": null,
   "metadata": {},
   "outputs": [],
   "source": [
    "qtls <- makeqtl(datf2.5, chr = chr, pos = pos, what = 'prob' )\n",
    "fit_sugg <- fitqtl(datf2.5, pheno.col = 2, qtl = qtls, get.ests=TRUE, covar = data.frame(ac))\n",
    "summary(fit_sugg)"
   ]
  },
  {
   "cell_type": "markdown",
   "metadata": {},
   "source": [
    "$1- \\beta = \\phi \\bigg(\\frac{|\\mu-\\mu_{0}|}{\\frac{\\sigma}{\\sqrt{n}}}-Z_{1-\\alpha}\\bigg)$\n",
    "\n",
    "$ n = \\bigg(\\sigma\\frac{Z_{1-\\alpha}+Z_{1-\\beta}}{\\mu-\\mu_{0}}\\bigg)^{2}$\n",
    "\n",
    "\n",
    "$$"
   ]
  },
  {
   "cell_type": "code",
   "execution_count": null,
   "metadata": {},
   "outputs": [],
   "source": [
    "mu=0.05649\n",
    "mu0=0\n",
    "sd=1\n",
    "alpha=0.05\n",
    "beta=0.51\n",
    "(n=(sd*(qnorm(1-alpha)+qnorm(1-beta))/(mu-mu0))^2)\n",
    "ceiling(n)# 143\n",
    "z=(mu-mu0)/sd*sqrt(n)\n",
    "(Power=pnorm(abs(z)-qnorm(1-alpha)))"
   ]
  },
  {
   "cell_type": "code",
   "execution_count": null,
   "metadata": {},
   "outputs": [],
   "source": [
    "mu=0.07585\n",
    "mu0=0\n",
    "sd=1\n",
    "alpha=0.05\n",
    "beta=0.2980999999\n",
    "(n=(sd*(qnorm(1-alpha)+qnorm(1-beta))/(mu-mu0))^2)\n",
    "ceiling(n)# 143\n",
    "z=(mu-mu0)/sd*sqrt(n)\n",
    "(Power=pnorm(abs(z)-qnorm(1-alpha)))"
   ]
  },
  {
   "cell_type": "markdown",
   "metadata": {},
   "source": [
    "<"
   ]
  },
  {
   "cell_type": "code",
   "execution_count": null,
   "metadata": {},
   "outputs": [],
   "source": [
    "mu=0.10172\n",
    "mu0=0\n",
    "sd=1\n",
    "alpha=0.05\n",
    "beta=0.0000154\n",
    "(n=(sd*(qnorm(1-alpha)+qnorm(1-beta))/(mu-mu0))^2)\n",
    "ceiling(n)# 143\n",
    "z=(mu-mu0)/sd*sqrt(n)\n",
    "(Power=pnorm(abs(z)-qnorm(1-alpha)))"
   ]
  },
  {
   "cell_type": "code",
   "execution_count": null,
   "metadata": {},
   "outputs": [],
   "source": [
    "3265"
   ]
  },
  {
   "cell_type": "code",
   "execution_count": null,
   "metadata": {},
   "outputs": [],
   "source": []
  }
 ],
 "metadata": {
  "kernelspec": {
   "display_name": "R",
   "language": "R",
   "name": "ir"
  },
  "language_info": {
   "codemirror_mode": "r",
   "file_extension": ".r",
   "mimetype": "text/x-r-source",
   "name": "R",
   "pygments_lexer": "r",
   "version": "3.6.3"
  }
 },
 "nbformat": 4,
 "nbformat_minor": 4
}
