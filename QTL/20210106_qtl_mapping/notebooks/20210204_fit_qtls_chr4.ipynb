{
 "cells": [
  {
   "cell_type": "code",
   "execution_count": 1,
   "metadata": {},
   "outputs": [],
   "source": [
    "library(\"data.table\")\n",
    "\n",
    "library(\"qtl\")"
   ]
  },
  {
   "cell_type": "code",
   "execution_count": 2,
   "metadata": {},
   "outputs": [],
   "source": [
    "load('../scripts/20210107_qtl_mapping_with_map_and_results.Rdata')"
   ]
  },
  {
   "cell_type": "code",
   "execution_count": 3,
   "metadata": {},
   "outputs": [
    {
     "name": "stderr",
     "output_type": "stream",
     "text": [
      "Loading required package: Matrix\n",
      "\n"
     ]
    }
   ],
   "source": [
    "library('lme4')"
   ]
  },
  {
   "cell_type": "code",
   "execution_count": 4,
   "metadata": {},
   "outputs": [],
   "source": [
    "rr = lm(formula = 'standardised_within_gen_BW8 ~ SEX', data=datf2.5$pheno)"
   ]
  },
  {
   "cell_type": "code",
   "execution_count": 5,
   "metadata": {},
   "outputs": [],
   "source": [
    "datf2.5$pheno$rnames <- as.numeric(rownames(datf2.5$pheno))"
   ]
  },
  {
   "cell_type": "code",
   "execution_count": 6,
   "metadata": {},
   "outputs": [],
   "source": [
    "rr2 <- rr$residuals"
   ]
  },
  {
   "cell_type": "code",
   "execution_count": 7,
   "metadata": {},
   "outputs": [],
   "source": [
    "rr3 <- data.frame(rr2)\n",
    "rr3$rnames = as.numeric(rownames(rr3))"
   ]
  },
  {
   "cell_type": "code",
   "execution_count": 8,
   "metadata": {},
   "outputs": [],
   "source": [
    "mm <- merge(rr3, datf2.5$pheno, by.x = 'rnames', by.y = 'rnames', all.y =TRUE, sort =TRUE)"
   ]
  },
  {
   "cell_type": "code",
   "execution_count": 9,
   "metadata": {},
   "outputs": [],
   "source": [
    "mm2 <- mm[c('id','standardised_within_gen_BW8','GENERATION','SEX','rr2')]"
   ]
  },
  {
   "cell_type": "code",
   "execution_count": 10,
   "metadata": {},
   "outputs": [],
   "source": [
    "datf2.5$pheno <- mm2"
   ]
  },
  {
   "cell_type": "code",
   "execution_count": null,
   "metadata": {},
   "outputs": [],
   "source": []
  },
  {
   "cell_type": "code",
   "execution_count": 11,
   "metadata": {},
   "outputs": [],
   "source": [
    "chr <- c(1,1,2,2,3,3,4,4,4,4,5,5,5,6,7,7,9,11,11,13,14,15,15,16,27)\n",
    "pos <- c(188.9829,668.4552,370.8326,440.0864,94.51839,193.3126,77.41282,142.361,211.6355,333.8777,3.204095,29.22567,111.046,170.0114,11.02197,65.69265,9.993726,69.06243,126.179,13.80757,71.27434,45.68431,86.39202,32.6762,48.16608)\n",
    "lodcol <- c(5.788269,13.07721,2.96277,3.650889,2.866554,5.407797,5.294376,6.003176,8.204628,3.829125,2.950286,3.221471,3.795073,5.224698,3.041963,9.599053,2.929758,7.249468,3.859438,4.223388,5.826027,3.408038,3.148899,3.231298,4.317746)\n",
    "qtl_markers <- c('1-56','1-171','2-99','2-113','3-35','3-74','4-11','4-23','4-36','4-70','5-1','5-10','5-34','6-30','7-4','7-21','9-4','11-9','11-21','13-7','14-12','15-6','15-16','16-11','27-6')\n"
   ]
  },
  {
   "cell_type": "code",
   "execution_count": 12,
   "metadata": {},
   "outputs": [],
   "source": [
    "dt <-data.table(chr)\n",
    "dt$pos <- pos\n",
    "dt$lod <- lodcol\n",
    "dt$mrk <- qtl_markers"
   ]
  },
  {
   "cell_type": "code",
   "execution_count": 13,
   "metadata": {},
   "outputs": [
    {
     "name": "stderr",
     "output_type": "stream",
     "text": [
      "Warning message in getsex(cross):\n",
      "“Sex column should be coded as 0=female 1=male; sex ignored.”\n",
      "Warning message in fitqtl(datf2.5, pheno.col = 2, qtl = qtl_4, get.ests = TRUE, :\n",
      "“The qtl object doesn't contain imputations; using method=\"hk\".”\n",
      "Warning message in fitqtlengine(pheno = pheno, qtl = qtl, covar = covar, formula = formula, :\n",
      "“Dropping 61 individuals with missing phenotypes.\n",
      "”\n",
      "Warning message in getsex(cross):\n",
      "“Sex column should be coded as 0=female 1=male; sex ignored.”\n"
     ]
    },
    {
     "data": {
      "text/plain": [
       "\n",
       "\t\tfitqtl summary\n",
       "\n",
       "Method: Haley-Knott regression \n",
       "Model:  normal phenotype\n",
       "Number of observations : 3266 \n",
       "\n",
       "Full model result\n",
       "----------------------------------  \n",
       "Model formula: y ~ Q1 + Q2 + Q3 + Q4 + ac \n",
       "\n",
       "        df        SS         MS      LOD     %var Pvalue(Chi2) Pvalue(F)\n",
       "Model    9  642.4789 71.3865395 160.2007 20.21928            0         0\n",
       "Error 3256 2535.0765  0.7785861                                         \n",
       "Total 3265 3177.5554                                                    \n",
       "\n",
       "\n",
       "Drop one QTL at a time ANOVA table: \n",
       "----------------------------------  \n",
       "        df Type III SS     LOD    %var F value Pvalue(Chi2) Pvalue(F)    \n",
       "4@77.4   2       12.47   3.481  0.3925   8.010        0.000  0.000339 ***\n",
       "4@142.4  2        5.53   1.545  0.1740   3.551        0.028  0.028793 *  \n",
       "4@211.6  2       16.95   4.725  0.5333  10.882        0.000  1.95e-05 ***\n",
       "4@333.9  2       10.90   3.042  0.3429   6.997        0.001  0.000928 ***\n",
       "ac       1      578.48 145.771 18.2053 742.991        0.000   < 2e-16 ***\n",
       "---\n",
       "Signif. codes:  0 ‘***’ 0.001 ‘**’ 0.01 ‘*’ 0.05 ‘.’ 0.1 ‘ ’ 1\n",
       "\n",
       "\n",
       "Estimated effects:\n",
       "-----------------\n",
       "               est       SE       t\n",
       "Intercept  1.28485  0.04991  25.741\n",
       "ac        -0.84471  0.03099 -27.258\n",
       "4@77.4a    0.08838  0.02527   3.498\n",
       "4@77.4d    0.04550  0.03509   1.297\n",
       "4@142.4a   0.05376  0.02403   2.237\n",
       "4@142.4d  -0.05635  0.03277  -1.720\n",
       "4@211.6a   0.11322  0.02428   4.664\n",
       "4@211.6d  -0.03735  0.03283  -1.138\n",
       "4@333.9a   0.06978  0.02189   3.188\n",
       "4@333.9d  -0.06611  0.03276  -2.018\n"
      ]
     },
     "metadata": {},
     "output_type": "display_data"
    }
   ],
   "source": [
    "chr4_sugg <- dt[dt$chr==4]$chr\n",
    "pos4_sugg <- dt[dt$chr==4]$pos\n",
    "qtl_4 <- makeqtl(datf2.5, chr = chr4_sugg, pos = pos4_sugg, what = 'prob' )\n",
    "fit_4 <- fitqtl(datf2.5, pheno.col = 2, qtl = qtl_4, get.ests=TRUE, covar=data.frame(ac))\n",
    "summary(fit_4)"
   ]
  },
  {
   "cell_type": "code",
   "execution_count": null,
   "metadata": {},
   "outputs": [],
   "source": []
  },
  {
   "cell_type": "code",
   "execution_count": 14,
   "metadata": {},
   "outputs": [
    {
     "name": "stderr",
     "output_type": "stream",
     "text": [
      "Warning message in getsex(cross):\n",
      "“Sex column should be coded as 0=female 1=male; sex ignored.”\n",
      "Warning message in fitqtl(datf2.5, pheno.col = 2, qtl = qtl_7, get.ests = TRUE, :\n",
      "“The qtl object doesn't contain imputations; using method=\"hk\".”\n",
      "Warning message in fitqtlengine(pheno = pheno, qtl = qtl, covar = covar, formula = formula, :\n",
      "“Dropping 61 individuals with missing phenotypes.\n",
      "”\n",
      "Warning message in getsex(cross):\n",
      "“Sex column should be coded as 0=female 1=male; sex ignored.”\n"
     ]
    },
    {
     "data": {
      "text/plain": [
       "\n",
       "\t\tfitqtl summary\n",
       "\n",
       "Method: Haley-Knott regression \n",
       "Model:  normal phenotype\n",
       "Number of observations : 3266 \n",
       "\n",
       "Full model result\n",
       "----------------------------------  \n",
       "Model formula: y ~ Q1 + Q2 + ac \n",
       "\n",
       "        df        SS          MS      LOD     %var Pvalue(Chi2) Pvalue(F)\n",
       "Model    5  622.3611 124.4722144 154.5948 19.58616            0         0\n",
       "Error 3260 2555.1943   0.7838019                                         \n",
       "Total 3265 3177.5554                                                     \n",
       "\n",
       "\n",
       "Drop one QTL at a time ANOVA table: \n",
       "----------------------------------  \n",
       "       df Type III SS     LOD    %var F value Pvalue(Chi2) Pvalue(F)    \n",
       "7@11.0  2       7.795   2.160  0.2453   4.973        0.007   0.00698 ** \n",
       "7@65.7  2      31.602   8.717  0.9945  20.159        0.000  1.99e-09 ***\n",
       "ac      1     574.291 143.784 18.0734 732.699        0.000   < 2e-16 ***\n",
       "---\n",
       "Signif. codes:  0 ‘***’ 0.001 ‘**’ 0.01 ‘*’ 0.05 ‘.’ 0.1 ‘ ’ 1\n",
       "\n",
       "\n",
       "Estimated effects:\n",
       "-----------------\n",
       "                est        SE       t\n",
       "Intercept  1.262042  0.050111  25.185\n",
       "ac        -0.840470  0.031050 -27.068\n",
       "7@11.0a   -0.003271  0.024212  -0.135\n",
       "7@11.0d    0.104516  0.034335   3.044\n",
       "7@65.7a    0.140168  0.022762   6.158\n",
       "7@65.7d    0.046971  0.032954   1.425\n"
      ]
     },
     "metadata": {},
     "output_type": "display_data"
    }
   ],
   "source": [
    "chr7_sugg <- dt[dt$chr==7]$chr\n",
    "pos7_sugg <- dt[dt$chr==7]$pos\n",
    "qtl_7 <- makeqtl(datf2.5, chr = chr7_sugg, pos = pos7_sugg, what = 'prob' )\n",
    "fit_7 <- fitqtl(datf2.5, pheno.col = 2, qtl = qtl_7, get.ests=TRUE, covar=data.frame(ac))\n",
    "summary(fit_7)"
   ]
  },
  {
   "cell_type": "code",
   "execution_count": null,
   "metadata": {},
   "outputs": [],
   "source": []
  },
  {
   "cell_type": "code",
   "execution_count": null,
   "metadata": {},
   "outputs": [],
   "source": []
  },
  {
   "cell_type": "code",
   "execution_count": null,
   "metadata": {},
   "outputs": [],
   "source": []
  },
  {
   "cell_type": "code",
   "execution_count": null,
   "metadata": {},
   "outputs": [],
   "source": []
  },
  {
   "cell_type": "code",
   "execution_count": null,
   "metadata": {},
   "outputs": [],
   "source": []
  },
  {
   "cell_type": "code",
   "execution_count": null,
   "metadata": {},
   "outputs": [],
   "source": []
  },
  {
   "cell_type": "code",
   "execution_count": null,
   "metadata": {},
   "outputs": [],
   "source": [
    "plotPheno(datf2.5, pheno.col = 2)"
   ]
  },
  {
   "cell_type": "code",
   "execution_count": null,
   "metadata": {},
   "outputs": [],
   "source": [
    "plotPheno(datf2.5, pheno.col = 5)"
   ]
  },
  {
   "cell_type": "code",
   "execution_count": null,
   "metadata": {},
   "outputs": [],
   "source": []
  },
  {
   "cell_type": "code",
   "execution_count": null,
   "metadata": {},
   "outputs": [],
   "source": [
    "chr_sig = dt[dt$lod>=4.01]$chr\n",
    "pos_sig = dt[dt$lod>=4.01]$pos"
   ]
  },
  {
   "cell_type": "code",
   "execution_count": null,
   "metadata": {},
   "outputs": [],
   "source": [
    "qtl_sig_resid <- makeqtl(datf2.5, chr = chr_sig, pos = pos_sig, what = 'prob' )\n",
    "fit_sig_resid <- fitqtl(datf2.5, pheno.col = 5, qtl = qtl_sig_resid, get.ests=TRUE)\n",
    "summary(fit_sig_resid)"
   ]
  },
  {
   "cell_type": "code",
   "execution_count": null,
   "metadata": {},
   "outputs": [],
   "source": [
    "qtl_sug_resid <- makeqtl(datf2.5, chr = chr, pos = pos, what = 'prob' )\n",
    "fit_sug_resid <- fitqtl(datf2.5, pheno.col = 5, qtl = qtl_sug_resid, get.ests=TRUE)\n",
    "summary(fit_sug_resid)"
   ]
  },
  {
   "cell_type": "code",
   "execution_count": null,
   "metadata": {},
   "outputs": [],
   "source": [
    "qtl_sig <- makeqtl(datf2.5, chr = chr_sig, pos = pos_sig, what = 'prob' )\n",
    "fit_sig <- fitqtl(datf2.5, pheno.col = 2, qtl = qtl_sig, get.ests=TRUE, covar = data.frame(ac))\n",
    "summary(fit_sig)"
   ]
  },
  {
   "cell_type": "code",
   "execution_count": null,
   "metadata": {},
   "outputs": [],
   "source": [
    "25.04869 - 17.79975"
   ]
  },
  {
   "cell_type": "code",
   "execution_count": null,
   "metadata": {},
   "outputs": [],
   "source": [
    "sum(fit_sig$result.drop[,4])-17.79975"
   ]
  },
  {
   "cell_type": "code",
   "execution_count": null,
   "metadata": {},
   "outputs": [],
   "source": [
    "qtls <- makeqtl(datf2.5, chr = chr, pos = pos, what = 'prob' )"
   ]
  },
  {
   "cell_type": "code",
   "execution_count": null,
   "metadata": {},
   "outputs": [],
   "source": [
    "fit_sugg <- fitqtl(datf2.5, pheno.col = 2, qtl = qtls, get.ests=TRUE, covar = data.frame(ac))"
   ]
  },
  {
   "cell_type": "code",
   "execution_count": null,
   "metadata": {},
   "outputs": [],
   "source": [
    "summary(fit_sugg)"
   ]
  },
  {
   "cell_type": "code",
   "execution_count": null,
   "metadata": {},
   "outputs": [],
   "source": [
    "sum(fit_sugg$result.drop[,4])-13.207806"
   ]
  },
  {
   "cell_type": "code",
   "execution_count": null,
   "metadata": {},
   "outputs": [],
   "source": [
    "27.27629- 13.207806"
   ]
  },
  {
   "cell_type": "code",
   "execution_count": null,
   "metadata": {},
   "outputs": [],
   "source": [
    "#sex\n",
    "13.207806\n",
    "\n",
    "100-27.27629\n",
    "#expl\n",
    "27.27629\n",
    "\n",
    "#expl no sex \n",
    "27.27629 -13.207806\n",
    "\n",
    "72.72371+13.207806"
   ]
  },
  {
   "cell_type": "code",
   "execution_count": null,
   "metadata": {},
   "outputs": [],
   "source": [
    "14.068484/100\n",
    "85.931516/100"
   ]
  },
  {
   "cell_type": "code",
   "execution_count": null,
   "metadata": {},
   "outputs": [],
   "source": [
    "(0.14068484/0.85931516)*100"
   ]
  },
  {
   "cell_type": "code",
   "execution_count": null,
   "metadata": {},
   "outputs": [],
   "source": [
    "chrom <- chr\n",
    "for (qtl in seq(1,length(chrom))){\n",
    "    curr_chrom <- chrom[qtl]\n",
    "    curr_pos <- pos[qtl]\n",
    "    qtls <- makeqtl(datf2.5, chr = curr_chrom, pos = curr_pos, what = 'prob')\n",
    "    fit_sugg <- fitqtl(datf2.5, pheno.col = 2, qtl = qtls, covar = data.frame(ac),  get.ests=TRUE, method = 'hk')\n",
    "    print(summary(fit_sugg))\n",
    "}"
   ]
  },
  {
   "cell_type": "code",
   "execution_count": null,
   "metadata": {},
   "outputs": [],
   "source": []
  }
 ],
 "metadata": {
  "kernelspec": {
   "display_name": "R",
   "language": "R",
   "name": "ir"
  },
  "language_info": {
   "codemirror_mode": "r",
   "file_extension": ".r",
   "mimetype": "text/x-r-source",
   "name": "R",
   "pygments_lexer": "r",
   "version": "3.6.3"
  }
 },
 "nbformat": 4,
 "nbformat_minor": 4
}
