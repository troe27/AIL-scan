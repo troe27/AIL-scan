{
 "cells": [
  {
   "cell_type": "code",
   "execution_count": 2,
   "metadata": {},
   "outputs": [],
   "source": [
    "import pandas as pd\n",
    "import numpy as np"
   ]
  },
  {
   "cell_type": "code",
   "execution_count": 22,
   "metadata": {},
   "outputs": [],
   "source": [
    "import statsmodels.api as sm\n",
    "import statsmodels.formula.api as smf"
   ]
  },
  {
   "cell_type": "code",
   "execution_count": 123,
   "metadata": {},
   "outputs": [],
   "source": [
    "import matplotlib.pyplot as plt"
   ]
  },
  {
   "cell_type": "code",
   "execution_count": 18,
   "metadata": {},
   "outputs": [],
   "source": [
    "# get markers\n",
    "qtl_markers = '''1-56,1-171,2-99,2-113,3-35,3-74,4-11,4-23,4-36,4-70,5-1,5-10,5-34,6-30,7-4,7-21,9-4,11-9,11-21,13-7,14-12,15-6,15-16,16-11,27-6'''.split(',')\n",
    "qtl_markers = ['mrk_'+'_'.join(i.split('-'))for i in qtl_markers]"
   ]
  },
  {
   "cell_type": "code",
   "execution_count": 5,
   "metadata": {},
   "outputs": [],
   "source": [
    "crosspath = '../data/20210128_rqtl_cross.csv'"
   ]
  },
  {
   "cell_type": "code",
   "execution_count": 36,
   "metadata": {},
   "outputs": [],
   "source": [
    "cross = pd.read_csv(crosspath, low_memory=False)\n",
    "cross = cross.drop([0,1])\n",
    "cross = cross.reset_index()\n",
    "cross = cross.replace('AA', -1)\n",
    "cross = cross.replace('AB', 0)\n",
    "cross = cross.replace('BB', 1)\n",
    "cross = cross.replace('-', np.nan)\n",
    "cross.GENERATION = ['F'+str(i) for i in cross.GENERATION]\n",
    "cross = cross.loc[cross.standardised_within_gen_BW8.isna()==False]\n",
    "cross.standardised_within_gen_BW8 = cross.standardised_within_gen_BW8.astype(float)\n",
    "cross.SEX = cross.SEX.astype(str)\n",
    "\n",
    "cnew = []\n",
    "for i in cross.columns:\n",
    "    if '-' in i:\n",
    "        ni = 'mrk_'+'_'.join(i.split('-'))\n",
    "    else:\n",
    "        ni = i\n",
    "    cnew.append(ni)\n",
    "        \n",
    "        \n",
    "cross.columns = cnew"
   ]
  },
  {
   "cell_type": "code",
   "execution_count": 37,
   "metadata": {},
   "outputs": [],
   "source": [
    "cross_markers = [i for i in cross.columns if i.startswith('mrk')]"
   ]
  },
  {
   "cell_type": "code",
   "execution_count": 38,
   "metadata": {},
   "outputs": [],
   "source": [
    "qtl_geno = cross[['standardised_within_gen_BW8', 'SEX']+qtl_markers]"
   ]
  },
  {
   "cell_type": "code",
   "execution_count": 55,
   "metadata": {},
   "outputs": [],
   "source": [
    "lm_sex = smf.ols('standardised_within_gen_BW8 ~ SEX'.format(markers='+'.join(qtl_markers)), data=qtl_geno,)\n",
    "lm_sexf = lm_sex.fit()"
   ]
  },
  {
   "cell_type": "code",
   "execution_count": 107,
   "metadata": {},
   "outputs": [],
   "source": [
    "lm_joint= smf.ols('standardised_within_gen_BW8 ~ {markers}+SEX'.format(markers='+'.join(qtl_markers)), data=qtl_geno,)\n",
    "lm_jointf = lm_joint.fit()"
   ]
  },
  {
   "cell_type": "code",
   "execution_count": 111,
   "metadata": {},
   "outputs": [
    {
     "data": {
      "text/plain": [
       "0.20776764926669622"
      ]
     },
     "execution_count": 111,
     "metadata": {},
     "output_type": "execute_result"
    }
   ],
   "source": [
    "sexresid - np.var(lm_jointf.resid)"
   ]
  },
  {
   "cell_type": "code",
   "execution_count": 112,
   "metadata": {},
   "outputs": [
    {
     "data": {
      "text/plain": [
       "0.2611975564512896"
      ]
     },
     "execution_count": 112,
     "metadata": {},
     "output_type": "execute_result"
    }
   ],
   "source": [
    "0.20776764926669622/sexresid"
   ]
  },
  {
   "cell_type": "code",
   "execution_count": 57,
   "metadata": {},
   "outputs": [
    {
     "name": "stdout",
     "output_type": "stream",
     "text": [
      "                                 OLS Regression Results                                \n",
      "=======================================================================================\n",
      "Dep. Variable:     standardised_within_gen_BW8   R-squared:                       0.182\n",
      "Model:                                     OLS   Adj. R-squared:                  0.182\n",
      "Method:                          Least Squares   F-statistic:                     728.3\n",
      "Date:                         Thu, 28 Jan 2021   Prob (F-statistic):          5.83e-145\n",
      "Time:                                 15:03:37   Log-Likelihood:                -4260.5\n",
      "No. Observations:                         3266   AIC:                             8525.\n",
      "Df Residuals:                             3264   BIC:                             8537.\n",
      "Df Model:                                    1                                         \n",
      "Covariance Type:                     nonrobust                                         \n",
      "==============================================================================\n",
      "                 coef    std err          t      P>|t|      [0.025      0.975]\n",
      "------------------------------------------------------------------------------\n",
      "Intercept      0.4131      0.023     18.200      0.000       0.369       0.458\n",
      "SEX[T.2]      -0.8438      0.031    -26.986      0.000      -0.905      -0.782\n",
      "==============================================================================\n",
      "Omnibus:                       10.075   Durbin-Watson:                   1.942\n",
      "Prob(Omnibus):                  0.006   Jarque-Bera (JB):               10.500\n",
      "Skew:                          -0.105   Prob(JB):                      0.00525\n",
      "Kurtosis:                       3.181   Cond. No.                         2.69\n",
      "==============================================================================\n",
      "\n",
      "Warnings:\n",
      "[1] Standard Errors assume that the covariance matrix of the errors is correctly specified.\n"
     ]
    }
   ],
   "source": [
    "print(lm_sexf.summary())"
   ]
  },
  {
   "cell_type": "code",
   "execution_count": 63,
   "metadata": {},
   "outputs": [],
   "source": [
    "#residual variance after fitting sex on the gen-standardised pheno\n",
    "sexresid = np.var(lm_sexf.resid)"
   ]
  },
  {
   "cell_type": "code",
   "execution_count": 70,
   "metadata": {},
   "outputs": [
    {
     "data": {
      "text/plain": [
       "2681.0"
      ]
     },
     "execution_count": 70,
     "metadata": {},
     "output_type": "execute_result"
    }
   ],
   "source": [
    "lmf.df_resid"
   ]
  },
  {
   "cell_type": "code",
   "execution_count": null,
   "metadata": {},
   "outputs": [],
   "source": []
  },
  {
   "cell_type": "code",
   "execution_count": null,
   "metadata": {},
   "outputs": [],
   "source": []
  },
  {
   "cell_type": "code",
   "execution_count": 73,
   "metadata": {},
   "outputs": [
    {
     "name": "stdout",
     "output_type": "stream",
     "text": [
      "0.8009431007731378\n",
      "2842.0\n",
      "-0.0055005549488528205\n",
      "0.7671373300315335\n",
      "2825.0\n",
      "0.02830521579275147\n",
      "0.7826373238851998\n",
      "2931.0\n",
      "0.012805221939085176\n",
      "0.7950906519810844\n",
      "2973.0\n",
      "0.00035189384320055694\n",
      "0.7935843898133099\n",
      "2677.0\n",
      "0.001858156010975054\n",
      "0.7942541566029186\n",
      "2978.0\n",
      "0.001188389221366326\n",
      "0.7792676830109916\n",
      "2587.0\n",
      "0.01617486281329339\n",
      "0.7878120065959406\n",
      "3031.0\n",
      "0.007630539228344335\n",
      "0.7847451673500451\n",
      "3068.0\n",
      "0.010697378474239905\n",
      "0.7909606546181766\n",
      "2769.0\n",
      "0.004481891206108424\n",
      "0.7928085999933545\n",
      "2966.0\n",
      "0.002633945830930462\n",
      "0.7878236303170592\n",
      "2649.0\n",
      "0.007618915507225821\n",
      "0.7880764044487206\n",
      "2946.0\n",
      "0.00736614137556435\n",
      "0.7828445472093066\n",
      "2647.0\n",
      "0.012597998614978345\n",
      "0.792978288149044\n",
      "2838.0\n",
      "0.002464257675240944\n",
      "0.7834057481121414\n",
      "2790.0\n",
      "0.01203679771214361\n",
      "0.7827852287759943\n",
      "2620.0\n",
      "0.01265731704829065\n",
      "0.7933301326291393\n",
      "2764.0\n",
      "0.002112413195145657\n",
      "0.7835254379775953\n",
      "2742.0\n",
      "0.011917107846689645\n",
      "0.7918620274212522\n",
      "2958.0\n",
      "0.003580518403032751\n",
      "0.7926297261503652\n",
      "2733.0\n",
      "0.0028128196739197753\n",
      "0.797612346377269\n",
      "2706.0\n",
      "-0.0021698005529839914\n",
      "0.7994453314102195\n",
      "2793.0\n",
      "-0.004002785585934476\n",
      "0.7808151039297543\n",
      "2817.0\n",
      "0.01462744189453069\n",
      "0.7842194673679015\n",
      "2681.0\n",
      "0.011223078456383484\n"
     ]
    }
   ],
   "source": [
    "resid_var = []\n",
    "for i in qtl_markers:\n",
    "    lm = smf.ols('standardised_within_gen_BW8 ~ {marker} + SEX'.format(marker=i), data=qtl_geno,)\n",
    "    lmf = lm.fit()\n",
    "    print(np.var(lmf.resid))\n",
    "    print(lmf.df_resid)\n",
    "\n",
    "    print(sexresid - np.var(lmf.resid))\n",
    "    resid_var.append([i,np.var(lmf.resid)])"
   ]
  },
  {
   "cell_type": "code",
   "execution_count": 76,
   "metadata": {},
   "outputs": [],
   "source": [
    "rv = pd.DataFrame(resid_var)"
   ]
  },
  {
   "cell_type": "code",
   "execution_count": 78,
   "metadata": {},
   "outputs": [],
   "source": [
    "rv.columns = ['qtlmrk', 'qtlmrk_sex_resid']"
   ]
  },
  {
   "cell_type": "code",
   "execution_count": 79,
   "metadata": {},
   "outputs": [],
   "source": [
    "rv['mrk_explained_resid'] = sexresid-rv['qtlmrk_sex_resid']"
   ]
  },
  {
   "cell_type": "code",
   "execution_count": 81,
   "metadata": {},
   "outputs": [],
   "source": [
    "rv['mrk_explained_resid_frac'] = rv['mrk_explained_resid']/sexresid"
   ]
  },
  {
   "cell_type": "code",
   "execution_count": 84,
   "metadata": {},
   "outputs": [],
   "source": [
    "rv['mrk_explained_resid_perc'] = (rv['mrk_explained_resid']/sexresid)*100"
   ]
  },
  {
   "cell_type": "code",
   "execution_count": 91,
   "metadata": {},
   "outputs": [
    {
     "data": {
      "text/plain": [
       "qtlmrk                      mrk_1_56mrk_1_171mrk_2_99mrk_2_113mrk_3_35mrk_...\n",
       "qtlmrk_sex_resid                                                      19.7106\n",
       "mrk_explained_resid                                                  0.175469\n",
       "mrk_explained_resid_frac                                             0.220593\n",
       "mrk_explained_resid_perc                                              22.0593\n",
       "dtype: object"
      ]
     },
     "execution_count": 91,
     "metadata": {},
     "output_type": "execute_result"
    }
   ],
   "source": [
    "rv.sum(axis=0)"
   ]
  },
  {
   "cell_type": "code",
   "execution_count": 100,
   "metadata": {},
   "outputs": [],
   "source": [
    "rvtot = ['TOTAL', np.nan,0.175469,0.220593,22.0593 ]"
   ]
  },
  {
   "cell_type": "code",
   "execution_count": 102,
   "metadata": {},
   "outputs": [],
   "source": [
    "rv = rv.T"
   ]
  },
  {
   "cell_type": "code",
   "execution_count": 103,
   "metadata": {},
   "outputs": [],
   "source": [
    "rv[26] = rvtot"
   ]
  },
  {
   "cell_type": "code",
   "execution_count": 104,
   "metadata": {},
   "outputs": [],
   "source": [
    "rv = rv.T"
   ]
  },
  {
   "cell_type": "code",
   "execution_count": 105,
   "metadata": {},
   "outputs": [
    {
     "data": {
      "text/html": [
       "<div>\n",
       "<style scoped>\n",
       "    .dataframe tbody tr th:only-of-type {\n",
       "        vertical-align: middle;\n",
       "    }\n",
       "\n",
       "    .dataframe tbody tr th {\n",
       "        vertical-align: top;\n",
       "    }\n",
       "\n",
       "    .dataframe thead th {\n",
       "        text-align: right;\n",
       "    }\n",
       "</style>\n",
       "<table border=\"1\" class=\"dataframe\">\n",
       "  <thead>\n",
       "    <tr style=\"text-align: right;\">\n",
       "      <th></th>\n",
       "      <th>qtlmrk</th>\n",
       "      <th>qtlmrk_sex_resid</th>\n",
       "      <th>mrk_explained_resid</th>\n",
       "      <th>mrk_explained_resid_frac</th>\n",
       "      <th>mrk_explained_resid_perc</th>\n",
       "    </tr>\n",
       "  </thead>\n",
       "  <tbody>\n",
       "    <tr>\n",
       "      <th>0</th>\n",
       "      <td>mrk_1_56</td>\n",
       "      <td>0.800943</td>\n",
       "      <td>-0.00550055</td>\n",
       "      <td>-0.00691509</td>\n",
       "      <td>-0.691509</td>\n",
       "    </tr>\n",
       "    <tr>\n",
       "      <th>1</th>\n",
       "      <td>mrk_1_171</td>\n",
       "      <td>0.767137</td>\n",
       "      <td>0.0283052</td>\n",
       "      <td>0.0355842</td>\n",
       "      <td>3.55842</td>\n",
       "    </tr>\n",
       "    <tr>\n",
       "      <th>2</th>\n",
       "      <td>mrk_2_99</td>\n",
       "      <td>0.782637</td>\n",
       "      <td>0.0128052</td>\n",
       "      <td>0.0160982</td>\n",
       "      <td>1.60982</td>\n",
       "    </tr>\n",
       "    <tr>\n",
       "      <th>3</th>\n",
       "      <td>mrk_2_113</td>\n",
       "      <td>0.795091</td>\n",
       "      <td>0.000351894</td>\n",
       "      <td>0.000442388</td>\n",
       "      <td>0.0442388</td>\n",
       "    </tr>\n",
       "    <tr>\n",
       "      <th>4</th>\n",
       "      <td>mrk_3_35</td>\n",
       "      <td>0.793584</td>\n",
       "      <td>0.00185816</td>\n",
       "      <td>0.002336</td>\n",
       "      <td>0.2336</td>\n",
       "    </tr>\n",
       "    <tr>\n",
       "      <th>5</th>\n",
       "      <td>mrk_3_74</td>\n",
       "      <td>0.794254</td>\n",
       "      <td>0.00118839</td>\n",
       "      <td>0.001494</td>\n",
       "      <td>0.1494</td>\n",
       "    </tr>\n",
       "    <tr>\n",
       "      <th>6</th>\n",
       "      <td>mrk_4_11</td>\n",
       "      <td>0.779268</td>\n",
       "      <td>0.0161749</td>\n",
       "      <td>0.0203344</td>\n",
       "      <td>2.03344</td>\n",
       "    </tr>\n",
       "    <tr>\n",
       "      <th>7</th>\n",
       "      <td>mrk_4_23</td>\n",
       "      <td>0.787812</td>\n",
       "      <td>0.00763054</td>\n",
       "      <td>0.00959282</td>\n",
       "      <td>0.959282</td>\n",
       "    </tr>\n",
       "    <tr>\n",
       "      <th>8</th>\n",
       "      <td>mrk_4_36</td>\n",
       "      <td>0.784745</td>\n",
       "      <td>0.0106974</td>\n",
       "      <td>0.0134483</td>\n",
       "      <td>1.34483</td>\n",
       "    </tr>\n",
       "    <tr>\n",
       "      <th>9</th>\n",
       "      <td>mrk_4_70</td>\n",
       "      <td>0.790961</td>\n",
       "      <td>0.00448189</td>\n",
       "      <td>0.00563446</td>\n",
       "      <td>0.563446</td>\n",
       "    </tr>\n",
       "    <tr>\n",
       "      <th>10</th>\n",
       "      <td>mrk_5_1</td>\n",
       "      <td>0.792809</td>\n",
       "      <td>0.00263395</td>\n",
       "      <td>0.0033113</td>\n",
       "      <td>0.33113</td>\n",
       "    </tr>\n",
       "    <tr>\n",
       "      <th>11</th>\n",
       "      <td>mrk_5_10</td>\n",
       "      <td>0.787824</td>\n",
       "      <td>0.00761892</td>\n",
       "      <td>0.00957821</td>\n",
       "      <td>0.957821</td>\n",
       "    </tr>\n",
       "    <tr>\n",
       "      <th>12</th>\n",
       "      <td>mrk_5_34</td>\n",
       "      <td>0.788076</td>\n",
       "      <td>0.00736614</td>\n",
       "      <td>0.00926043</td>\n",
       "      <td>0.926043</td>\n",
       "    </tr>\n",
       "    <tr>\n",
       "      <th>13</th>\n",
       "      <td>mrk_6_30</td>\n",
       "      <td>0.782845</td>\n",
       "      <td>0.012598</td>\n",
       "      <td>0.0158377</td>\n",
       "      <td>1.58377</td>\n",
       "    </tr>\n",
       "    <tr>\n",
       "      <th>14</th>\n",
       "      <td>mrk_7_4</td>\n",
       "      <td>0.792978</td>\n",
       "      <td>0.00246426</td>\n",
       "      <td>0.00309797</td>\n",
       "      <td>0.309797</td>\n",
       "    </tr>\n",
       "    <tr>\n",
       "      <th>15</th>\n",
       "      <td>mrk_7_21</td>\n",
       "      <td>0.783406</td>\n",
       "      <td>0.0120368</td>\n",
       "      <td>0.0151322</td>\n",
       "      <td>1.51322</td>\n",
       "    </tr>\n",
       "    <tr>\n",
       "      <th>16</th>\n",
       "      <td>mrk_9_4</td>\n",
       "      <td>0.782785</td>\n",
       "      <td>0.0126573</td>\n",
       "      <td>0.0159123</td>\n",
       "      <td>1.59123</td>\n",
       "    </tr>\n",
       "    <tr>\n",
       "      <th>17</th>\n",
       "      <td>mrk_11_9</td>\n",
       "      <td>0.79333</td>\n",
       "      <td>0.00211241</td>\n",
       "      <td>0.00265565</td>\n",
       "      <td>0.265565</td>\n",
       "    </tr>\n",
       "    <tr>\n",
       "      <th>18</th>\n",
       "      <td>mrk_11_21</td>\n",
       "      <td>0.783525</td>\n",
       "      <td>0.0119171</td>\n",
       "      <td>0.0149817</td>\n",
       "      <td>1.49817</td>\n",
       "    </tr>\n",
       "    <tr>\n",
       "      <th>19</th>\n",
       "      <td>mrk_13_7</td>\n",
       "      <td>0.791862</td>\n",
       "      <td>0.00358052</td>\n",
       "      <td>0.00450129</td>\n",
       "      <td>0.450129</td>\n",
       "    </tr>\n",
       "    <tr>\n",
       "      <th>20</th>\n",
       "      <td>mrk_14_12</td>\n",
       "      <td>0.79263</td>\n",
       "      <td>0.00281282</td>\n",
       "      <td>0.00353617</td>\n",
       "      <td>0.353617</td>\n",
       "    </tr>\n",
       "    <tr>\n",
       "      <th>21</th>\n",
       "      <td>mrk_15_6</td>\n",
       "      <td>0.797612</td>\n",
       "      <td>-0.0021698</td>\n",
       "      <td>-0.00272779</td>\n",
       "      <td>-0.272779</td>\n",
       "    </tr>\n",
       "    <tr>\n",
       "      <th>22</th>\n",
       "      <td>mrk_15_16</td>\n",
       "      <td>0.799445</td>\n",
       "      <td>-0.00400279</td>\n",
       "      <td>-0.00503215</td>\n",
       "      <td>-0.503215</td>\n",
       "    </tr>\n",
       "    <tr>\n",
       "      <th>23</th>\n",
       "      <td>mrk_16_11</td>\n",
       "      <td>0.780815</td>\n",
       "      <td>0.0146274</td>\n",
       "      <td>0.0183891</td>\n",
       "      <td>1.83891</td>\n",
       "    </tr>\n",
       "    <tr>\n",
       "      <th>24</th>\n",
       "      <td>mrk_27_6</td>\n",
       "      <td>0.784219</td>\n",
       "      <td>0.0112231</td>\n",
       "      <td>0.0141092</td>\n",
       "      <td>1.41092</td>\n",
       "    </tr>\n",
       "    <tr>\n",
       "      <th>26</th>\n",
       "      <td>TOTAL</td>\n",
       "      <td>NaN</td>\n",
       "      <td>0.175469</td>\n",
       "      <td>0.220593</td>\n",
       "      <td>22.0593</td>\n",
       "    </tr>\n",
       "  </tbody>\n",
       "</table>\n",
       "</div>"
      ],
      "text/plain": [
       "       qtlmrk qtlmrk_sex_resid mrk_explained_resid mrk_explained_resid_frac  \\\n",
       "0    mrk_1_56         0.800943         -0.00550055              -0.00691509   \n",
       "1   mrk_1_171         0.767137           0.0283052                0.0355842   \n",
       "2    mrk_2_99         0.782637           0.0128052                0.0160982   \n",
       "3   mrk_2_113         0.795091         0.000351894              0.000442388   \n",
       "4    mrk_3_35         0.793584          0.00185816                 0.002336   \n",
       "5    mrk_3_74         0.794254          0.00118839                 0.001494   \n",
       "6    mrk_4_11         0.779268           0.0161749                0.0203344   \n",
       "7    mrk_4_23         0.787812          0.00763054               0.00959282   \n",
       "8    mrk_4_36         0.784745           0.0106974                0.0134483   \n",
       "9    mrk_4_70         0.790961          0.00448189               0.00563446   \n",
       "10    mrk_5_1         0.792809          0.00263395                0.0033113   \n",
       "11   mrk_5_10         0.787824          0.00761892               0.00957821   \n",
       "12   mrk_5_34         0.788076          0.00736614               0.00926043   \n",
       "13   mrk_6_30         0.782845            0.012598                0.0158377   \n",
       "14    mrk_7_4         0.792978          0.00246426               0.00309797   \n",
       "15   mrk_7_21         0.783406           0.0120368                0.0151322   \n",
       "16    mrk_9_4         0.782785           0.0126573                0.0159123   \n",
       "17   mrk_11_9          0.79333          0.00211241               0.00265565   \n",
       "18  mrk_11_21         0.783525           0.0119171                0.0149817   \n",
       "19   mrk_13_7         0.791862          0.00358052               0.00450129   \n",
       "20  mrk_14_12          0.79263          0.00281282               0.00353617   \n",
       "21   mrk_15_6         0.797612          -0.0021698              -0.00272779   \n",
       "22  mrk_15_16         0.799445         -0.00400279              -0.00503215   \n",
       "23  mrk_16_11         0.780815           0.0146274                0.0183891   \n",
       "24   mrk_27_6         0.784219           0.0112231                0.0141092   \n",
       "26      TOTAL              NaN            0.175469                 0.220593   \n",
       "\n",
       "   mrk_explained_resid_perc  \n",
       "0                 -0.691509  \n",
       "1                   3.55842  \n",
       "2                   1.60982  \n",
       "3                 0.0442388  \n",
       "4                    0.2336  \n",
       "5                    0.1494  \n",
       "6                   2.03344  \n",
       "7                  0.959282  \n",
       "8                   1.34483  \n",
       "9                  0.563446  \n",
       "10                  0.33113  \n",
       "11                 0.957821  \n",
       "12                 0.926043  \n",
       "13                  1.58377  \n",
       "14                 0.309797  \n",
       "15                  1.51322  \n",
       "16                  1.59123  \n",
       "17                 0.265565  \n",
       "18                  1.49817  \n",
       "19                 0.450129  \n",
       "20                 0.353617  \n",
       "21                -0.272779  \n",
       "22                -0.503215  \n",
       "23                  1.83891  \n",
       "24                  1.41092  \n",
       "26                  22.0593  "
      ]
     },
     "execution_count": 105,
     "metadata": {},
     "output_type": "execute_result"
    }
   ],
   "source": [
    "rv"
   ]
  },
  {
   "cell_type": "code",
   "execution_count": 83,
   "metadata": {},
   "outputs": [
    {
     "data": {
      "text/plain": [
       "0.22059312969466316"
      ]
     },
     "execution_count": 83,
     "metadata": {},
     "output_type": "execute_result"
    }
   ],
   "source": [
    "rv['mrk_explained_resid_frac'].sum()"
   ]
  },
  {
   "cell_type": "code",
   "execution_count": 51,
   "metadata": {},
   "outputs": [
    {
     "data": {
      "text/plain": [
       "0.9729195835351839"
      ]
     },
     "execution_count": 51,
     "metadata": {},
     "output_type": "execute_result"
    }
   ],
   "source": [
    "np.var(qtl_geno.standardised_within_gen_BW8)"
   ]
  },
  {
   "cell_type": "code",
   "execution_count": 54,
   "metadata": {},
   "outputs": [
    {
     "data": {
      "text/plain": [
       "0.41232510344241124"
      ]
     },
     "execution_count": 54,
     "metadata": {},
     "output_type": "execute_result"
    }
   ],
   "source": [
    "1-np.var(lmf.resid)"
   ]
  },
  {
   "cell_type": "code",
   "execution_count": 47,
   "metadata": {},
   "outputs": [
    {
     "data": {
      "text/plain": [
       "0.21025114268174"
      ]
     },
     "execution_count": 47,
     "metadata": {},
     "output_type": "execute_result"
    }
   ],
   "source": [
    "0.20455745417571503 / 0.9729195835351839"
   ]
  },
  {
   "cell_type": "code",
   "execution_count": null,
   "metadata": {},
   "outputs": [],
   "source": []
  },
  {
   "cell_type": "code",
   "execution_count": null,
   "metadata": {},
   "outputs": [],
   "source": []
  },
  {
   "cell_type": "code",
   "execution_count": 113,
   "metadata": {},
   "outputs": [],
   "source": [
    "#funny business with QTLs on Chr1 and Chr15"
   ]
  },
  {
   "cell_type": "code",
   "execution_count": 156,
   "metadata": {},
   "outputs": [
    {
     "name": "stdout",
     "output_type": "stream",
     "text": [
      "0.0\n",
      "0.0004385694401645157\n",
      "0.007150517306088511\n",
      "0.012973386144088273\n",
      "0.011982363151921027\n",
      "0.0033559029703849053\n",
      "0.0026793185587249413\n",
      "0.006762470736540238\n",
      "0.008602487691576344\n",
      "0.008232542412956234\n",
      "0.005842394473869583\n",
      "0.005360151177685624\n",
      "0.01014797173058346\n",
      "0.005012450733672513\n",
      "0.010465503771958207\n",
      "0.005449201102884826\n",
      "0.009968663864852956\n",
      "0.00892845762266603\n",
      "0.01027842288599845\n",
      "0.0104503669199143\n",
      "0.007522401947353652\n",
      "0.003997858377034924\n",
      "0.007022566527647545\n",
      "0.005350879645862561\n",
      "0.005506347998045835\n"
     ]
    }
   ],
   "source": [
    "resid_var2 = []\n",
    "for i in qtl_markers:\n",
    "    lm2 = smf.ols('standardised_within_gen_BW8 ~  mrk_1_56 + {marker} + SEX'.format(marker=i), data=qtl_geno,)\n",
    "    lm = smf.ols('standardised_within_gen_BW8 ~  {marker} + SEX'.format(marker=i), data=qtl_geno,)\n",
    "\n",
    "    lmf = lm.fit()\n",
    "    lmf2 = lm2.fit()\n",
    "\n",
    "    #print(np.var(lmf.resid))\n",
    "    #print(lmf.df_resid)\n",
    "\n",
    "    print(np.var(lmf2.resid)-np.var(lmf.resid) )\n",
    "    resid_var2.append([i,np.var(lmf2.resid)-np.var(lmf.resid)])"
   ]
  },
  {
   "cell_type": "code",
   "execution_count": 157,
   "metadata": {},
   "outputs": [
    {
     "data": {
      "image/png": "[encoded data removed]",
      "text/plain": [
       "<Figure size 432x288 with 1 Axes>"
      ]
     },
     "metadata": {
      "needs_background": "light"
     },
     "output_type": "display_data"
    }
   ],
   "source": [
    "fig, ax = plt.subplots(ncols=1, nrows=1)\n",
    "\n",
    "ax.bar(x=range(len(resid_var2)), height=pd.DataFrame(resid_var2)[1])\n",
    "ax.set_xticks(range(len(resid_var2)+1))\n",
    "ax.set_xticklabels(['']+list(pd.DataFrame(resid_var2)[0]), rotation=90,)\n",
    "ax.set_xlim(0, len(resid_var2))\n",
    "ax.set_ylim(0,)\n",
    "plt.show()"
   ]
  },
  {
   "cell_type": "code",
   "execution_count": 154,
   "metadata": {},
   "outputs": [
    {
     "data": {
      "image/png": "[encoded data removed]",
      "text/plain": [
       "<Figure size 432x288 with 1 Axes>"
      ]
     },
     "metadata": {
      "needs_background": "light"
     },
     "output_type": "display_data"
    }
   ],
   "source": [
    "fig, ax = plt.subplots(ncols=1, nrows=1)\n",
    "\n",
    "ax.bar(x=range(len(resid_var2)), height=pd.DataFrame(resid_var2)[1])\n",
    "ax.set_xticks(range(len(resid_var2)+1))\n",
    "ax.set_xticklabels(['']+list(pd.DataFrame(resid_var2)[0]), rotation=90,)\n",
    "ax.set_xlim(0, len(resid_var2))\n",
    "ax.set_ylim(0,)\n",
    "plt.show()"
   ]
  },
  {
   "cell_type": "code",
   "execution_count": 152,
   "metadata": {},
   "outputs": [
    {
     "data": {
      "text/plain": [
       "[['mrk_1_56', 0.0],\n",
       " ['mrk_1_171', 0.0004385694401645157],\n",
       " ['mrk_2_99', 0.007150517306088511],\n",
       " ['mrk_2_113', 0.012973386144088273],\n",
       " ['mrk_3_35', 0.011982363151921027],\n",
       " ['mrk_3_74', 0.0033559029703849053],\n",
       " ['mrk_4_11', 0.0026793185587249413],\n",
       " ['mrk_4_23', 0.006762470736540238],\n",
       " ['mrk_4_36', 0.008602487691576344],\n",
       " ['mrk_4_70', 0.008232542412956234],\n",
       " ['mrk_5_1', 0.005842394473869583],\n",
       " ['mrk_5_10', 0.005360151177685624],\n",
       " ['mrk_5_34', 0.01014797173058346],\n",
       " ['mrk_6_30', 0.005012450733672513],\n",
       " ['mrk_7_4', 0.010465503771958207],\n",
       " ['mrk_7_21', 0.005449201102884826],\n",
       " ['mrk_9_4', 0.009968663864852956],\n",
       " ['mrk_11_9', 0.00892845762266603],\n",
       " ['mrk_11_21', 0.01027842288599845],\n",
       " ['mrk_13_7', 0.0104503669199143],\n",
       " ['mrk_14_12', 0.007522401947353652],\n",
       " ['mrk_15_6', 0.003997858377034924],\n",
       " ['mrk_15_16', 0.007022566527647545],\n",
       " ['mrk_16_11', 0.005350879645862561],\n",
       " ['mrk_27_6', 0.005506347998045835]]"
      ]
     },
     "execution_count": 152,
     "metadata": {},
     "output_type": "execute_result"
    }
   ],
   "source": [
    "resid_var2"
   ]
  },
  {
   "cell_type": "code",
   "execution_count": 168,
   "metadata": {},
   "outputs": [],
   "source": [
    "lmsex= smf.ols(' mrk_1_56 ~ SEX'.format(marker=i), data=qtl_geno,)\n"
   ]
  },
  {
   "cell_type": "code",
   "execution_count": 163,
   "metadata": {},
   "outputs": [],
   "source": [
    "lmsex= smf.ols(' standardised_within_gen_BW8 ~ mrk_1_171 + SEX'.format(marker=i), data=qtl_geno,)\n"
   ]
  },
  {
   "cell_type": "code",
   "execution_count": 169,
   "metadata": {},
   "outputs": [],
   "source": [
    "lmsexf = lmsex.fit()"
   ]
  },
  {
   "cell_type": "code",
   "execution_count": 170,
   "metadata": {},
   "outputs": [
    {
     "data": {
      "text/html": [
       "<table class=\"simpletable\">\n",
       "<caption>OLS Regression Results</caption>\n",
       "<tr>\n",
       "  <th>Dep. Variable:</th>        <td>mrk_1_56</td>     <th>  R-squared:         </th> <td>   0.000</td>\n",
       "</tr>\n",
       "<tr>\n",
       "  <th>Model:</th>                   <td>OLS</td>       <th>  Adj. R-squared:    </th> <td>  -0.000</td>\n",
       "</tr>\n",
       "<tr>\n",
       "  <th>Method:</th>             <td>Least Squares</td>  <th>  F-statistic:       </th> <td>  0.4360</td>\n",
       "</tr>\n",
       "<tr>\n",
       "  <th>Date:</th>             <td>Thu, 28 Jan 2021</td> <th>  Prob (F-statistic):</th>  <td> 0.509</td> \n",
       "</tr>\n",
       "<tr>\n",
       "  <th>Time:</th>                 <td>17:15:09</td>     <th>  Log-Likelihood:    </th> <td> -3032.0</td>\n",
       "</tr>\n",
       "<tr>\n",
       "  <th>No. Observations:</th>      <td>  2845</td>      <th>  AIC:               </th> <td>   6068.</td>\n",
       "</tr>\n",
       "<tr>\n",
       "  <th>Df Residuals:</th>          <td>  2843</td>      <th>  BIC:               </th> <td>   6080.</td>\n",
       "</tr>\n",
       "<tr>\n",
       "  <th>Df Model:</th>              <td>     1</td>      <th>                     </th>     <td> </td>   \n",
       "</tr>\n",
       "<tr>\n",
       "  <th>Covariance Type:</th>      <td>nonrobust</td>    <th>                     </th>     <td> </td>   \n",
       "</tr>\n",
       "</table>\n",
       "<table class=\"simpletable\">\n",
       "<tr>\n",
       "      <td></td>         <th>coef</th>     <th>std err</th>      <th>t</th>      <th>P>|t|</th>  <th>[0.025</th>    <th>0.975]</th>  \n",
       "</tr>\n",
       "<tr>\n",
       "  <th>Intercept</th> <td>    0.0134</td> <td>    0.019</td> <td>    0.700</td> <td> 0.484</td> <td>   -0.024</td> <td>    0.051</td>\n",
       "</tr>\n",
       "<tr>\n",
       "  <th>SEX[T.2]</th>  <td>   -0.0174</td> <td>    0.026</td> <td>   -0.660</td> <td> 0.509</td> <td>   -0.069</td> <td>    0.034</td>\n",
       "</tr>\n",
       "</table>\n",
       "<table class=\"simpletable\">\n",
       "<tr>\n",
       "  <th>Omnibus:</th>       <td>553.584</td> <th>  Durbin-Watson:     </th> <td>   1.931</td>\n",
       "</tr>\n",
       "<tr>\n",
       "  <th>Prob(Omnibus):</th> <td> 0.000</td>  <th>  Jarque-Bera (JB):  </th> <td> 112.308</td>\n",
       "</tr>\n",
       "<tr>\n",
       "  <th>Skew:</th>          <td>-0.008</td>  <th>  Prob(JB):          </th> <td>4.10e-25</td>\n",
       "</tr>\n",
       "<tr>\n",
       "  <th>Kurtosis:</th>      <td> 2.027</td>  <th>  Cond. No.          </th> <td>    2.69</td>\n",
       "</tr>\n",
       "</table><br/><br/>Warnings:<br/>[1] Standard Errors assume that the covariance matrix of the errors is correctly specified."
      ],
      "text/plain": [
       "<class 'statsmodels.iolib.summary.Summary'>\n",
       "\"\"\"\n",
       "                            OLS Regression Results                            \n",
       "==============================================================================\n",
       "Dep. Variable:               mrk_1_56   R-squared:                       0.000\n",
       "Model:                            OLS   Adj. R-squared:                 -0.000\n",
       "Method:                 Least Squares   F-statistic:                    0.4360\n",
       "Date:                Thu, 28 Jan 2021   Prob (F-statistic):              0.509\n",
       "Time:                        17:15:09   Log-Likelihood:                -3032.0\n",
       "No. Observations:                2845   AIC:                             6068.\n",
       "Df Residuals:                    2843   BIC:                             6080.\n",
       "Df Model:                           1                                         \n",
       "Covariance Type:            nonrobust                                         \n",
       "==============================================================================\n",
       "                 coef    std err          t      P>|t|      [0.025      0.975]\n",
       "------------------------------------------------------------------------------\n",
       "Intercept      0.0134      0.019      0.700      0.484      -0.024       0.051\n",
       "SEX[T.2]      -0.0174      0.026     -0.660      0.509      -0.069       0.034\n",
       "==============================================================================\n",
       "Omnibus:                      553.584   Durbin-Watson:                   1.931\n",
       "Prob(Omnibus):                  0.000   Jarque-Bera (JB):              112.308\n",
       "Skew:                          -0.008   Prob(JB):                     4.10e-25\n",
       "Kurtosis:                       2.027   Cond. No.                         2.69\n",
       "==============================================================================\n",
       "\n",
       "Warnings:\n",
       "[1] Standard Errors assume that the covariance matrix of the errors is correctly specified.\n",
       "\"\"\""
      ]
     },
     "execution_count": 170,
     "metadata": {},
     "output_type": "execute_result"
    }
   ],
   "source": [
    "lmsexf.summary()"
   ]
  },
  {
   "cell_type": "code",
   "execution_count": null,
   "metadata": {},
   "outputs": [],
   "source": [
    "lm._sexf."
   ]
  },
  {
   "cell_type": "code",
   "execution_count": 171,
   "metadata": {},
   "outputs": [],
   "source": [
    "import seaborn as sns"
   ]
  },
  {
   "cell_type": "code",
   "execution_count": 190,
   "metadata": {},
   "outputs": [
    {
     "data": {
      "image/png": "[encoded data removed]",
      "text/plain": [
       "<Figure size 432x288 with 1 Axes>"
      ]
     },
     "metadata": {
      "needs_background": "light"
     },
     "output_type": "display_data"
    }
   ],
   "source": [
    "sns.violinplot(y='mrk_1_56',x='SEX', data=qtl_geno, orient='vertical', inner='quartiles')\n",
    "plt.show()"
   ]
  },
  {
   "cell_type": "code",
   "execution_count": 201,
   "metadata": {},
   "outputs": [
    {
     "name": "stdout",
     "output_type": "stream",
     "text": [
      "643\n",
      "798\n"
     ]
    }
   ],
   "source": [
    "print(np.sum(qtl_geno.loc[qtl_geno.mrk_1_56==0]['SEX']=='1'))\n",
    "print(np.sum(qtl_geno.loc[qtl_geno.mrk_1_56==0]['SEX']=='2'))"
   ]
  },
  {
   "cell_type": "code",
   "execution_count": 202,
   "metadata": {},
   "outputs": [
    {
     "name": "stdout",
     "output_type": "stream",
     "text": [
      "357\n",
      "351\n"
     ]
    }
   ],
   "source": [
    "print(np.sum(qtl_geno.loc[qtl_geno.mrk_1_56==1]['SEX']=='1'))\n",
    "print(np.sum(qtl_geno.loc[qtl_geno.mrk_1_56==1]['SEX']=='2'))"
   ]
  },
  {
   "cell_type": "code",
   "execution_count": 205,
   "metadata": {},
   "outputs": [],
   "source": [
    "hom_het_f = 798/(351+357)\n",
    "hom_het_m = 643/(357+339)"
   ]
  },
  {
   "cell_type": "code",
   "execution_count": 210,
   "metadata": {},
   "outputs": [
    {
     "data": {
      "text/plain": [
       "0.9238505747126436"
      ]
     },
     "execution_count": 210,
     "metadata": {},
     "output_type": "execute_result"
    }
   ],
   "source": [
    "hom_het_f\n",
    "hom_het_m"
   ]
  },
  {
   "cell_type": "code",
   "execution_count": 208,
   "metadata": {},
   "outputs": [
    {
     "name": "stdout",
     "output_type": "stream",
     "text": [
      "0.01344286781179985\n"
     ]
    }
   ],
   "source": [
    "print(np.mean(qtl_geno.loc[qtl_geno.SEX=='1']['mrk_1_56']))"
   ]
  },
  {
   "cell_type": "code",
   "execution_count": 209,
   "metadata": {},
   "outputs": [
    {
     "name": "stdout",
     "output_type": "stream",
     "text": [
      "-0.00398406374501992\n"
     ]
    }
   ],
   "source": [
    "print(np.mean(qtl_geno.loc[qtl_geno.SEX=='2']['mrk_1_56']))"
   ]
  },
  {
   "cell_type": "code",
   "execution_count": 212,
   "metadata": {},
   "outputs": [
    {
     "data": {
      "text/plain": [
       "0.9238505747126436"
      ]
     },
     "execution_count": 212,
     "metadata": {},
     "output_type": "execute_result"
    }
   ],
   "source": [
    "hom_het_m"
   ]
  },
  {
   "cell_type": "code",
   "execution_count": 203,
   "metadata": {},
   "outputs": [
    {
     "name": "stdout",
     "output_type": "stream",
     "text": [
      "339\n",
      "357\n"
     ]
    }
   ],
   "source": [
    "print(np.sum(qtl_geno.loc[qtl_geno.mrk_1_56==-1]['SEX']=='1'))\n",
    "print(np.sum(qtl_geno.loc[qtl_geno.mrk_1_56==-1]['SEX']=='2'))"
   ]
  },
  {
   "cell_type": "code",
   "execution_count": 181,
   "metadata": {},
   "outputs": [
    {
     "data": {
      "text/plain": [
       "708"
      ]
     },
     "execution_count": 181,
     "metadata": {},
     "output_type": "execute_result"
    }
   ],
   "source": [
    "np.sum(qtl_geno.mrk_1_56==1)"
   ]
  },
  {
   "cell_type": "code",
   "execution_count": 183,
   "metadata": {},
   "outputs": [
    {
     "data": {
      "text/plain": [
       "696"
      ]
     },
     "execution_count": 183,
     "metadata": {},
     "output_type": "execute_result"
    }
   ],
   "source": [
    "np.sum(qtl_geno.mrk_1_56==-1)"
   ]
  },
  {
   "cell_type": "code",
   "execution_count": null,
   "metadata": {},
   "outputs": [],
   "source": []
  }
 ],
 "metadata": {
  "kernelspec": {
   "display_name": "Python 3",
   "language": "python",
   "name": "python3"
  },
  "language_info": {
   "codemirror_mode": {
    "name": "ipython",
    "version": 3
   },
   "file_extension": ".py",
   "mimetype": "text/x-python",
   "name": "python",
   "nbconvert_exporter": "python",
   "pygments_lexer": "ipython3",
   "version": "3.8.3"
  }
 },
 "nbformat": 4,
 "nbformat_minor": 4
}
