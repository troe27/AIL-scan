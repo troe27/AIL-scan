{
 "cells": [
  {
   "cell_type": "code",
   "execution_count": 1,
   "metadata": {},
   "outputs": [],
   "source": [
    "import pandas as pd\n",
    "import numpy as np\n",
    "import matplotlib.pyplot as plt\n",
    "import seaborn as sns\n",
    "import scipy as sc"
   ]
  },
  {
   "cell_type": "code",
   "execution_count": 2,
   "metadata": {},
   "outputs": [],
   "source": [
    "import os"
   ]
  },
  {
   "cell_type": "markdown",
   "metadata": {},
   "source": [
    "# F2"
   ]
  },
  {
   "cell_type": "code",
   "execution_count": 3,
   "metadata": {},
   "outputs": [],
   "source": [
    "input_folder_f2 = \"../../stripes_AIL_gg6a/F2/stripes_data/with.fam.f2.call2.TIGER_OUT/\""
   ]
  },
  {
   "cell_type": "code",
   "execution_count": 4,
   "metadata": {},
   "outputs": [],
   "source": [
    "#c = os.listdir(input_folder)\n",
    "#d = [i for i in a if i.endswith(\".1.corrected.refined.breaks.txt\")]"
   ]
  },
  {
   "cell_type": "code",
   "execution_count": 5,
   "metadata": {},
   "outputs": [],
   "source": [
    "chr_1_breaks_f2 = []\n",
    "for i in os.listdir(input_folder_f2):\n",
    "    #print(\"sample\", i)\n",
    "    c = os.listdir(os.path.join(input_folder_f2,i))\n",
    "    for j in c : \n",
    "        if j.endswith(\".1.corrected.refined.breaks.txt\"):\n",
    "            #print(\"found one!\")\n",
    "            #print(j)\n",
    "            chr_1_breaks_f2.append(os.path.join(input_folder_f2, i,j))"
   ]
  },
  {
   "cell_type": "code",
   "execution_count": 6,
   "metadata": {},
   "outputs": [
    {
     "data": {
      "text/plain": [
       "930"
      ]
     },
     "execution_count": 6,
     "metadata": {},
     "output_type": "execute_result"
    }
   ],
   "source": [
    "len(chr_1_breaks_f2)"
   ]
  },
  {
   "cell_type": "code",
   "execution_count": 7,
   "metadata": {},
   "outputs": [
    {
     "name": "stdout",
     "output_type": "stream",
     "text": [
      "../../stripes_AIL_gg6a/F2/stripes_data/with.fam.f2.call2.TIGER_OUT/56502.genotype/56502.genotype.1.corrected.refined.breaks.txt\n"
     ]
    }
   ],
   "source": [
    "print(chr_1_breaks_f2[0])"
   ]
  },
  {
   "cell_type": "code",
   "execution_count": 8,
   "metadata": {},
   "outputs": [],
   "source": [
    "dfs_f2 = []\n",
    "for i in chr_1_breaks_f2:\n",
    "    dfs_f2.append(pd.read_csv(i, sep=\"\\t\", header=None))"
   ]
  },
  {
   "cell_type": "code",
   "execution_count": null,
   "metadata": {},
   "outputs": [],
   "source": []
  },
  {
   "cell_type": "code",
   "execution_count": 9,
   "metadata": {},
   "outputs": [],
   "source": [
    "all_df_f2 = pd.concat(dfs_f2)"
   ]
  },
  {
   "cell_type": "code",
   "execution_count": 10,
   "metadata": {},
   "outputs": [],
   "source": [
    "all_df_f2.columns = [\"genotype\", \"chr\", \"start\", \"stop\", \"type\"]"
   ]
  },
  {
   "cell_type": "code",
   "execution_count": 11,
   "metadata": {},
   "outputs": [],
   "source": [
    "all_df_f2.genotype = [i.rstrip(\".genotype\") for i in all_df_f2.genotype]"
   ]
  },
  {
   "cell_type": "code",
   "execution_count": null,
   "metadata": {},
   "outputs": [],
   "source": []
  },
  {
   "cell_type": "markdown",
   "metadata": {},
   "source": [
    "# F15"
   ]
  },
  {
   "cell_type": "code",
   "execution_count": 12,
   "metadata": {},
   "outputs": [],
   "source": [
    "input_folder = \"../../stripes_AIL_gg6a/F15/stripes_data/with.fam.f2.call2.TIGER_OUT/\""
   ]
  },
  {
   "cell_type": "code",
   "execution_count": 13,
   "metadata": {},
   "outputs": [],
   "source": [
    "a = os.listdir(input_folder)\n",
    "b = [i for i in a if i.endswith(\".1.corrected.refined.breaks.txt\")]"
   ]
  },
  {
   "cell_type": "code",
   "execution_count": 14,
   "metadata": {},
   "outputs": [],
   "source": [
    "chr_1_breaks = []\n",
    "for i in os.listdir(input_folder):\n",
    "    #print(\"sample\", i)\n",
    "    a = os.listdir(os.path.join(input_folder,i))\n",
    "    for j in a : \n",
    "        if j.endswith(\".1.corrected.refined.breaks.txt\"):\n",
    "            #print(\"found one!\")\n",
    "            #print(j)\n",
    "            chr_1_breaks.append(os.path.join(input_folder, i,j))"
   ]
  },
  {
   "cell_type": "code",
   "execution_count": 15,
   "metadata": {},
   "outputs": [
    {
     "data": {
      "text/plain": [
       "807"
      ]
     },
     "execution_count": 15,
     "metadata": {},
     "output_type": "execute_result"
    }
   ],
   "source": [
    "len(chr_1_breaks)"
   ]
  },
  {
   "cell_type": "code",
   "execution_count": 16,
   "metadata": {},
   "outputs": [
    {
     "name": "stdout",
     "output_type": "stream",
     "text": [
      "../../stripes_AIL_gg6a/F15/stripes_data/with.fam.f2.call2.TIGER_OUT/313015.genotype/313015.genotype.1.corrected.refined.breaks.txt\n"
     ]
    }
   ],
   "source": [
    "print(chr_1_breaks[0])"
   ]
  },
  {
   "cell_type": "code",
   "execution_count": 17,
   "metadata": {},
   "outputs": [],
   "source": [
    "\n",
    "dfs = []\n",
    "for i in chr_1_breaks:\n",
    "    current_df = pd.read_csv(i, sep=\"\\t\", header=None)\n",
    "    current_df.columns = [\"genotype\", \"chr\", \"start\", \"stop\", \"type\"]\n",
    "    current_df = current_df.sort_values(ascending=True,by=\"start\" )\n",
    "    means = []\n",
    "    length_of_break = []\n",
    "    end = 0\n",
    "    for i, k in current_df.iterrows():\n",
    "        mean = np.mean([end,k[\"start\"]])\n",
    "        means.append(mean)\n",
    "        length = k[\"start\"] - end\n",
    "        length_of_break.append(length)\n",
    "        end = k[\"stop\"]\n",
    "    \n",
    "    current_df[\"mean\"]=means\n",
    "    current_df[\"len_break\"] = length_of_break\n",
    "    dfs.append(current_df)"
   ]
  },
  {
   "cell_type": "code",
   "execution_count": 18,
   "metadata": {},
   "outputs": [],
   "source": [
    "#pd.read_csv(chr_1_breaks[0], sep=\"\\t\", header=None)"
   ]
  },
  {
   "cell_type": "code",
   "execution_count": 19,
   "metadata": {},
   "outputs": [],
   "source": [
    "all_df = pd.concat(dfs)"
   ]
  },
  {
   "cell_type": "code",
   "execution_count": 20,
   "metadata": {},
   "outputs": [
    {
     "data": {
      "text/html": [
       "<div>\n",
       "<style scoped>\n",
       "    .dataframe tbody tr th:only-of-type {\n",
       "        vertical-align: middle;\n",
       "    }\n",
       "\n",
       "    .dataframe tbody tr th {\n",
       "        vertical-align: top;\n",
       "    }\n",
       "\n",
       "    .dataframe thead th {\n",
       "        text-align: right;\n",
       "    }\n",
       "</style>\n",
       "<table border=\"1\" class=\"dataframe\">\n",
       "  <thead>\n",
       "    <tr style=\"text-align: right;\">\n",
       "      <th></th>\n",
       "      <th>genotype</th>\n",
       "      <th>chr</th>\n",
       "      <th>start</th>\n",
       "      <th>stop</th>\n",
       "      <th>type</th>\n",
       "      <th>mean</th>\n",
       "      <th>len_break</th>\n",
       "    </tr>\n",
       "  </thead>\n",
       "  <tbody>\n",
       "    <tr>\n",
       "      <th>0</th>\n",
       "      <td>313015.genotype</td>\n",
       "      <td>1</td>\n",
       "      <td>1</td>\n",
       "      <td>99350</td>\n",
       "      <td>LL</td>\n",
       "      <td>0.5</td>\n",
       "      <td>1</td>\n",
       "    </tr>\n",
       "    <tr>\n",
       "      <th>1</th>\n",
       "      <td>313015.genotype</td>\n",
       "      <td>1</td>\n",
       "      <td>511541</td>\n",
       "      <td>511541</td>\n",
       "      <td>CL</td>\n",
       "      <td>305445.5</td>\n",
       "      <td>412191</td>\n",
       "    </tr>\n",
       "    <tr>\n",
       "      <th>2</th>\n",
       "      <td>313015.genotype</td>\n",
       "      <td>1</td>\n",
       "      <td>512481</td>\n",
       "      <td>22946065</td>\n",
       "      <td>CC</td>\n",
       "      <td>512011.0</td>\n",
       "      <td>940</td>\n",
       "    </tr>\n",
       "    <tr>\n",
       "      <th>3</th>\n",
       "      <td>313015.genotype</td>\n",
       "      <td>1</td>\n",
       "      <td>22946376</td>\n",
       "      <td>23079793</td>\n",
       "      <td>CL</td>\n",
       "      <td>22946220.5</td>\n",
       "      <td>311</td>\n",
       "    </tr>\n",
       "    <tr>\n",
       "      <th>4</th>\n",
       "      <td>313015.genotype</td>\n",
       "      <td>1</td>\n",
       "      <td>45752569</td>\n",
       "      <td>53195463</td>\n",
       "      <td>LL</td>\n",
       "      <td>34416181.0</td>\n",
       "      <td>22672776</td>\n",
       "    </tr>\n",
       "    <tr>\n",
       "      <th>...</th>\n",
       "      <td>...</td>\n",
       "      <td>...</td>\n",
       "      <td>...</td>\n",
       "      <td>...</td>\n",
       "      <td>...</td>\n",
       "      <td>...</td>\n",
       "      <td>...</td>\n",
       "    </tr>\n",
       "    <tr>\n",
       "      <th>0</th>\n",
       "      <td>245815.genotype</td>\n",
       "      <td>1</td>\n",
       "      <td>1</td>\n",
       "      <td>146906685</td>\n",
       "      <td>LL</td>\n",
       "      <td>0.5</td>\n",
       "      <td>1</td>\n",
       "    </tr>\n",
       "    <tr>\n",
       "      <th>1</th>\n",
       "      <td>245815.genotype</td>\n",
       "      <td>1</td>\n",
       "      <td>170702887</td>\n",
       "      <td>197608386</td>\n",
       "      <td>CC</td>\n",
       "      <td>158804786.0</td>\n",
       "      <td>23796202</td>\n",
       "    </tr>\n",
       "    <tr>\n",
       "      <th>0</th>\n",
       "      <td>244415.genotype</td>\n",
       "      <td>1</td>\n",
       "      <td>1</td>\n",
       "      <td>197608386</td>\n",
       "      <td>CU</td>\n",
       "      <td>0.5</td>\n",
       "      <td>1</td>\n",
       "    </tr>\n",
       "    <tr>\n",
       "      <th>0</th>\n",
       "      <td>244915.genotype</td>\n",
       "      <td>1</td>\n",
       "      <td>1</td>\n",
       "      <td>197608386</td>\n",
       "      <td>LU</td>\n",
       "      <td>0.5</td>\n",
       "      <td>1</td>\n",
       "    </tr>\n",
       "    <tr>\n",
       "      <th>0</th>\n",
       "      <td>244515.genotype</td>\n",
       "      <td>1</td>\n",
       "      <td>1</td>\n",
       "      <td>197608386</td>\n",
       "      <td>CU</td>\n",
       "      <td>0.5</td>\n",
       "      <td>1</td>\n",
       "    </tr>\n",
       "  </tbody>\n",
       "</table>\n",
       "<p>28885 rows × 7 columns</p>\n",
       "</div>"
      ],
      "text/plain": [
       "           genotype  chr      start       stop type         mean  len_break\n",
       "0   313015.genotype    1          1      99350   LL          0.5          1\n",
       "1   313015.genotype    1     511541     511541   CL     305445.5     412191\n",
       "2   313015.genotype    1     512481   22946065   CC     512011.0        940\n",
       "3   313015.genotype    1   22946376   23079793   CL   22946220.5        311\n",
       "4   313015.genotype    1   45752569   53195463   LL   34416181.0   22672776\n",
       "..              ...  ...        ...        ...  ...          ...        ...\n",
       "0   245815.genotype    1          1  146906685   LL          0.5          1\n",
       "1   245815.genotype    1  170702887  197608386   CC  158804786.0   23796202\n",
       "0   244415.genotype    1          1  197608386   CU          0.5          1\n",
       "0   244915.genotype    1          1  197608386   LU          0.5          1\n",
       "0   244515.genotype    1          1  197608386   CU          0.5          1\n",
       "\n",
       "[28885 rows x 7 columns]"
      ]
     },
     "execution_count": 20,
     "metadata": {},
     "output_type": "execute_result"
    }
   ],
   "source": [
    "all_df"
   ]
  },
  {
   "cell_type": "code",
   "execution_count": 21,
   "metadata": {},
   "outputs": [],
   "source": [
    "all_df.columns = [\"genotype\", \"chr\", \"start\", \"stop\", \"type\", \"mean\", \"len_break\"]"
   ]
  },
  {
   "cell_type": "code",
   "execution_count": 22,
   "metadata": {},
   "outputs": [],
   "source": [
    "all_df.genotype = [i.rstrip(\".genotype\") for i in all_df.genotype]"
   ]
  },
  {
   "cell_type": "code",
   "execution_count": 23,
   "metadata": {},
   "outputs": [
    {
     "data": {
      "text/html": [
       "<div>\n",
       "<style scoped>\n",
       "    .dataframe tbody tr th:only-of-type {\n",
       "        vertical-align: middle;\n",
       "    }\n",
       "\n",
       "    .dataframe tbody tr th {\n",
       "        vertical-align: top;\n",
       "    }\n",
       "\n",
       "    .dataframe thead th {\n",
       "        text-align: right;\n",
       "    }\n",
       "</style>\n",
       "<table border=\"1\" class=\"dataframe\">\n",
       "  <thead>\n",
       "    <tr style=\"text-align: right;\">\n",
       "      <th></th>\n",
       "      <th>genotype</th>\n",
       "      <th>chr</th>\n",
       "      <th>start</th>\n",
       "      <th>stop</th>\n",
       "      <th>type</th>\n",
       "      <th>mean</th>\n",
       "      <th>len_break</th>\n",
       "    </tr>\n",
       "  </thead>\n",
       "  <tbody>\n",
       "    <tr>\n",
       "      <th>0</th>\n",
       "      <td>313015</td>\n",
       "      <td>1</td>\n",
       "      <td>1</td>\n",
       "      <td>99350</td>\n",
       "      <td>LL</td>\n",
       "      <td>0.5</td>\n",
       "      <td>1</td>\n",
       "    </tr>\n",
       "    <tr>\n",
       "      <th>1</th>\n",
       "      <td>313015</td>\n",
       "      <td>1</td>\n",
       "      <td>511541</td>\n",
       "      <td>511541</td>\n",
       "      <td>CL</td>\n",
       "      <td>305445.5</td>\n",
       "      <td>412191</td>\n",
       "    </tr>\n",
       "    <tr>\n",
       "      <th>2</th>\n",
       "      <td>313015</td>\n",
       "      <td>1</td>\n",
       "      <td>512481</td>\n",
       "      <td>22946065</td>\n",
       "      <td>CC</td>\n",
       "      <td>512011.0</td>\n",
       "      <td>940</td>\n",
       "    </tr>\n",
       "    <tr>\n",
       "      <th>3</th>\n",
       "      <td>313015</td>\n",
       "      <td>1</td>\n",
       "      <td>22946376</td>\n",
       "      <td>23079793</td>\n",
       "      <td>CL</td>\n",
       "      <td>22946220.5</td>\n",
       "      <td>311</td>\n",
       "    </tr>\n",
       "    <tr>\n",
       "      <th>4</th>\n",
       "      <td>313015</td>\n",
       "      <td>1</td>\n",
       "      <td>45752569</td>\n",
       "      <td>53195463</td>\n",
       "      <td>LL</td>\n",
       "      <td>34416181.0</td>\n",
       "      <td>22672776</td>\n",
       "    </tr>\n",
       "    <tr>\n",
       "      <th>...</th>\n",
       "      <td>...</td>\n",
       "      <td>...</td>\n",
       "      <td>...</td>\n",
       "      <td>...</td>\n",
       "      <td>...</td>\n",
       "      <td>...</td>\n",
       "      <td>...</td>\n",
       "    </tr>\n",
       "    <tr>\n",
       "      <th>0</th>\n",
       "      <td>245815</td>\n",
       "      <td>1</td>\n",
       "      <td>1</td>\n",
       "      <td>146906685</td>\n",
       "      <td>LL</td>\n",
       "      <td>0.5</td>\n",
       "      <td>1</td>\n",
       "    </tr>\n",
       "    <tr>\n",
       "      <th>1</th>\n",
       "      <td>245815</td>\n",
       "      <td>1</td>\n",
       "      <td>170702887</td>\n",
       "      <td>197608386</td>\n",
       "      <td>CC</td>\n",
       "      <td>158804786.0</td>\n",
       "      <td>23796202</td>\n",
       "    </tr>\n",
       "    <tr>\n",
       "      <th>0</th>\n",
       "      <td>244415</td>\n",
       "      <td>1</td>\n",
       "      <td>1</td>\n",
       "      <td>197608386</td>\n",
       "      <td>CU</td>\n",
       "      <td>0.5</td>\n",
       "      <td>1</td>\n",
       "    </tr>\n",
       "    <tr>\n",
       "      <th>0</th>\n",
       "      <td>244915</td>\n",
       "      <td>1</td>\n",
       "      <td>1</td>\n",
       "      <td>197608386</td>\n",
       "      <td>LU</td>\n",
       "      <td>0.5</td>\n",
       "      <td>1</td>\n",
       "    </tr>\n",
       "    <tr>\n",
       "      <th>0</th>\n",
       "      <td>244515</td>\n",
       "      <td>1</td>\n",
       "      <td>1</td>\n",
       "      <td>197608386</td>\n",
       "      <td>CU</td>\n",
       "      <td>0.5</td>\n",
       "      <td>1</td>\n",
       "    </tr>\n",
       "  </tbody>\n",
       "</table>\n",
       "<p>28885 rows × 7 columns</p>\n",
       "</div>"
      ],
      "text/plain": [
       "   genotype  chr      start       stop type         mean  len_break\n",
       "0    313015    1          1      99350   LL          0.5          1\n",
       "1    313015    1     511541     511541   CL     305445.5     412191\n",
       "2    313015    1     512481   22946065   CC     512011.0        940\n",
       "3    313015    1   22946376   23079793   CL   22946220.5        311\n",
       "4    313015    1   45752569   53195463   LL   34416181.0   22672776\n",
       "..      ...  ...        ...        ...  ...          ...        ...\n",
       "0    245815    1          1  146906685   LL          0.5          1\n",
       "1    245815    1  170702887  197608386   CC  158804786.0   23796202\n",
       "0    244415    1          1  197608386   CU          0.5          1\n",
       "0    244915    1          1  197608386   LU          0.5          1\n",
       "0    244515    1          1  197608386   CU          0.5          1\n",
       "\n",
       "[28885 rows x 7 columns]"
      ]
     },
     "execution_count": 23,
     "metadata": {},
     "output_type": "execute_result"
    }
   ],
   "source": [
    "all_df"
   ]
  },
  {
   "cell_type": "code",
   "execution_count": 24,
   "metadata": {},
   "outputs": [
    {
     "data": {
      "image/png": "[encoded data removed]",
      "text/plain": [
       "<Figure size 1440x360 with 1 Axes>"
      ]
     },
     "metadata": {
      "needs_background": "light"
     },
     "output_type": "display_data"
    }
   ],
   "source": [
    "fig, ax = plt.subplots(ncols=1, nrows=1, figsize=(20,5))\n",
    "sns.rugplot(all_df[\"start\"], ax=ax, alpha=0.005)\n",
    "#ax.set_xlim(164800000,168700000)\n",
    "plt.show()"
   ]
  },
  {
   "cell_type": "code",
   "execution_count": 25,
   "metadata": {},
   "outputs": [],
   "source": [
    "window = all_df.loc[(all_df[\"start\"]>164800000) & (all_df[\"start\"]<168700000)]"
   ]
  },
  {
   "cell_type": "code",
   "execution_count": 26,
   "metadata": {},
   "outputs": [
    {
     "data": {
      "image/png": "[encoded data removed]",
      "text/plain": [
       "<Figure size 432x288 with 1 Axes>"
      ]
     },
     "metadata": {
      "needs_background": "light"
     },
     "output_type": "display_data"
    }
   ],
   "source": [
    "sns.kdeplot(all_df[\"start\"],bw=2000000)\n",
    "plt.show()"
   ]
  },
  {
   "cell_type": "code",
   "execution_count": 27,
   "metadata": {},
   "outputs": [
    {
     "data": {
      "image/png": "[encoded data removed]",
      "text/plain": [
       "<Figure size 1440x360 with 2 Axes>"
      ]
     },
     "metadata": {
      "needs_background": "light"
     },
     "output_type": "display_data"
    }
   ],
   "source": [
    "fig, ax = plt.subplots(ncols=1, nrows=1, figsize=(20,5))\n",
    "ax.hist(all_df[\"start\"], bins=2000)\n",
    "ax.hist(all_df_f2[\"start\"], bins=2000, color=\"Red\")\n",
    "\n",
    "ax2=ax.twinx()\n",
    "#sns.kdeplot(all_df[\"start\"], ax=ax2,bw=1000000, color=\"Blue\", alpha=0.3, shade=True)\n",
    "#sns.kdeplot(all_df_f2[\"start\"], ax=ax2,bw=1000000, color=\"Red\", alpha=0.3, shade=True)\n",
    "ax.set_xlim(0,)\n",
    "#ax2.set_xlim(164800000,168700000)\n",
    "\n",
    "#ax.set_ylim(0,800)\n",
    "#ax2.set_ylim(0,0.5*1e-8)\n",
    "\n",
    "\n",
    "plt.show()"
   ]
  },
  {
   "cell_type": "code",
   "execution_count": 28,
   "metadata": {},
   "outputs": [],
   "source": [
    "window_f2 = all_df_f2.loc[(all_df_f2[\"start\"]>164800000) & (all_df_f2[\"start\"]<168700000)]"
   ]
  },
  {
   "cell_type": "code",
   "execution_count": 29,
   "metadata": {},
   "outputs": [],
   "source": [
    "window = all_df.loc[(all_df[\"start\"]>164800000) & (all_df[\"start\"]<168700000)]"
   ]
  },
  {
   "cell_type": "code",
   "execution_count": 30,
   "metadata": {},
   "outputs": [
    {
     "data": {
      "text/plain": [
       "28885"
      ]
     },
     "execution_count": 30,
     "metadata": {},
     "output_type": "execute_result"
    }
   ],
   "source": [
    "len(all_df)"
   ]
  },
  {
   "cell_type": "code",
   "execution_count": null,
   "metadata": {},
   "outputs": [],
   "source": []
  },
  {
   "cell_type": "code",
   "execution_count": 31,
   "metadata": {},
   "outputs": [
    {
     "data": {
      "text/plain": [
       "106860"
      ]
     },
     "execution_count": 31,
     "metadata": {},
     "output_type": "execute_result"
    }
   ],
   "source": [
    "len(all_df_f2)"
   ]
  },
  {
   "cell_type": "markdown",
   "metadata": {},
   "source": [
    "# ALL SAMPLES"
   ]
  },
  {
   "cell_type": "code",
   "execution_count": 32,
   "metadata": {},
   "outputs": [],
   "source": [
    "input_folder_base = \"../../stripes_AIL_gg6a/\""
   ]
  },
  {
   "cell_type": "code",
   "execution_count": 33,
   "metadata": {},
   "outputs": [],
   "source": [
    "gen_folders = [os.path.join(input_folder_base, i,\"stripes_data/with.fam.f2.call2.TIGER_OUT/\") for i in os.listdir(input_folder_base) if i.startswith(\"F\")]"
   ]
  },
  {
   "cell_type": "code",
   "execution_count": null,
   "metadata": {},
   "outputs": [],
   "source": []
  },
  {
   "cell_type": "code",
   "execution_count": 34,
   "metadata": {},
   "outputs": [],
   "source": [
    "chr_1_breaks_all = []\n",
    "\n",
    "for gen in gen_folders:\n",
    "    for i in os.listdir(gen):\n",
    "        #print(i)\n",
    "        #print(\"sample\", i)\n",
    "        c = os.listdir(os.path.join(gen,i))\n",
    "        for j in c : \n",
    "            if j.endswith(\".1.corrected.refined.breaks.txt\"):\n",
    "                #print(\"found one!\")\n",
    "                #print(j)\n",
    "                chr_1_breaks_all.append(os.path.join(gen,i,j))"
   ]
  },
  {
   "cell_type": "code",
   "execution_count": 35,
   "metadata": {},
   "outputs": [
    {
     "data": {
      "text/plain": [
       "3124"
      ]
     },
     "execution_count": 35,
     "metadata": {},
     "output_type": "execute_result"
    }
   ],
   "source": [
    "len(chr_1_breaks_all)"
   ]
  },
  {
   "cell_type": "code",
   "execution_count": 36,
   "metadata": {},
   "outputs": [],
   "source": [
    "\n",
    "dfs_all = []\n",
    "for i in chr_1_breaks:\n",
    "    current_df = pd.read_csv(i, sep=\"\\t\", header=None)\n",
    "    current_df.columns = [\"genotype\", \"chr\", \"start\", \"stop\", \"type\"]\n",
    "    current_df = current_df.sort_values(ascending=True,by=\"start\" )\n",
    "    means = []\n",
    "    length_of_break = []\n",
    "    end = 0\n",
    "    for i, k in current_df.iterrows():\n",
    "        mean = np.mean([end,k[\"start\"]])\n",
    "        means.append(mean)\n",
    "        length = k[\"start\"] - end\n",
    "        length_of_break.append(length)\n",
    "        end = k[\"stop\"]\n",
    "    \n",
    "    current_df[\"mean\"]=means\n",
    "    current_df[\"len_break\"] = length_of_break\n",
    "    dfs_all.append(current_df)"
   ]
  },
  {
   "cell_type": "code",
   "execution_count": 37,
   "metadata": {},
   "outputs": [],
   "source": [
    "df_big = pd.concat(dfs_all)"
   ]
  },
  {
   "cell_type": "code",
   "execution_count": 38,
   "metadata": {},
   "outputs": [
    {
     "data": {
      "text/plain": [
       "28885"
      ]
     },
     "execution_count": 38,
     "metadata": {},
     "output_type": "execute_result"
    }
   ],
   "source": [
    "len(df_big)"
   ]
  },
  {
   "cell_type": "code",
   "execution_count": null,
   "metadata": {},
   "outputs": [],
   "source": []
  },
  {
   "cell_type": "code",
   "execution_count": 39,
   "metadata": {},
   "outputs": [
    {
     "data": {
      "text/html": [
       "<div>\n",
       "<style scoped>\n",
       "    .dataframe tbody tr th:only-of-type {\n",
       "        vertical-align: middle;\n",
       "    }\n",
       "\n",
       "    .dataframe tbody tr th {\n",
       "        vertical-align: top;\n",
       "    }\n",
       "\n",
       "    .dataframe thead th {\n",
       "        text-align: right;\n",
       "    }\n",
       "</style>\n",
       "<table border=\"1\" class=\"dataframe\">\n",
       "  <thead>\n",
       "    <tr style=\"text-align: right;\">\n",
       "      <th></th>\n",
       "      <th>genotype</th>\n",
       "      <th>chr</th>\n",
       "      <th>start</th>\n",
       "      <th>stop</th>\n",
       "      <th>type</th>\n",
       "      <th>mean</th>\n",
       "      <th>len_break</th>\n",
       "    </tr>\n",
       "  </thead>\n",
       "  <tbody>\n",
       "    <tr>\n",
       "      <th>0</th>\n",
       "      <td>313015.genotype</td>\n",
       "      <td>1</td>\n",
       "      <td>1</td>\n",
       "      <td>99350</td>\n",
       "      <td>LL</td>\n",
       "      <td>0.5</td>\n",
       "      <td>1</td>\n",
       "    </tr>\n",
       "    <tr>\n",
       "      <th>1</th>\n",
       "      <td>313015.genotype</td>\n",
       "      <td>1</td>\n",
       "      <td>511541</td>\n",
       "      <td>511541</td>\n",
       "      <td>CL</td>\n",
       "      <td>305445.5</td>\n",
       "      <td>412191</td>\n",
       "    </tr>\n",
       "    <tr>\n",
       "      <th>2</th>\n",
       "      <td>313015.genotype</td>\n",
       "      <td>1</td>\n",
       "      <td>512481</td>\n",
       "      <td>22946065</td>\n",
       "      <td>CC</td>\n",
       "      <td>512011.0</td>\n",
       "      <td>940</td>\n",
       "    </tr>\n",
       "    <tr>\n",
       "      <th>3</th>\n",
       "      <td>313015.genotype</td>\n",
       "      <td>1</td>\n",
       "      <td>22946376</td>\n",
       "      <td>23079793</td>\n",
       "      <td>CL</td>\n",
       "      <td>22946220.5</td>\n",
       "      <td>311</td>\n",
       "    </tr>\n",
       "    <tr>\n",
       "      <th>4</th>\n",
       "      <td>313015.genotype</td>\n",
       "      <td>1</td>\n",
       "      <td>45752569</td>\n",
       "      <td>53195463</td>\n",
       "      <td>LL</td>\n",
       "      <td>34416181.0</td>\n",
       "      <td>22672776</td>\n",
       "    </tr>\n",
       "  </tbody>\n",
       "</table>\n",
       "</div>"
      ],
      "text/plain": [
       "          genotype  chr     start      stop type        mean  len_break\n",
       "0  313015.genotype    1         1     99350   LL         0.5          1\n",
       "1  313015.genotype    1    511541    511541   CL    305445.5     412191\n",
       "2  313015.genotype    1    512481  22946065   CC    512011.0        940\n",
       "3  313015.genotype    1  22946376  23079793   CL  22946220.5        311\n",
       "4  313015.genotype    1  45752569  53195463   LL  34416181.0   22672776"
      ]
     },
     "execution_count": 39,
     "metadata": {},
     "output_type": "execute_result"
    }
   ],
   "source": [
    "df_big.head(5)"
   ]
  },
  {
   "cell_type": "code",
   "execution_count": null,
   "metadata": {},
   "outputs": [],
   "source": [
    "\n"
   ]
  },
  {
   "cell_type": "code",
   "execution_count": null,
   "metadata": {},
   "outputs": [],
   "source": []
  },
  {
   "cell_type": "code",
   "execution_count": 40,
   "metadata": {},
   "outputs": [],
   "source": [
    "df_big.genotype = [i.rstrip(\".genotype\") for i in df_big.genotype]"
   ]
  },
  {
   "cell_type": "code",
   "execution_count": 41,
   "metadata": {},
   "outputs": [],
   "source": [
    "#[i for i in df_big.genotype if i.endswith(\"15\")]"
   ]
  },
  {
   "cell_type": "code",
   "execution_count": 42,
   "metadata": {},
   "outputs": [
    {
     "data": {
      "image/png": "[encoded data removed]",
      "text/plain": [
       "<Figure size 1440x360 with 2 Axes>"
      ]
     },
     "metadata": {
      "needs_background": "light"
     },
     "output_type": "display_data"
    }
   ],
   "source": [
    "fig, ax = plt.subplots(ncols=1, nrows=1, figsize=(20,5))\n",
    "ax.hist(df_big[\"start\"], bins=20000)\n",
    "ax2 = ax.twinx()\n",
    "sns.kdeplot(df_big[\"start\"], ax=ax2,bw=500000, color=\"Blue\", alpha=0.3, shade=True, label=\"All\")\n",
    "\n",
    "ax.hist(all_df_f2[\"start\"], bins=20000, color=\"Red\")\n",
    "sns.kdeplot(all_df_f2[\"start\"], ax=ax2,bw=500000, color=\"Red\", alpha=0.3, shade=True, label=\"F2\")\n",
    "\n",
    "ax.set_xlim(0,2*1e8)\n",
    "ax.set_ylim(0,500)\n",
    "plt.show()"
   ]
  },
  {
   "cell_type": "code",
   "execution_count": 43,
   "metadata": {},
   "outputs": [],
   "source": [
    "all_lower = df_big.loc[[i for i,k in df_big.iterrows() if not k[\"genotype\"][-2:] ==\"02\"]]"
   ]
  },
  {
   "cell_type": "code",
   "execution_count": 44,
   "metadata": {},
   "outputs": [
    {
     "data": {
      "image/png": "[encoded data removed]",
      "text/plain": [
       "<Figure size 1440x360 with 2 Axes>"
      ]
     },
     "metadata": {
      "needs_background": "light"
     },
     "output_type": "display_data"
    }
   ],
   "source": [
    "fig, ax = plt.subplots(ncols=1, nrows=1, figsize=(20,5))\n",
    "ax.hist(df_big[\"start\"], bins=20000)\n",
    "ax2 = ax.twinx()\n",
    "sns.kdeplot(all_lower[\"start\"], ax=ax2,bw=500000, color=\"Blue\", alpha=0.3, shade=True, label=\"lower\")\n",
    "\n",
    "ax.hist(all_df_f2[\"start\"], bins=20000, color=\"Red\")\n",
    "sns.kdeplot(all_df_f2[\"start\"], ax=ax2,bw=500000, color=\"Red\", alpha=0.3, shade=True, label=\"F2\")\n",
    "\n",
    "ax.set_xlim(0,2*1e8)\n",
    "ax.set_ylim(0,500)\n",
    "plt.show()"
   ]
  },
  {
   "cell_type": "code",
   "execution_count": 45,
   "metadata": {},
   "outputs": [],
   "source": [
    "\"\"\"\n",
    "Author: Tilman.Ronneburg@imbim.uu.se\n",
    "20190711\n",
    "\"\"\"\n",
    "import pandas as pd\n",
    "import numpy as np\n",
    "import os\n",
    "import copy\n",
    "import scipy\n",
    "from operator import itemgetter\n",
    "\n",
    "\n",
    "class Pedigree(object):\n",
    "    \"\"\" Object for parsing pedigree information.\n",
    "        Requires pedigree file with tab separated fields for:\n",
    "        sample_id, sire, dam and sex in that order. \"\"\"\n",
    "    def __init__(self,pedigree_file):\n",
    "        self.pedigree = self.load_pedigree(pedigree_file)\n",
    "\n",
    "\n",
    "    def load_pedigree(self, pedfile):\n",
    "        \"\"\"Returns a dictionary from a input file \"\"\"\n",
    "        raw_ped = pd.read_csv(pedfile, sep=\"\\t\")\n",
    "        raw_ped.index=raw_ped[\"ID\"]\n",
    "        ped_d = {}\n",
    "        for i, k in raw_ped.iterrows():\n",
    "            ped_d[str(i)] = {\"sire\":str(k[\"Sire\"]).split(\".\")[0],\n",
    "                        \"dam\":str(k[\"Dam\"]).split(\".\")[0],\n",
    "                        \"sex\":str(k[\"Sex\"]),\n",
    "                        \"generation\":str(i)[-2:]}\n",
    "        return ped_d\n",
    "\n",
    "\n",
    "    def _old_load_pedigree(self, pedfile):\n",
    "        \"\"\"Returns a dictionary from a input file \"\"\"\n",
    "        raw_ped = open(pedfile).read().split(\"\\n\")\n",
    "        ped_d = {}\n",
    "        for line in raw_ped:\n",
    "            if not line==\"\":\n",
    "                l = line.split(\"\\t\")\n",
    "                ped_d[l[0]]={\"sire\":str(l[1]),\n",
    "                             \"dam\":str(l[2]),\n",
    "                             \"sex\":str(l[3]),\n",
    "                             \"generation\":str(l[0][-2:]),}\n",
    "        return ped_d\n",
    "\n",
    "\n",
    "    def get_parents(self,sample):\n",
    "        \"\"\" Returns dam and sire for the the selected sample.\"\"\"\n",
    "        dam, sire = self.pedigree[sample][\"dam\"],self.pedigree[sample][\"sire\"]\n",
    "        return dam,sire\n",
    "\n",
    "\n",
    "    def get_offspring(self, sample):\n",
    "        \"\"\"Returns all offspring for the the selected sample.\"\"\"\n",
    "        offspring_list = []\n",
    "        for key, item in self.pedigree.items():\n",
    "            if sample in [item[\"sire\"], item[\"dam\"]]:\n",
    "                offspring_list.append(key)\n",
    "        return offspring_list\n",
    "\n",
    "\n",
    "    def get_siblings(self,sample, half=False):#\n",
    "        \"\"\" Returns all siblings for the the selected sample.\n",
    "            If half=True, halfsibs are also returned.\"\"\"\n",
    "        dam, sire = self.get_parents(sample=sample)#\n",
    "        sibs = []\n",
    "        for key, item in self.pedigree.items():\n",
    "            if half==False:\n",
    "                if dam ==item[\"dam\"] and sire==item[\"sire\"]:\n",
    "                    sibs.append(key)\n",
    "            if half==True:\n",
    "                if dam ==item[\"dam\"] or sire==item[\"sire\"]:\n",
    "                    sibs.append(key)\n",
    "        return sibs\n",
    "\n",
    "\n",
    "    def get_families(self, generation,min_size_threshold=5):\n",
    "        \"\"\" Returns a list of lists, where each list represents all individuals\n",
    "            in the chosen generation that share both parents,\n",
    "            if the minimum threshold for family size is reached.\"\"\"\n",
    "        families = []\n",
    "        assigned_individuals = []\n",
    "        for key, item in self.pedigree.items():\n",
    "            ## lstrip() to deal with inconsistent 03/3 naming of generations\n",
    "            if item[\"generation\"].lstrip(\"0\")==str(generation).lstrip(\"0\"):\n",
    "                sibs = self.get_siblings(sample=key, half=False)\n",
    "                if not key in assigned_individuals:\n",
    "                    assigned_individuals= assigned_individuals + sibs\n",
    "                    if len(sibs)>=min_size_threshold:\n",
    "                        families.append(sibs)\n",
    "        return families\n",
    "\n",
    "\n",
    "    def write_pedigree(self, filename):\n",
    "        \"\"\" Writes the pedigree out to new file. \"\"\"\n",
    "        with open(filename, \"w\") as handle:\n",
    "            handle.write(\"ID\\tsire\\tdam\\tsex\\n\")\n",
    "            for key, item in self.pedigree.items():\n",
    "                handle.write(\"\\t\".join([key,\n",
    "                                        item[\"sire\"],\n",
    "                                        item[\"dam\"],\n",
    "                                        item[\"sex\"]])+\"\\n\")\n",
    "\n",
    "\n",
    "\n",
    "\n",
    "class Genotypes(object):\n",
    "    \"\"\" \"\"\"\n",
    "    def __init__(self,gt_file,pedigree_file=None):\n",
    "        \"\"\" initialise function \"\"\"\n",
    "        self.subset = []\n",
    "        self.gt_matrix = self._load_genotypes(gt_file)\n",
    "        self.samples  = list(self.gt_matrix.index.astype(str))\n",
    "        if pedigree_file:\n",
    "            self.pedigree = Pedigree(pedigree_file)\n",
    "        self.filters = []\n",
    "\n",
    "\n",
    "    def _load_genotypes(self, gt_file):\n",
    "        \"\"\" load new genotypes into Dataframe. \"\"\"\n",
    "        #import pandas as pd\n",
    "        df = pd.read_csv(gt_file)\n",
    "        df.index = df[\"Unnamed: 0\"].astype(str)\n",
    "        del(df[\"Unnamed: 0\"])\n",
    "        return df\n",
    "\n",
    "\n",
    "    def add_genotypes(self, gt_file):\n",
    "        \"\"\" Add genotypes to the genotype matrix \"\"\"\n",
    "        if self.subset:\n",
    "            print(\"you're appending new genotypes to a genotype matrix that might have been previously filtered. the filtering criteria are stored in self.subset \")\n",
    "        new_gt = self._load_genotypes(gt_file)\n",
    "        self.gt_matrix = pd.concat([self.gt_matrix, new_gt], sort=True)\n",
    "        #print(\"length: old\")\n",
    "        #print(len(self.samples))\n",
    "        self.samples = list(self.gt_matrix.index.astype(str)) # update sample list order\n",
    "        #print(\"length: new\")\n",
    "        #print(len(self.samples))\n",
    "        self.subset.append({\"type\":\"add_genotypes\", \"filename\":gt_file})\n",
    "        return None\n",
    "\n",
    "\n",
    "    def subset_gt(self,samples=None,bins=None):\n",
    "        \"\"\" subset the genotype matrix \"\"\"\n",
    "        new_gt =self.gt_matrix\n",
    "        if bins:\n",
    "            new_gt = new_gt[bins]\n",
    "        if samples:\n",
    "            new_gt = new_gt.loc[samples]\n",
    "        new_instance = copy.deepcopy(self)\n",
    "        new_instance.gt_matrix = new_gt\n",
    "        new_instance.samples  = list(new_instance.gt_matrix.index)\n",
    "        #TODO: same subsetting for other matrices\n",
    "        new_instance.subset.append({\"type\":\"subset\", \"samples\":samples, \"bins\":bins})\n",
    "        return new_instance\n",
    "\n",
    "\n",
    "    def get_sample(self, sample):\n",
    "        \"\"\" extract a specific sample from the genotype matrix \"\"\"\n",
    "        array = self.gt_matrix.loc[sample]\n",
    "        #TODO return additional information about sample\n",
    "        return array\n",
    "\n",
    "\n",
    "    def add_pedigree(self, pedigree_file):\n",
    "        \"\"\" add a pedigree to the class as self.pedigree \"\"\"\n",
    "        if self.pedigree:\n",
    "            print(\"there is already a pedigree loaded into the Genotype object, replacing it\")\n",
    "        self.pedigree = Pedigree(pedigree_file=pedigree_file)\n",
    "\n",
    "\n",
    "    def congruent(self, p1, p2, offspring, jitter=0.2):\n",
    "        \"\"\" check if the genotypes of a parent-offspring triplet are congruent for a specific bin \"\"\"\n",
    "        ##sanity check:\n",
    "        if not p1==\"NA\":\n",
    "            p1 = float(p1)\n",
    "            if p1 >1 or p1< -1:\n",
    "                raise ValueError(\"genotype probability out of bounds(1,-1) for p1: {}\".format(p1))\n",
    "        if not p2==\"NA\":\n",
    "            p2 = float(p2)\n",
    "            if p2 >1 or p2< -1:\n",
    "                raise ValueError(\"genotype probability out of bounds(1,-1) for p2: {}\".format(p2))\n",
    "        if not offspring==\"NA\":\n",
    "            offspring= float(offspring)\n",
    "            if offspring >1 or offspring< -1:\n",
    "                raise ValueError(\"genotype probability out of bounds(1,-1) for offspring: {}\".format(offspring))\n",
    "        if  offspring == \"NA\":\n",
    "            return 0\n",
    "        ## NA/X\n",
    "        if p1==\"NA\":\n",
    "            #-1/NA\n",
    "            if p2 == \"NA\":\n",
    "                return None\n",
    "            #NA/1\n",
    "            elif p2 >= 1-jitter:\n",
    "                if offspring >= 1-jitter:\n",
    "                    return 1  #1\n",
    "\n",
    "                elif 0+jitter >= offspring >= 0-jitter:\n",
    "                    return 1 #0\n",
    "                else:\n",
    "                    return -1 #-1\n",
    "            #NA/0\n",
    "            elif  0+jitter >= p2 >= 0-jitter:\n",
    "                return 0\n",
    "            #NA/-1\n",
    "            elif p2 <= -1+jitter:\n",
    "                if offspring <= -1+jitter:\n",
    "                    return 1  #-1\n",
    "\n",
    "                elif 0+jitter >= offspring >= 0-jitter:\n",
    "                    return 1  #0\n",
    "                else:\n",
    "                    return -1 #1\n",
    "        ##1/X\n",
    "        elif p1 >= 1-jitter:\n",
    "            #1/NA\n",
    "            if p2 == \"NA\":\n",
    "                if offspring >= 1-jitter:\n",
    "                    return 1\n",
    "                elif 0+jitter >= offspring >= 0-jitter:\n",
    "                    return 1\n",
    "                else:\n",
    "                    return -1\n",
    "            #1/1\n",
    "            elif p2 >= 1-jitter:\n",
    "                if offspring >= 1-jitter:\n",
    "                    return 2\n",
    "                else:\n",
    "                    return -2\n",
    "            #1/0\n",
    "            elif  0+jitter >= p2 >= 0-jitter:\n",
    "                if offspring >= 1-jitter:\n",
    "                    return 2\n",
    "                elif 0+jitter >= offspring >= 0-jitter:\n",
    "                    return 2\n",
    "                else:\n",
    "                    return -2\n",
    "            #1/-1\n",
    "            elif p2 <= -1+jitter:\n",
    "                if 0+jitter >= offspring >= 0-jitter:\n",
    "                    return 2\n",
    "                else:\n",
    "                    return -2\n",
    "        ## 0/X\n",
    "        elif 0+jitter >= p1 >= 0-jitter:\n",
    "            #0/NA\n",
    "            if p2 == \"NA\":\n",
    "                return 0 #1/0/-1\n",
    "            #0/1\n",
    "            elif p2 >= 1-jitter:\n",
    "                if offspring >= 1-jitter:\n",
    "                    return 2  #1\n",
    "                elif 0+jitter >= offspring >= 0-jitter:\n",
    "                    return 2 #0\n",
    "                else:\n",
    "                    return -2 #-1\n",
    "            #0/0\n",
    "            elif  0+jitter >= p2 >= 0-jitter:\n",
    "                return 0.5 #1/0/-1   #too much of a shortcut?\n",
    "            #0/-1\n",
    "            elif p2 <= -1+jitter:\n",
    "                if offspring <= -1+jitter:\n",
    "                    return 2  #-1\n",
    "                elif 0+jitter >= offspring >= 0-jitter:\n",
    "                    return 2 #0\n",
    "                else:\n",
    "                    return -2 #1\n",
    "        ##-1/X\n",
    "        elif p1 <= -1+jitter:\n",
    "            #-1/NA\n",
    "            if p2 == \"NA\":\n",
    "                if offspring <= -1+jitter:\n",
    "                    return 1  #-1\n",
    "                elif 0+jitter >= offspring >= 0-jitter:\n",
    "                    return 1 #0\n",
    "                else:\n",
    "                    return -1 #1\n",
    "            #-1/1\n",
    "            elif p2 >= 1-jitter:\n",
    "                if 0+jitter >= offspring >= 0-jitter:\n",
    "                    return 2 #0\n",
    "                else:\n",
    "                    return -2 #-1/1\n",
    "            #-1/0\n",
    "            elif  0+jitter >= p2 >= 0-jitter:\n",
    "                if offspring <= -1+jitter:\n",
    "                    return 2  #-1\n",
    "                elif 0+jitter >= offspring >= 0-jitter:\n",
    "                    return 2 #0\n",
    "                else:\n",
    "                    return -2 #+1\n",
    "            #-1/-1\n",
    "            elif p2 <= -1+jitter:\n",
    "                if offspring <= -1+jitter:\n",
    "                    return 2  #-1\n",
    "                else:\n",
    "                    return -2 #0/1\n",
    "\n",
    "\n",
    "    def get_chr(self, gt_matrix, chromosome=1):\n",
    "        \"\"\"extract all bins from self.gt_matrix that are associated with a given chromosome \"\"\"\n",
    "        gt_chr = gt_matrix[[i for i in gt_matrix.columns if i.split(\"-\")[0]==str(chromosome)]]\n",
    "        return gt_chr\n",
    "\n",
    "\n",
    "    def check_congruency(self, sample , chromosome=None, jitter=0.2):\n",
    "        \"\"\"check congruency for a given sample and, optionally, a specific chromosome. \"\"\"\n",
    "        p1,p2 = self.pedigree.get_parents(sample)\n",
    "        if p1 and p2 in self.samples:\n",
    "            triplet = [p1,p2, sample]\n",
    "            #print(triplet)\n",
    "            if chromosome:\n",
    "                arrs =  self.get_chr(self.get_sample(triplet), chromosome=chromosome).transpose()\n",
    "            else:\n",
    "                arrs = self.get_sample(triplet).transpose()\n",
    "            sample_cong = {}\n",
    "            for i, k in arrs.iterrows():\n",
    "                sample_cong[i]=self.congruent(p1=k[0], p2=k[1], offspring=k[2], jitter=jitter) # relies on order of triplet=[p1, p2, sample]!\n",
    "            df = pd.DataFrame.from_dict(sample_cong, orient=\"index\")\n",
    "            df.columns = [sample]\n",
    "            df = df.transpose()\n",
    "        else:\n",
    "            if chromosome:\n",
    "                arr =self.get_chr(self.get_sample(sample), chromosome=chromosome).transpose()\n",
    "            else:\n",
    "                arr = self.get_sample([sample])\n",
    "\n",
    "            df = pd.DataFrame(np.full_like(arr, None))\n",
    "            df.columns = arr.columns\n",
    "            df.index =[sample]\n",
    "        return df\n",
    "\n",
    "    def _get_congruency_matrix(self,jitter=0.2, chromosome=None):\n",
    "        \"\"\"\n",
    "        i'm not sure why i outsourced the functionality of get_congruency_matrix to this vaguely private function.\n",
    "        presumably because it allows computing it across just one chromosome while the other coerces a full, gt_matrix-like dataframe?\n",
    "        \"\"\"\n",
    "        df_list = []\n",
    "        for sample in self.samples:\n",
    "            df_list.append(self.check_congruency(sample, jitter=jitter))\n",
    "        full_df = pd.concat(df_list, sort=True)\n",
    "        return full_df\n",
    "\n",
    "    def get_congruency_matrix(self, jitter=0.2, simple=True):\n",
    "        \"\"\" compute congruency for all individuals that are genotyped and have genotyped parents on a 1mb-bin basis. \"\"\"\n",
    "        self.congruency_matrix = self._get_congruency_matrix(jitter=jitter, chromosome=None)\n",
    "        if simple==True:\n",
    "            def simplify(x):\n",
    "                if float(x)>0.5:\n",
    "                    x=1\n",
    "                elif float(x)<0:\n",
    "                    x=-1\n",
    "                else:\n",
    "                    x=np.nan\n",
    "                return x\n",
    "            self.congruency_matrix = self.congruency_matrix.applymap(simplify)\n",
    "            self.fill_in_parental_congruency()\n",
    "\n",
    "\n",
    "    def fill_in_parental_congruency(self):\n",
    "        \"\"\" fill in congruency scores for parents, using the mean congruency across their offspring.  \"\"\"\n",
    "        all_avail_gens = [[int(k),k] for k in set([i[-2:] for i in self.samples])]\n",
    "        all_avail_gens = sorted(all_avail_gens,key=itemgetter(0))\n",
    "        while len(all_avail_gens)>1:\n",
    "            highest = all_avail_gens.pop()\n",
    "            if  highest[0] - all_avail_gens[-1][0] == 1: # if both parentals and offspring generations are in the gt_matrix\n",
    "                for sample in [i for i in self.samples if i.endswith(all_avail_gens[-1][1])]:\n",
    "                    offspring = self.pedigree.get_offspring(sample=sample)\n",
    "                    offspring = [i for i in offspring if i in self.gt_matrix.index]# only offspring that have genotypes\n",
    "                    if not offspring == []: #only do this if there are offspring with genotypes\n",
    "                        if self.congruency_matrix.loc[[sample]].isnull().sum().sum() == len(self.congruency_matrix.loc[[sample]]): # if sample previously had no data:\n",
    "                            to_mean  = offspring\n",
    "                        else:\n",
    "                            to_mean = offspring + [sample]\n",
    "                        print(sample)\n",
    "                        print(self.congruency_matrix.loc[to_mean].mean(axis=0, skipna=True).mean(skipna=True))\n",
    "                        self.congruency_matrix.loc[sample]= self.congruency_matrix.loc[to_mean].mean(axis=0, skipna=True)\n",
    "\n",
    "\n",
    "    def load_markers_chr(self,sample, folder,chromosome=1, prefixes=[\"stripes_data\",\"with.fam.f2.call2.Genotype\"]):\n",
    "        \"\"\" loads all markers for a given chromosome for a given sample from the stripes input. \"\"\"\n",
    "        gen = sample[-2:].lstrip(\"0\") # strip 0 from 03, 04, etc.\n",
    "        filepath = os.path.join(folder, \"F{}\".format(gen), prefixes[0], prefixes[1], sample+\".genotype_DIR\", sample+\".genotype.chr.{}\".format(chromosome))\n",
    "        raw = open(filepath, \"r\").read().split(\"\\n\")\n",
    "        pos_only =  [int(i.split(\"\\t\")[1]) for i in raw if not i==\"\"]\n",
    "        return pos_only\n",
    "\n",
    "\n",
    "    def load_markers_sample(self, sample, folder, prefixes=[\"stripes_data\",\"with.fam.f2.call2.Genotype\"]):\n",
    "        \"\"\" load all informative markers for a given sample using the stripes input. \"\"\"\n",
    "        chromosomes = set([i.split(\"-\")[0] for i in self.gt_matrix.columns])\n",
    "        pos_dict = {}\n",
    "        for chromosome in chromosomes:\n",
    "            pos_dict[chromosome]=self.load_markers_chr(sample=sample, folder=folder, chromosome=chromosome, prefixes=prefixes)\n",
    "        return pos_dict\n",
    "\n",
    "\n",
    "    def construct_density_bin_matrix(self,folder, prefixes=[\"stripes_data\",\"with.fam.f2.call2.Genotype\"]):\n",
    "        \"\"\" Bins the available markers to assess the marker density per 1 mb bin.\"\"\"\n",
    "        chrom_bin_dict = {}\n",
    "        for i in list(self.gt_matrix.columns):\n",
    "            chrom, chrom_bin = i.split(\"-\")\n",
    "            #print(chrom, chrom_bin)\n",
    "            chrom_bin_dict.setdefault(chrom, []).append(chrom_bin)\n",
    "        bin_matrix = []\n",
    "        for sample in self.samples:\n",
    "            bin_array = [] # this is per sample\n",
    "            for i,k in chrom_bin_dict.items():\n",
    "                markers = self.load_markers_chr(sample=sample, folder=folder, prefixes=prefixes, chromosome=i)\n",
    "                bins = list(scipy.histogram(markers, bins=len(k))[0])\n",
    "                bin_array = bin_array+bins\n",
    "            bin_matrix.append(bin_array)\n",
    "        bin_df = pd.DataFrame(bin_matrix)\n",
    "        #print(bin_df.columns)\n",
    "        bin_df.columns = self.gt_matrix.columns\n",
    "        bin_df.index = self.gt_matrix.index\n",
    "        self.density_matrix = bin_df\n",
    "        #return chrom_bin_dict\n",
    "\n",
    "\n",
    "    def identify_bad_parents(self, generation, cutoff_fraction=0.8, quality_threshold=0.55, skip_chr=None):\n",
    "        \"\"\"\n",
    "        Identify Parents/Individuals in generation [generation] where [cutoff_fraction]\n",
    "        of offspring have a quality score below [quality_threshold].\n",
    "        \"\"\"\n",
    "        bad_parents = []\n",
    "        bad_parents_offspring = []\n",
    "        for sample in self.congruency_matrix.index:\n",
    "            #print(sample,\"all\")\n",
    "            if sample.endswith(str(generation)): # only get target generation\n",
    "                #print(\"target_gen\", sample)\n",
    "                offspring = self.pedigree.get_offspring(sample)\n",
    "                #print(offspring)\n",
    "                offspring = [i for i in offspring if i in self.congruency_matrix.index] # only check offspring that have values\n",
    "\n",
    "                #print(offspring, \"with cong\")\n",
    "                if len(offspring)>0: # only look at individuals that have offspring\n",
    "                    #print(sample, \"has offspring with cong\")\n",
    "                    if skip_chr == None:\n",
    "                        offspring_qual =  pd.DataFrame(self.congruency_matrix.loc[offspring].mean(axis=1))\n",
    "                    else:\n",
    "                        offspring_qual =  pd.DataFrame(self.congruency_matrix.loc[offspring][[i for i in self.congruency_matrix.columns if not i.startswith(str(skip_chr)+\"-\")]].mean(axis=1))\n",
    "                    offspring_qual.columns = [\"cong\"]\n",
    "                    #print(offspring_qual)\n",
    "                    #print(offspring_qual)\n",
    "                    if len(offspring_qual)>0: # only look at individuals that have scored offspring\n",
    "                        bad_offspring = offspring_qual.loc[offspring_qual[\"cong\"]<float(quality_threshold)]\n",
    "                        #print(len(bad_offspring))\n",
    "                        if (len(bad_offspring)/len(offspring_qual))>cutoff_fraction:\n",
    "                            bad_parents.append(sample)\n",
    "                            bad_parents_offspring = bad_parents_offspring+list(bad_offspring.index)\n",
    "                            #print(sample)\n",
    "        return bad_parents, bad_parents_offspring\n",
    "\n",
    "\n",
    "\n",
    "    def _filter_by_parentage(self,generation,cutoff_fraction=0.8,quality_threshold=0.55, skip_chr=None):\n",
    "        \"\"\" filter a specific generation by the fraction of good offspring they have. \"\"\"\n",
    "        mask = pd.DataFrame(np.zeros_like(self.gt_matrix))\n",
    "        bp, bpo = self.identify_bad_parents(generation=generation,cutoff_fraction=cutoff_fraction,quality_threshold=quality_threshold, skip_chr=skip_chr)\n",
    "        mask.index = self.gt_matrix.index\n",
    "        mask.columns = self.gt_matrix.columns\n",
    "        mask.loc[bp] = np.ones_like(mask.loc[bp])\n",
    "        mask.loc[bpo] = np.ones_like(mask.loc[bpo])\n",
    "        mask = mask.astype(bool)\n",
    "        return {\"type\":\"filter_by_parentage\",\n",
    "                \"generation\":generation,\n",
    "                \"cutoff_fraction\":cutoff_fraction,\n",
    "                \"quality_threshold\":quality_threshold,\n",
    "                \"mask\":mask}\n",
    "\n",
    "\n",
    "    def filter_by_parentage(self, cutoff_fraction=0.8, quality_threshold=0.55,skip_chr=None):\n",
    "        \"\"\" filter all individuals by the fraction of good offspring. \"\"\"\n",
    "        all_avail_gens = [[int(k),k] for k in set([i[-2:] for i in self.samples])]\n",
    "        all_avail_gens = sorted(all_avail_gens,key=itemgetter(0))\n",
    "        #print(all_avail_gens)\n",
    "        while len(all_avail_gens)>2:\n",
    "            curr_gen = all_avail_gens.pop(0)\n",
    "            #print(curr_gen, \"the current gen\")\n",
    "            if curr_gen[0] - all_avail_gens[0][0] == -1:  # if offspring generation is present in the data\n",
    "                #print(all_avail_gens[0], \"is present\")\n",
    "                mask =  self._filter_by_parentage(generation=curr_gen[1], cutoff_fraction=cutoff_fraction, quality_threshold=quality_threshold, skip_chr=skip_chr)\n",
    "                self.filters.append(mask)\n",
    "\n",
    "\n",
    "    def apply_filters(self, specific_filter=None, inplace=False):\n",
    "        \"\"\" apply all existing filters in self.filters and return a filtered gt_matrix (default) or filter inplace.\"\"\"\n",
    "\n",
    "        if specific_filter:\n",
    "            filtered_gt_matrix = self.gt_matrix.mask(specific_filter[\"mask\"])\n",
    "        else:\n",
    "            filtered_gt_matrix = self.gt_matrix\n",
    "            for i in self.filters:\n",
    "                filtered_gt_matrix = filtered_gt_matrix.mask(i[\"mask\"])\n",
    "                 # TODO: check if this works with multiple filters\n",
    "\n",
    "        if inplace == True:\n",
    "            self.gt_matrix = filtered_gt_matrix\n",
    "        else:\n",
    "            return filtered_gt_matrix\n",
    "\n",
    "    def _order_bins(self):\n",
    "        \"\"\"\n",
    "        take the columns ( i.e. bins) and order them logically.\n",
    "        e.g. [1-1, 1-2, 1-3] instead of [1-1, 1-10, 1-11]\n",
    "        \"\"\"\n",
    "        b=self.gt_matrix.columns\n",
    "        bin_dict = {}\n",
    "        for i in b:\n",
    "            i = i.split(\"-\")\n",
    "            bin_dict.setdefault(int(i[0]),[]).append(int(i[1]))\n",
    "\n",
    "        bin_list_ordered = []\n",
    "        kl = list(bin_dict.keys())\n",
    "        kl.sort()\n",
    "        for key in kl:\n",
    "            bin_dict[key].sort()\n",
    "            for j in bin_dict[key]:\n",
    "                bin_name = str(key)+\"-\"+str(j)\n",
    "                bin_list_ordered.append(bin_name)\n",
    "        return bin_list_ordered\n",
    "\n",
    "    def order_matrices(self, all_mt=True):\n",
    "        \"\"\" Order matrices, e.g. for plotting.\"\"\"\n",
    "        #columns = list(self.gt_matrix.columns)\n",
    "        ordered_columns = self._order_bins()\n",
    "        if all_mt == True:\n",
    "            self.gt_matrix = self.gt_matrix[ordered_columns]\n",
    "            self.congruency_matrix = self.congruency_matrix[ordered_columns]\n",
    "            self.density_matrix = self.density_matrix[ordered_columns]\n",
    "        else:\n",
    "            self.gt_matrix = self.gt_matrix[ordered_columns]\n",
    "\n",
    "\n",
    "    def unstack_and_merge(self):\n",
    "        \"\"\"make long-form dataframe out of all matrices and merge them on sample and bin\"\"\"\n",
    "        a = pd.DataFrame(self.congruency_matrix.unstack().reindex())\n",
    "        a = a.reset_index()\n",
    "        a.columns = [\"bin\", \"sample\", \"congruency\"]\n",
    "        b = pd.DataFrame(self.gt_matrix.unstack().reindex())\n",
    "        b = b.reset_index()\n",
    "        b.columns = [\"bin\", \"sample\", \"gt\"]\n",
    "        c  = pd.merge(a, b, on=[\"bin\", \"sample\"])\n",
    "        d = pd.DataFrame(self.density_matrix.unstack().reindex())\n",
    "        d = d.reset_index()\n",
    "        d.columns = [\"bin\", \"sample\", \"density\"]\n",
    "        e = pd.merge(c, d, on=[\"bin\", \"sample\"])\n",
    "        return e\n",
    "\n",
    "\n",
    "    def reset_filters(self):\n",
    "        \"\"\" Remove all filters. \"\"\"\n",
    "        self.filters=[]\n",
    "\n",
    "\n",
    "\n",
    "    def _find_runs(self,x):\n",
    "        \"\"\"\n",
    "        Find runs of consecutive items in an array.\n",
    "        taken from https://gist.github.com/alimanfoo/c5977e87111abe8127453b21204c1065 at 20190726\n",
    "        \"\"\"\n",
    "\n",
    "        # ensure array\n",
    "        x = np.asanyarray(x)\n",
    "        if x.ndim != 1:\n",
    "            raise ValueError('only 1D array supported')\n",
    "        n = x.shape[0]\n",
    "\n",
    "        # handle empty array\n",
    "        if n == 0:\n",
    "            return np.array([]), np.array([]), np.array([])\n",
    "\n",
    "        else:\n",
    "            # find run starts\n",
    "            loc_run_start = np.empty(n, dtype=bool)\n",
    "            loc_run_start[0] = True\n",
    "            np.not_equal(x[:-1], x[1:], out=loc_run_start[1:])\n",
    "            run_starts = np.nonzero(loc_run_start)[0]\n",
    "\n",
    "            # find run values\n",
    "            run_values = x[loc_run_start]\n",
    "\n",
    "            # find run lengths\n",
    "            run_lengths = np.diff(np.append(run_starts, n))\n",
    "\n",
    "            return run_values, run_starts, run_lengths\n",
    "\n",
    "\n",
    "    def smooth_small_xo(self, array, thresh=3, strict=True):\n",
    "        \"\"\" set all  genotype-runs smaller than 3 bins to NA \"\"\"\n",
    "        b = self._find_runs(array)\n",
    "        filter_array = np.zeros_like(array)\n",
    "        arr = np.array(array)\n",
    "        for i,k in enumerate(b[0]):\n",
    "            value = b[0][i]\n",
    "            start = b[1][i]\n",
    "            length = b[2][i]\n",
    "            left_border = start-1\n",
    "            right_border = start+length\n",
    "            if length<=thresh:\n",
    "                if strict == True:\n",
    "                    section = array[start:right_border]\n",
    "                    filter_array[start:right_border] = [1 for i in array[start:right_border]]\n",
    "                else:\n",
    "                    #print(left_border, right_border)\n",
    "                    if right_border == len(arr):\n",
    "                        pass\n",
    "                    elif arr[left_border] == \"NA\" or arr[right_border] == \"NA\":\n",
    "                        pass\n",
    "                    else:\n",
    "                        filter_array[start:right_border] = [1 for i in array[start:right_border]]\n",
    "        return filter_array\n",
    "\n",
    "\n",
    "    def _xo_filter(self,genotype_matrix, thresh=3, strict=True, generations = []):\n",
    "        \"\"\"filter genotype matrix \"\"\"\n",
    "        filter_matrix = []\n",
    "        for i, k in genotype_matrix.iterrows():\n",
    "            if len(generations)>0:\n",
    "                if i[-2:] in generations: # only filter generations you want to filter\n",
    "                    filter_matrix.append(self.smooth_small_xo(array=k, thresh=thresh, strict=strict))\n",
    "                else:\n",
    "                    filter_matrix.append(np.zeros_like(k))\n",
    "            else:\n",
    "                filter_matrix.append(self.smooth_small_xo(array=k, thresh=thresh, strict=strict))\n",
    "        filter_df = pd.DataFrame(filter_matrix)\n",
    "        mask = filter_df.astype(bool)\n",
    "        return {\"type\":\"filter_small_crossovers\",\n",
    "                \"threshold\":\"{} mb\".format(thresh),\n",
    "                \"mask\":mask}\n",
    "\n",
    "\n",
    "    def xo_filter(self, thresh=3, strict=True):\n",
    "        \"\"\" filter genotype matrix for crossovers smaller than [thresh], default 3 mb\"\"\"\n",
    "        self.order_matrices(all_mt=False)\n",
    "        mask = self._xo_filter(genotype_matrix=self.gt_matrix, thresh=thresh, strict=strict)\n",
    "        mask[\"mask\"].columns = self.gt_matrix.columns\n",
    "        mask[\"mask\"].index = self.gt_matrix.index\n",
    "        self.filters.append(mask)\n",
    "\n",
    "\n",
    "    def _fill_small_gaps(self, array, thresh=3):\n",
    "        \"\"\" \"\"\"\n",
    "        array = copy.deepcopy(array.fillna(\"NA\"))\n",
    "        b = self._find_runs(array)\n",
    "        for i,k in enumerate(b[0]):\n",
    "            value = b[0][i]\n",
    "            start = b[1][i]\n",
    "            length = b[2][i]\n",
    "            left_border = start-1\n",
    "            right_border = start+length\n",
    "            if length<=thresh:\n",
    "                if value == \"NA\":\n",
    "                    if right_border == len(array):\n",
    "                        pass\n",
    "                    elif array[left_border] == array[right_border]:\n",
    "                        #print(\"filling in section...\")\n",
    "                        section = array[start:right_border]\n",
    "                        new_sec = [ array[left_border] for i in section]\n",
    "                        array[start:right_border] = new_sec\n",
    "        return array\n",
    "\n",
    "\n",
    "    def _fill_gaps(self, genotype_matrix, thresh=3 ):\n",
    "        \"\"\" \"\"\"\n",
    "        new_matrix = []\n",
    "        for i, k in genotype_matrix.iterrows():\n",
    "            new_matrix.append(self._fill_small_gaps(array=k, thresh=thresh))\n",
    "        new_df = pd.DataFrame(new_matrix)\n",
    "        new_df.columns = genotype_matrix.columns\n",
    "        new_df.index = genotype_matrix.index\n",
    "        return new_df\n",
    "\n",
    "\n",
    "    def fill_gaps(self, thresh=3):\n",
    "        \"\"\" \"\"\"\n",
    "        filled_gt = self._fill_gaps(genotype_matrix=self.gt_matrix, thresh=thresh)\n",
    "        return filled_gt\n"
   ]
  },
  {
   "cell_type": "code",
   "execution_count": 46,
   "metadata": {},
   "outputs": [],
   "source": [
    "home = \"/home/tilman/nas/stripes_AIL_gg6a/stripes_2_rqtl\"\n",
    "samp_folder = os.listdir(home)\n",
    "#for i in samp_folder:\n",
    "    #print(os.listdir(os.path.join(home, i)))"
   ]
  },
  {
   "cell_type": "code",
   "execution_count": 47,
   "metadata": {},
   "outputs": [],
   "source": [
    "initial_file = os.path.join(home, \"F2\",\"F2_gt_matrix_FilteredForBinsize1000000.csv\" )\n",
    "gt = Genotypes(gt_file=initial_file, pedigree_file=\"/home/tilman/nas/pedigree/AIL_pedigree_20190813.tsv\")\n",
    "#gt.add_genotypes(gt_file =os.path.join(home, \"F3\",\"F3_gt_matrix_FilteredForBinsize1000000.csv\" ) )"
   ]
  },
  {
   "cell_type": "code",
   "execution_count": 48,
   "metadata": {},
   "outputs": [
    {
     "name": "stdout",
     "output_type": "stream",
     "text": [
      "you're appending new genotypes to a genotype matrix that might have been previously filtered. the filtering criteria are stored in self.subset \n",
      "you're appending new genotypes to a genotype matrix that might have been previously filtered. the filtering criteria are stored in self.subset \n",
      "you're appending new genotypes to a genotype matrix that might have been previously filtered. the filtering criteria are stored in self.subset \n",
      "you're appending new genotypes to a genotype matrix that might have been previously filtered. the filtering criteria are stored in self.subset \n",
      "you're appending new genotypes to a genotype matrix that might have been previously filtered. the filtering criteria are stored in self.subset \n",
      "you're appending new genotypes to a genotype matrix that might have been previously filtered. the filtering criteria are stored in self.subset \n",
      "you're appending new genotypes to a genotype matrix that might have been previously filtered. the filtering criteria are stored in self.subset \n",
      "you're appending new genotypes to a genotype matrix that might have been previously filtered. the filtering criteria are stored in self.subset \n",
      "you're appending new genotypes to a genotype matrix that might have been previously filtered. the filtering criteria are stored in self.subset \n",
      "you're appending new genotypes to a genotype matrix that might have been previously filtered. the filtering criteria are stored in self.subset \n",
      "you're appending new genotypes to a genotype matrix that might have been previously filtered. the filtering criteria are stored in self.subset \n"
     ]
    }
   ],
   "source": [
    "for i in samp_folder:\n",
    "    if not i==\"F2\":\n",
    "        #print(len(gt.samples))\n",
    "        if i.startswith(\"F\"):\n",
    "            gt.add_genotypes(gt_file=os.path.join(home, i, i+\"_gt_matrix_FilteredForBinsize1000000.csv\"))\n",
    "        #print(\"loaded:\")\n",
    "        #print(os.path.join(home, i, i+\"_gt_matrix_FilteredForBinsize1000000.csv\"))\n",
    "        #print(len(gt.samples))"
   ]
  },
  {
   "cell_type": "code",
   "execution_count": 49,
   "metadata": {},
   "outputs": [
    {
     "name": "stderr",
     "output_type": "stream",
     "text": [
      "/home/tilman/miniconda3/lib/python3.7/site-packages/ipykernel_launcher.py:412: DeprecationWarning: scipy.histogram is deprecated and will be removed in SciPy 2.0.0, use numpy.histogram instead\n"
     ]
    }
   ],
   "source": [
    "gt.construct_density_bin_matrix(folder=\"/home/tilman/nas/stripes_AIL_gg6a/\")"
   ]
  },
  {
   "cell_type": "code",
   "execution_count": 50,
   "metadata": {},
   "outputs": [
    {
     "ename": "KeyError",
     "evalue": "'Passing list-likes to .loc or [] with any missing labels is no longer supported, see https://pandas.pydata.org/pandas-docs/stable/user_guide/indexing.html#deprecate-loc-reindex-listlike'",
     "output_type": "error",
     "traceback": [
      "\u001b[0;31m---------------------------------------------------------------------------\u001b[0m",
      "\u001b[0;31mKeyError\u001b[0m                                  Traceback (most recent call last)",
      "\u001b[0;32m<ipython-input-50-e1edf54a710a>\u001b[0m in \u001b[0;36m<module>\u001b[0;34m\u001b[0m\n\u001b[0;32m----> 1\u001b[0;31m \u001b[0mgt\u001b[0m\u001b[0;34m.\u001b[0m\u001b[0mget_congruency_matrix\u001b[0m\u001b[0;34m(\u001b[0m\u001b[0;34m)\u001b[0m\u001b[0;34m\u001b[0m\u001b[0;34m\u001b[0m\u001b[0m\n\u001b[0m",
      "\u001b[0;32m<ipython-input-45-a6ee9abb4a69>\u001b[0m in \u001b[0;36mget_congruency_matrix\u001b[0;34m(self, jitter, simple)\u001b[0m\n\u001b[1;32m    346\u001b[0m     \u001b[0;32mdef\u001b[0m \u001b[0mget_congruency_matrix\u001b[0m\u001b[0;34m(\u001b[0m\u001b[0mself\u001b[0m\u001b[0;34m,\u001b[0m \u001b[0mjitter\u001b[0m\u001b[0;34m=\u001b[0m\u001b[0;36m0.2\u001b[0m\u001b[0;34m,\u001b[0m \u001b[0msimple\u001b[0m\u001b[0;34m=\u001b[0m\u001b[0;32mTrue\u001b[0m\u001b[0;34m)\u001b[0m\u001b[0;34m:\u001b[0m\u001b[0;34m\u001b[0m\u001b[0;34m\u001b[0m\u001b[0m\n\u001b[1;32m    347\u001b[0m         \u001b[0;34m\"\"\" compute congruency for all individuals that are genotyped and have genotyped parents on a 1mb-bin basis. \"\"\"\u001b[0m\u001b[0;34m\u001b[0m\u001b[0;34m\u001b[0m\u001b[0m\n\u001b[0;32m--> 348\u001b[0;31m         \u001b[0mself\u001b[0m\u001b[0;34m.\u001b[0m\u001b[0mcongruency_matrix\u001b[0m \u001b[0;34m=\u001b[0m \u001b[0mself\u001b[0m\u001b[0;34m.\u001b[0m\u001b[0m_get_congruency_matrix\u001b[0m\u001b[0;34m(\u001b[0m\u001b[0mjitter\u001b[0m\u001b[0;34m=\u001b[0m\u001b[0mjitter\u001b[0m\u001b[0;34m,\u001b[0m \u001b[0mchromosome\u001b[0m\u001b[0;34m=\u001b[0m\u001b[0;32mNone\u001b[0m\u001b[0;34m)\u001b[0m\u001b[0;34m\u001b[0m\u001b[0;34m\u001b[0m\u001b[0m\n\u001b[0m\u001b[1;32m    349\u001b[0m         \u001b[0;32mif\u001b[0m \u001b[0msimple\u001b[0m\u001b[0;34m==\u001b[0m\u001b[0;32mTrue\u001b[0m\u001b[0;34m:\u001b[0m\u001b[0;34m\u001b[0m\u001b[0;34m\u001b[0m\u001b[0m\n\u001b[1;32m    350\u001b[0m             \u001b[0;32mdef\u001b[0m \u001b[0msimplify\u001b[0m\u001b[0;34m(\u001b[0m\u001b[0mx\u001b[0m\u001b[0;34m)\u001b[0m\u001b[0;34m:\u001b[0m\u001b[0;34m\u001b[0m\u001b[0;34m\u001b[0m\u001b[0m\n",
      "\u001b[0;32m<ipython-input-45-a6ee9abb4a69>\u001b[0m in \u001b[0;36m_get_congruency_matrix\u001b[0;34m(self, jitter, chromosome)\u001b[0m\n\u001b[1;32m    340\u001b[0m         \u001b[0mdf_list\u001b[0m \u001b[0;34m=\u001b[0m \u001b[0;34m[\u001b[0m\u001b[0;34m]\u001b[0m\u001b[0;34m\u001b[0m\u001b[0;34m\u001b[0m\u001b[0m\n\u001b[1;32m    341\u001b[0m         \u001b[0;32mfor\u001b[0m \u001b[0msample\u001b[0m \u001b[0;32min\u001b[0m \u001b[0mself\u001b[0m\u001b[0;34m.\u001b[0m\u001b[0msamples\u001b[0m\u001b[0;34m:\u001b[0m\u001b[0;34m\u001b[0m\u001b[0;34m\u001b[0m\u001b[0m\n\u001b[0;32m--> 342\u001b[0;31m             \u001b[0mdf_list\u001b[0m\u001b[0;34m.\u001b[0m\u001b[0mappend\u001b[0m\u001b[0;34m(\u001b[0m\u001b[0mself\u001b[0m\u001b[0;34m.\u001b[0m\u001b[0mcheck_congruency\u001b[0m\u001b[0;34m(\u001b[0m\u001b[0msample\u001b[0m\u001b[0;34m,\u001b[0m \u001b[0mjitter\u001b[0m\u001b[0;34m=\u001b[0m\u001b[0mjitter\u001b[0m\u001b[0;34m)\u001b[0m\u001b[0;34m)\u001b[0m\u001b[0;34m\u001b[0m\u001b[0;34m\u001b[0m\u001b[0m\n\u001b[0m\u001b[1;32m    343\u001b[0m         \u001b[0mfull_df\u001b[0m \u001b[0;34m=\u001b[0m \u001b[0mpd\u001b[0m\u001b[0;34m.\u001b[0m\u001b[0mconcat\u001b[0m\u001b[0;34m(\u001b[0m\u001b[0mdf_list\u001b[0m\u001b[0;34m,\u001b[0m \u001b[0msort\u001b[0m\u001b[0;34m=\u001b[0m\u001b[0;32mTrue\u001b[0m\u001b[0;34m)\u001b[0m\u001b[0;34m\u001b[0m\u001b[0;34m\u001b[0m\u001b[0m\n\u001b[1;32m    344\u001b[0m         \u001b[0;32mreturn\u001b[0m \u001b[0mfull_df\u001b[0m\u001b[0;34m\u001b[0m\u001b[0;34m\u001b[0m\u001b[0m\n",
      "\u001b[0;32m<ipython-input-45-a6ee9abb4a69>\u001b[0m in \u001b[0;36mcheck_congruency\u001b[0;34m(self, sample, chromosome, jitter)\u001b[0m\n\u001b[1;32m    315\u001b[0m                 \u001b[0marrs\u001b[0m \u001b[0;34m=\u001b[0m  \u001b[0mself\u001b[0m\u001b[0;34m.\u001b[0m\u001b[0mget_chr\u001b[0m\u001b[0;34m(\u001b[0m\u001b[0mself\u001b[0m\u001b[0;34m.\u001b[0m\u001b[0mget_sample\u001b[0m\u001b[0;34m(\u001b[0m\u001b[0mtriplet\u001b[0m\u001b[0;34m)\u001b[0m\u001b[0;34m,\u001b[0m \u001b[0mchromosome\u001b[0m\u001b[0;34m=\u001b[0m\u001b[0mchromosome\u001b[0m\u001b[0;34m)\u001b[0m\u001b[0;34m.\u001b[0m\u001b[0mtranspose\u001b[0m\u001b[0;34m(\u001b[0m\u001b[0;34m)\u001b[0m\u001b[0;34m\u001b[0m\u001b[0;34m\u001b[0m\u001b[0m\n\u001b[1;32m    316\u001b[0m             \u001b[0;32melse\u001b[0m\u001b[0;34m:\u001b[0m\u001b[0;34m\u001b[0m\u001b[0;34m\u001b[0m\u001b[0m\n\u001b[0;32m--> 317\u001b[0;31m                 \u001b[0marrs\u001b[0m \u001b[0;34m=\u001b[0m \u001b[0mself\u001b[0m\u001b[0;34m.\u001b[0m\u001b[0mget_sample\u001b[0m\u001b[0;34m(\u001b[0m\u001b[0mtriplet\u001b[0m\u001b[0;34m)\u001b[0m\u001b[0;34m.\u001b[0m\u001b[0mtranspose\u001b[0m\u001b[0;34m(\u001b[0m\u001b[0;34m)\u001b[0m\u001b[0;34m\u001b[0m\u001b[0;34m\u001b[0m\u001b[0m\n\u001b[0m\u001b[1;32m    318\u001b[0m             \u001b[0msample_cong\u001b[0m \u001b[0;34m=\u001b[0m \u001b[0;34m{\u001b[0m\u001b[0;34m}\u001b[0m\u001b[0;34m\u001b[0m\u001b[0;34m\u001b[0m\u001b[0m\n\u001b[1;32m    319\u001b[0m             \u001b[0;32mfor\u001b[0m \u001b[0mi\u001b[0m\u001b[0;34m,\u001b[0m \u001b[0mk\u001b[0m \u001b[0;32min\u001b[0m \u001b[0marrs\u001b[0m\u001b[0;34m.\u001b[0m\u001b[0miterrows\u001b[0m\u001b[0;34m(\u001b[0m\u001b[0;34m)\u001b[0m\u001b[0;34m:\u001b[0m\u001b[0;34m\u001b[0m\u001b[0;34m\u001b[0m\u001b[0m\n",
      "\u001b[0;32m<ipython-input-45-a6ee9abb4a69>\u001b[0m in \u001b[0;36mget_sample\u001b[0;34m(self, sample)\u001b[0m\n\u001b[1;32m    159\u001b[0m     \u001b[0;32mdef\u001b[0m \u001b[0mget_sample\u001b[0m\u001b[0;34m(\u001b[0m\u001b[0mself\u001b[0m\u001b[0;34m,\u001b[0m \u001b[0msample\u001b[0m\u001b[0;34m)\u001b[0m\u001b[0;34m:\u001b[0m\u001b[0;34m\u001b[0m\u001b[0;34m\u001b[0m\u001b[0m\n\u001b[1;32m    160\u001b[0m         \u001b[0;34m\"\"\" extract a specific sample from the genotype matrix \"\"\"\u001b[0m\u001b[0;34m\u001b[0m\u001b[0;34m\u001b[0m\u001b[0m\n\u001b[0;32m--> 161\u001b[0;31m         \u001b[0marray\u001b[0m \u001b[0;34m=\u001b[0m \u001b[0mself\u001b[0m\u001b[0;34m.\u001b[0m\u001b[0mgt_matrix\u001b[0m\u001b[0;34m.\u001b[0m\u001b[0mloc\u001b[0m\u001b[0;34m[\u001b[0m\u001b[0msample\u001b[0m\u001b[0;34m]\u001b[0m\u001b[0;34m\u001b[0m\u001b[0;34m\u001b[0m\u001b[0m\n\u001b[0m\u001b[1;32m    162\u001b[0m         \u001b[0;31m#TODO return additional information about sample\u001b[0m\u001b[0;34m\u001b[0m\u001b[0;34m\u001b[0m\u001b[0;34m\u001b[0m\u001b[0m\n\u001b[1;32m    163\u001b[0m         \u001b[0;32mreturn\u001b[0m \u001b[0marray\u001b[0m\u001b[0;34m\u001b[0m\u001b[0;34m\u001b[0m\u001b[0m\n",
      "\u001b[0;32m~/miniconda3/lib/python3.7/site-packages/pandas/core/indexing.py\u001b[0m in \u001b[0;36m__getitem__\u001b[0;34m(self, key)\u001b[0m\n\u001b[1;32m   1765\u001b[0m \u001b[0;34m\u001b[0m\u001b[0m\n\u001b[1;32m   1766\u001b[0m             \u001b[0mmaybe_callable\u001b[0m \u001b[0;34m=\u001b[0m \u001b[0mcom\u001b[0m\u001b[0;34m.\u001b[0m\u001b[0mapply_if_callable\u001b[0m\u001b[0;34m(\u001b[0m\u001b[0mkey\u001b[0m\u001b[0;34m,\u001b[0m \u001b[0mself\u001b[0m\u001b[0;34m.\u001b[0m\u001b[0mobj\u001b[0m\u001b[0;34m)\u001b[0m\u001b[0;34m\u001b[0m\u001b[0;34m\u001b[0m\u001b[0m\n\u001b[0;32m-> 1767\u001b[0;31m             \u001b[0;32mreturn\u001b[0m \u001b[0mself\u001b[0m\u001b[0;34m.\u001b[0m\u001b[0m_getitem_axis\u001b[0m\u001b[0;34m(\u001b[0m\u001b[0mmaybe_callable\u001b[0m\u001b[0;34m,\u001b[0m \u001b[0maxis\u001b[0m\u001b[0;34m=\u001b[0m\u001b[0maxis\u001b[0m\u001b[0;34m)\u001b[0m\u001b[0;34m\u001b[0m\u001b[0;34m\u001b[0m\u001b[0m\n\u001b[0m\u001b[1;32m   1768\u001b[0m \u001b[0;34m\u001b[0m\u001b[0m\n\u001b[1;32m   1769\u001b[0m     \u001b[0;32mdef\u001b[0m \u001b[0m_is_scalar_access\u001b[0m\u001b[0;34m(\u001b[0m\u001b[0mself\u001b[0m\u001b[0;34m,\u001b[0m \u001b[0mkey\u001b[0m\u001b[0;34m:\u001b[0m \u001b[0mTuple\u001b[0m\u001b[0;34m)\u001b[0m\u001b[0;34m:\u001b[0m\u001b[0;34m\u001b[0m\u001b[0;34m\u001b[0m\u001b[0m\n",
      "\u001b[0;32m~/miniconda3/lib/python3.7/site-packages/pandas/core/indexing.py\u001b[0m in \u001b[0;36m_getitem_axis\u001b[0;34m(self, key, axis)\u001b[0m\n\u001b[1;32m   1951\u001b[0m                     \u001b[0;32mraise\u001b[0m \u001b[0mValueError\u001b[0m\u001b[0;34m(\u001b[0m\u001b[0;34m\"Cannot index with multidimensional key\"\u001b[0m\u001b[0;34m)\u001b[0m\u001b[0;34m\u001b[0m\u001b[0;34m\u001b[0m\u001b[0m\n\u001b[1;32m   1952\u001b[0m \u001b[0;34m\u001b[0m\u001b[0m\n\u001b[0;32m-> 1953\u001b[0;31m                 \u001b[0;32mreturn\u001b[0m \u001b[0mself\u001b[0m\u001b[0;34m.\u001b[0m\u001b[0m_getitem_iterable\u001b[0m\u001b[0;34m(\u001b[0m\u001b[0mkey\u001b[0m\u001b[0;34m,\u001b[0m \u001b[0maxis\u001b[0m\u001b[0;34m=\u001b[0m\u001b[0maxis\u001b[0m\u001b[0;34m)\u001b[0m\u001b[0;34m\u001b[0m\u001b[0;34m\u001b[0m\u001b[0m\n\u001b[0m\u001b[1;32m   1954\u001b[0m \u001b[0;34m\u001b[0m\u001b[0m\n\u001b[1;32m   1955\u001b[0m             \u001b[0;31m# nested tuple slicing\u001b[0m\u001b[0;34m\u001b[0m\u001b[0;34m\u001b[0m\u001b[0;34m\u001b[0m\u001b[0m\n",
      "\u001b[0;32m~/miniconda3/lib/python3.7/site-packages/pandas/core/indexing.py\u001b[0m in \u001b[0;36m_getitem_iterable\u001b[0;34m(self, key, axis)\u001b[0m\n\u001b[1;32m   1592\u001b[0m         \u001b[0;32melse\u001b[0m\u001b[0;34m:\u001b[0m\u001b[0;34m\u001b[0m\u001b[0;34m\u001b[0m\u001b[0m\n\u001b[1;32m   1593\u001b[0m             \u001b[0;31m# A collection of keys\u001b[0m\u001b[0;34m\u001b[0m\u001b[0;34m\u001b[0m\u001b[0;34m\u001b[0m\u001b[0m\n\u001b[0;32m-> 1594\u001b[0;31m             \u001b[0mkeyarr\u001b[0m\u001b[0;34m,\u001b[0m \u001b[0mindexer\u001b[0m \u001b[0;34m=\u001b[0m \u001b[0mself\u001b[0m\u001b[0;34m.\u001b[0m\u001b[0m_get_listlike_indexer\u001b[0m\u001b[0;34m(\u001b[0m\u001b[0mkey\u001b[0m\u001b[0;34m,\u001b[0m \u001b[0maxis\u001b[0m\u001b[0;34m,\u001b[0m \u001b[0mraise_missing\u001b[0m\u001b[0;34m=\u001b[0m\u001b[0;32mFalse\u001b[0m\u001b[0;34m)\u001b[0m\u001b[0;34m\u001b[0m\u001b[0;34m\u001b[0m\u001b[0m\n\u001b[0m\u001b[1;32m   1595\u001b[0m             return self.obj._reindex_with_indexers(\n\u001b[1;32m   1596\u001b[0m                 \u001b[0;34m{\u001b[0m\u001b[0maxis\u001b[0m\u001b[0;34m:\u001b[0m \u001b[0;34m[\u001b[0m\u001b[0mkeyarr\u001b[0m\u001b[0;34m,\u001b[0m \u001b[0mindexer\u001b[0m\u001b[0;34m]\u001b[0m\u001b[0;34m}\u001b[0m\u001b[0;34m,\u001b[0m \u001b[0mcopy\u001b[0m\u001b[0;34m=\u001b[0m\u001b[0;32mTrue\u001b[0m\u001b[0;34m,\u001b[0m \u001b[0mallow_dups\u001b[0m\u001b[0;34m=\u001b[0m\u001b[0;32mTrue\u001b[0m\u001b[0;34m\u001b[0m\u001b[0;34m\u001b[0m\u001b[0m\n",
      "\u001b[0;32m~/miniconda3/lib/python3.7/site-packages/pandas/core/indexing.py\u001b[0m in \u001b[0;36m_get_listlike_indexer\u001b[0;34m(self, key, axis, raise_missing)\u001b[0m\n\u001b[1;32m   1550\u001b[0m \u001b[0;34m\u001b[0m\u001b[0m\n\u001b[1;32m   1551\u001b[0m         self._validate_read_indexer(\n\u001b[0;32m-> 1552\u001b[0;31m             \u001b[0mkeyarr\u001b[0m\u001b[0;34m,\u001b[0m \u001b[0mindexer\u001b[0m\u001b[0;34m,\u001b[0m \u001b[0mo\u001b[0m\u001b[0;34m.\u001b[0m\u001b[0m_get_axis_number\u001b[0m\u001b[0;34m(\u001b[0m\u001b[0maxis\u001b[0m\u001b[0;34m)\u001b[0m\u001b[0;34m,\u001b[0m \u001b[0mraise_missing\u001b[0m\u001b[0;34m=\u001b[0m\u001b[0mraise_missing\u001b[0m\u001b[0;34m\u001b[0m\u001b[0;34m\u001b[0m\u001b[0m\n\u001b[0m\u001b[1;32m   1553\u001b[0m         )\n\u001b[1;32m   1554\u001b[0m         \u001b[0;32mreturn\u001b[0m \u001b[0mkeyarr\u001b[0m\u001b[0;34m,\u001b[0m \u001b[0mindexer\u001b[0m\u001b[0;34m\u001b[0m\u001b[0;34m\u001b[0m\u001b[0m\n",
      "\u001b[0;32m~/miniconda3/lib/python3.7/site-packages/pandas/core/indexing.py\u001b[0m in \u001b[0;36m_validate_read_indexer\u001b[0;34m(self, key, indexer, axis, raise_missing)\u001b[0m\n\u001b[1;32m   1652\u001b[0m             \u001b[0;32mif\u001b[0m \u001b[0;32mnot\u001b[0m \u001b[0;34m(\u001b[0m\u001b[0max\u001b[0m\u001b[0;34m.\u001b[0m\u001b[0mis_categorical\u001b[0m\u001b[0;34m(\u001b[0m\u001b[0;34m)\u001b[0m \u001b[0;32mor\u001b[0m \u001b[0max\u001b[0m\u001b[0;34m.\u001b[0m\u001b[0mis_interval\u001b[0m\u001b[0;34m(\u001b[0m\u001b[0;34m)\u001b[0m\u001b[0;34m)\u001b[0m\u001b[0;34m:\u001b[0m\u001b[0;34m\u001b[0m\u001b[0;34m\u001b[0m\u001b[0m\n\u001b[1;32m   1653\u001b[0m                 raise KeyError(\n\u001b[0;32m-> 1654\u001b[0;31m                     \u001b[0;34m\"Passing list-likes to .loc or [] with any missing labels \"\u001b[0m\u001b[0;34m\u001b[0m\u001b[0;34m\u001b[0m\u001b[0m\n\u001b[0m\u001b[1;32m   1655\u001b[0m                     \u001b[0;34m\"is no longer supported, see \"\u001b[0m\u001b[0;34m\u001b[0m\u001b[0;34m\u001b[0m\u001b[0m\n\u001b[1;32m   1656\u001b[0m                     \u001b[0;34m\"https://pandas.pydata.org/pandas-docs/stable/user_guide/indexing.html#deprecate-loc-reindex-listlike\"\u001b[0m  \u001b[0;31m# noqa:E501\u001b[0m\u001b[0;34m\u001b[0m\u001b[0;34m\u001b[0m\u001b[0m\n",
      "\u001b[0;31mKeyError\u001b[0m: 'Passing list-likes to .loc or [] with any missing labels is no longer supported, see https://pandas.pydata.org/pandas-docs/stable/user_guide/indexing.html#deprecate-loc-reindex-listlike'"
     ]
    }
   ],
   "source": [
    "gt.get_congruency_matrix()"
   ]
  },
  {
   "cell_type": "code",
   "execution_count": 51,
   "metadata": {},
   "outputs": [
    {
     "ename": "AttributeError",
     "evalue": "'Genotypes' object has no attribute 'congruency_matrix'",
     "output_type": "error",
     "traceback": [
      "\u001b[0;31m---------------------------------------------------------------------------\u001b[0m",
      "\u001b[0;31mAttributeError\u001b[0m                            Traceback (most recent call last)",
      "\u001b[0;32m<ipython-input-51-b20f3e9b8b96>\u001b[0m in \u001b[0;36m<module>\u001b[0;34m\u001b[0m\n\u001b[0;32m----> 1\u001b[0;31m \u001b[0mgt\u001b[0m\u001b[0;34m.\u001b[0m\u001b[0morder_matrices\u001b[0m\u001b[0;34m(\u001b[0m\u001b[0;34m)\u001b[0m\u001b[0;34m\u001b[0m\u001b[0;34m\u001b[0m\u001b[0m\n\u001b[0m",
      "\u001b[0;32m<ipython-input-45-a6ee9abb4a69>\u001b[0m in \u001b[0;36morder_matrices\u001b[0;34m(self, all_mt)\u001b[0m\n\u001b[1;32m    530\u001b[0m         \u001b[0;32mif\u001b[0m \u001b[0mall_mt\u001b[0m \u001b[0;34m==\u001b[0m \u001b[0;32mTrue\u001b[0m\u001b[0;34m:\u001b[0m\u001b[0;34m\u001b[0m\u001b[0;34m\u001b[0m\u001b[0m\n\u001b[1;32m    531\u001b[0m             \u001b[0mself\u001b[0m\u001b[0;34m.\u001b[0m\u001b[0mgt_matrix\u001b[0m \u001b[0;34m=\u001b[0m \u001b[0mself\u001b[0m\u001b[0;34m.\u001b[0m\u001b[0mgt_matrix\u001b[0m\u001b[0;34m[\u001b[0m\u001b[0mordered_columns\u001b[0m\u001b[0;34m]\u001b[0m\u001b[0;34m\u001b[0m\u001b[0;34m\u001b[0m\u001b[0m\n\u001b[0;32m--> 532\u001b[0;31m             \u001b[0mself\u001b[0m\u001b[0;34m.\u001b[0m\u001b[0mcongruency_matrix\u001b[0m \u001b[0;34m=\u001b[0m \u001b[0mself\u001b[0m\u001b[0;34m.\u001b[0m\u001b[0mcongruency_matrix\u001b[0m\u001b[0;34m[\u001b[0m\u001b[0mordered_columns\u001b[0m\u001b[0;34m]\u001b[0m\u001b[0;34m\u001b[0m\u001b[0;34m\u001b[0m\u001b[0m\n\u001b[0m\u001b[1;32m    533\u001b[0m             \u001b[0mself\u001b[0m\u001b[0;34m.\u001b[0m\u001b[0mdensity_matrix\u001b[0m \u001b[0;34m=\u001b[0m \u001b[0mself\u001b[0m\u001b[0;34m.\u001b[0m\u001b[0mdensity_matrix\u001b[0m\u001b[0;34m[\u001b[0m\u001b[0mordered_columns\u001b[0m\u001b[0;34m]\u001b[0m\u001b[0;34m\u001b[0m\u001b[0;34m\u001b[0m\u001b[0m\n\u001b[1;32m    534\u001b[0m         \u001b[0;32melse\u001b[0m\u001b[0;34m:\u001b[0m\u001b[0;34m\u001b[0m\u001b[0;34m\u001b[0m\u001b[0m\n",
      "\u001b[0;31mAttributeError\u001b[0m: 'Genotypes' object has no attribute 'congruency_matrix'"
     ]
    }
   ],
   "source": [
    "gt.order_matrices()"
   ]
  },
  {
   "cell_type": "code",
   "execution_count": 52,
   "metadata": {},
   "outputs": [
    {
     "data": {
      "image/png": "[encoded data removed]",
      "text/plain": [
       "<Figure size 432x288 with 1 Axes>"
      ]
     },
     "metadata": {
      "needs_background": "light"
     },
     "output_type": "display_data"
    }
   ],
   "source": [
    "plt.plot(gt.density_matrix.mean(axis=0))\n",
    "plt.show()"
   ]
  },
  {
   "cell_type": "code",
   "execution_count": 53,
   "metadata": {},
   "outputs": [
    {
     "data": {
      "image/png": "[encoded data removed]",
      "text/plain": [
       "<Figure size 1440x360 with 1 Axes>"
      ]
     },
     "metadata": {
      "needs_background": "light"
     },
     "output_type": "display_data"
    }
   ],
   "source": [
    "fig, ax = plt.subplots(ncols=1, nrows=1, figsize=(20,5))\n",
    "ax.hist(all_df_f2[\"start\"], bins=200, color=\"Red\", alpha=0.2, label=\"F2\")\n",
    "ax.hist(df_big[\"start\"], bins=200, alpha=0.4, label=\"F15\")\n",
    "plt.legend()\n",
    "plt.show()"
   ]
  },
  {
   "cell_type": "code",
   "execution_count": 54,
   "metadata": {},
   "outputs": [],
   "source": [
    "mean_density =  gt.density_matrix.mean(axis=0)"
   ]
  },
  {
   "cell_type": "code",
   "execution_count": 55,
   "metadata": {},
   "outputs": [],
   "source": [
    "mean_chr1 = mean_density[[i for i in mean_density.index if i.startswith(\"1-\")]]"
   ]
  },
  {
   "cell_type": "code",
   "execution_count": 56,
   "metadata": {},
   "outputs": [
    {
     "data": {
      "image/png": "[encoded data removed]",
      "text/plain": [
       "<Figure size 1440x360 with 1 Axes>"
      ]
     },
     "metadata": {
      "needs_background": "light"
     },
     "output_type": "display_data"
    }
   ],
   "source": [
    "fig, ax = plt.subplots(ncols=1, nrows=1, figsize=(20,5))\n",
    "ax.step(range(len(mean_chr1)), mean_chr1)\n",
    "plt.show()"
   ]
  },
  {
   "cell_type": "code",
   "execution_count": 57,
   "metadata": {},
   "outputs": [
    {
     "data": {
      "text/plain": [
       "198"
      ]
     },
     "execution_count": 57,
     "metadata": {},
     "output_type": "execute_result"
    }
   ],
   "source": [
    "len(mean_chr1)"
   ]
  },
  {
   "cell_type": "code",
   "execution_count": 58,
   "metadata": {},
   "outputs": [],
   "source": [
    "df_big_sorted = df_big.sort_values(by=\"start\", ascending=True)"
   ]
  },
  {
   "cell_type": "code",
   "execution_count": 59,
   "metadata": {},
   "outputs": [],
   "source": [
    "j = 0\n",
    "d = {i:0for i in range(198)}\n",
    "for i,k in df_big_sorted.iterrows():\n",
    "    \n",
    "    if (k[\"start\"]/1000000) > j:\n",
    "        #print(\"position\", k[\"pos\"]/1000000)\n",
    "        #print(\"position\", k[\"pos\"]//1000000)\n",
    "        j = k[\"start\"]//1000000\n",
    "        #print(\"is in\", j)\n",
    "        d[j] = d[j]+1"
   ]
  },
  {
   "cell_type": "code",
   "execution_count": 60,
   "metadata": {},
   "outputs": [],
   "source": [
    "rec_breaks_per_bin = [k for i, k in d.items()]\n"
   ]
  },
  {
   "cell_type": "code",
   "execution_count": 61,
   "metadata": {},
   "outputs": [
    {
     "data": {
      "image/png": "[encoded data removed]",
      "text/plain": [
       "<Figure size 1440x360 with 2 Axes>"
      ]
     },
     "metadata": {
      "needs_background": "light"
     },
     "output_type": "display_data"
    }
   ],
   "source": [
    "fig, ax = plt.subplots(ncols=1, nrows=1, figsize=(20,5))\n",
    "ax.step(range(len(mean_chr1)), rec_breaks_per_bin, where=\"mid\",label=\"recombination breakpoints per bin\")\n",
    "x = np.arange(len(mean_chr1))\n",
    "#ax.fill_between(x, 0, rec_breaks_per_bin, alpha=0.5, label=\"recombination breakpoints per bin\")\n",
    "ax2 = ax.twinx()\n",
    "ax2.step(range(len(mean_chr1)), mean_chr1, where=\"mid\", color=\"orange\",label=\"mean density per bin\")\n",
    "\n",
    "\n",
    "#ax2.fill_between(x, 0, mean_chr1,color=\"orange\", alpha=0.5, label=\"mean density per bin\")\n",
    "#ax.fill_between(x, 0, mean_chr1,color=\"orange\", alpha=0.5)\n",
    "ax.plot([200],[1200],color=\"white\", label=\"pearsons r: -0.055 \\n pvalue: 0.44\")\n",
    "ax.legend(bbox_to_anchor = [0.2, 0.9],frameon=False)\n",
    "ax2.legend(bbox_to_anchor = [0.14, 1],frameon=False)\n",
    "\n",
    "\n",
    "\n",
    "ax.set_xlim(0,197)\n",
    "ax.set_ylim(0,)\n",
    "ax2.set_ylim(0,)\n",
    "\n",
    "\n",
    "plt.show()"
   ]
  },
  {
   "cell_type": "code",
   "execution_count": 62,
   "metadata": {},
   "outputs": [
    {
     "data": {
      "image/png": "[encoded data removed]",
      "text/plain": [
       "<Figure size 1440x360 with 2 Axes>"
      ]
     },
     "metadata": {
      "needs_background": "light"
     },
     "output_type": "display_data"
    }
   ],
   "source": [
    "fig, ax = plt.subplots(ncols=1, nrows=1, figsize=(20,5))\n",
    "#ax.step(range(len(mean_chr1)), rec_breaks_per_bin, where=\"mid\")\n",
    "x = np.arange(len(mean_chr1))\n",
    "ax.fill_between(x, 0, rec_breaks_per_bin, alpha=0.5, label=\"recombination breakpoints per bin\")\n",
    "ax2 = ax.twinx()\n",
    "\n",
    "ax2.fill_between(x, 0, mean_chr1,color=\"orange\", alpha=0.5, label=\"mean density per bin\")\n",
    "#ax.fill_between(x, 0, mean_chr1,color=\"orange\", alpha=0.5)\n",
    "ax.plot([200],[1200],color=\"white\", label=\"pearsons r: -0.055 \\n pvalue: 0.44\")\n",
    "ax.legend(bbox_to_anchor = [0.2, 0.9],frameon=False)\n",
    "ax2.legend(bbox_to_anchor = [0.14, 1],frameon=False)\n",
    "\n",
    "\n",
    "\n",
    "ax.set_xlim(0,197)\n",
    "ax.set_ylim(0,)\n",
    "ax2.set_ylim(0,)\n",
    "\n",
    "\n",
    "plt.show()"
   ]
  },
  {
   "cell_type": "code",
   "execution_count": 63,
   "metadata": {},
   "outputs": [],
   "source": [
    "from scipy.stats.stats import pearsonr  "
   ]
  },
  {
   "cell_type": "code",
   "execution_count": 64,
   "metadata": {},
   "outputs": [
    {
     "data": {
      "text/plain": [
       "(0.7270838818074177, 7.573831266572136e-34)"
      ]
     },
     "execution_count": 64,
     "metadata": {},
     "output_type": "execute_result"
    }
   ],
   "source": [
    "pearsonr(mean_chr1, rec_breaks_per_bin)"
   ]
  },
  {
   "cell_type": "code",
   "execution_count": 65,
   "metadata": {},
   "outputs": [],
   "source": [
    "j = 0\n",
    "d = {i:0for i in range(198)}\n",
    "for i,k in df_big_sorted.iterrows():\n",
    "    \n",
    "    if (k[\"mean\"]/1000000) > j:\n",
    "        #print(\"position\", k[\"pos\"]/1000000)\n",
    "        #print(\"position\", k[\"pos\"]//1000000)\n",
    "        j = k[\"mean\"]//1000000\n",
    "        #print(\"is in\", j)\n",
    "        d[j] = d[j]+1"
   ]
  },
  {
   "cell_type": "code",
   "execution_count": 66,
   "metadata": {},
   "outputs": [],
   "source": [
    "rec_breaks_per_bin_mean = [k for i, k in d.items()]\n"
   ]
  },
  {
   "cell_type": "code",
   "execution_count": 67,
   "metadata": {},
   "outputs": [],
   "source": [
    "GG_marker_pos = [8.883994,\n",
    " 8.912936,\n",
    " 8.959004,\n",
    " 22.507858,\n",
    " 22.867275,\n",
    " 28.519753,\n",
    " 28.742506,\n",
    " 31.407322,\n",
    " 31.5205,\n",
    " 33.109344,\n",
    " 33.267647,\n",
    " 36.168263,\n",
    " 53.135388,\n",
    " 53.885881,\n",
    " 56.23131,\n",
    " 88.288637,\n",
    " 89.793898,\n",
    " 110.534187,\n",
    " 114.118715,\n",
    " 114.329382,\n",
    " 114.899198,\n",
    " 115.10253,\n",
    " 119.465676,\n",
    " 126.167075,\n",
    " 134.143579,\n",
    " 134.365873,\n",
    " 138.289666,\n",
    " 139.032578,\n",
    " 139.80074,\n",
    " 142.84801,\n",
    " 142.97431,\n",
    " 143.003837,\n",
    " 143.317865,\n",
    " 143.407863,\n",
    " 145.579464,\n",
    " 145.647342,\n",
    " 150.929579,\n",
    " 151.443877,\n",
    " 153.645775,\n",
    " 153.846618,\n",
    " 154.088899,\n",
    " 154.915579,\n",
    " 168.271271,\n",
    " 169.935296,\n",
    " 170.029167,\n",
    " 170.439956,\n",
    " 171.185457,\n",
    " 171.329418,\n",
    " 171.549616,\n",
    " 171.601631,\n",
    " 172.867207,\n",
    " 173.815317,\n",
    " 174.118054,\n",
    " 174.515225,\n",
    " 174.860183,\n",
    " 175.102555,\n",
    " 176.059576,\n",
    " 176.557071,\n",
    " 176.839439,\n",
    " 176.999778,\n",
    " 177.369732,\n",
    " 182.553715,\n",
    " 182.715674,\n",
    " 182.753191,\n",
    " 182.857245,\n",
    " 188.85904,\n",
    " 189.119224,\n",
    " 189.536264,\n",
    " 197.269868,\n",
    " 197.121948,\n",
    " 196.781584]"
   ]
  },
  {
   "cell_type": "code",
   "execution_count": 68,
   "metadata": {},
   "outputs": [
    {
     "data": {
      "image/png": "[encoded data removed]",
      "text/plain": [
       "<Figure size 1440x360 with 2 Axes>"
      ]
     },
     "metadata": {
      "needs_background": "light"
     },
     "output_type": "display_data"
    }
   ],
   "source": [
    "fig, ax = plt.subplots(ncols=1, nrows=1, figsize=(20,5))\n",
    "ax.step(range(len(mean_chr1)), rec_breaks_per_bin_mean, where=\"mid\",label=\"recombination breakpoints per bin MID\")\n",
    "x = np.arange(len(mean_chr1))\n",
    "#ax.fill_between(x, 0, rec_breaks_per_bin, alpha=0.5, label=\"recombination breakpoints per bin\")\n",
    "ax2 = ax.twinx()\n",
    "ax2.step(range(len(mean_chr1)), mean_chr1, where=\"mid\", color=\"orange\",label=\"mean density per bin\")\n",
    "\n",
    "\n",
    "#ax2.fill_between(x, 0, mean_chr1,color=\"orange\", alpha=0.5, label=\"mean density per bin\")\n",
    "#ax.fill_between(x, 0, mean_chr1,color=\"orange\", alpha=0.5)\n",
    "ax.plot([200],[1200],color=\"white\", label=\"pearsons r: -0.028 \\n pvalue: 0.7\")\n",
    "#ax.legend(bbox_to_anchor = [0.00449, 0.9],frameon=False)\n",
    "#ax2.legend(bbox_to_anchor = [0.14, 1],frameon=False)\n",
    "sns.rugplot(GG_marker_pos, color=\"red\", ax=ax)\n",
    "\n",
    "ax.set_xlim(165,175)\n",
    "#ax.set_xlim(182,185)\n",
    "ax.set_ylim(0,)\n",
    "ax2.set_ylim(0,)\n",
    "\n",
    "\n",
    "\n",
    "plt.show()"
   ]
  },
  {
   "cell_type": "code",
   "execution_count": 69,
   "metadata": {},
   "outputs": [
    {
     "data": {
      "text/plain": [
       "(0.7600482997667384, 1.5359342458198298e-38)"
      ]
     },
     "execution_count": 69,
     "metadata": {},
     "output_type": "execute_result"
    }
   ],
   "source": [
    "pearsonr(mean_chr1, rec_breaks_per_bin_mean)"
   ]
  },
  {
   "cell_type": "code",
   "execution_count": 70,
   "metadata": {},
   "outputs": [],
   "source": [
    "from collections import Counter"
   ]
  },
  {
   "cell_type": "code",
   "execution_count": 71,
   "metadata": {},
   "outputs": [
    {
     "data": {
      "image/png": "[encoded data removed]",
      "text/plain": [
       "<Figure size 432x288 with 1 Axes>"
      ]
     },
     "metadata": {
      "needs_background": "light"
     },
     "output_type": "display_data"
    }
   ],
   "source": [
    "plt.hist(Counter(df_big.loc[(df_big[\"mean\"]>125e6)&(df_big[\"mean\"]<128e6)][\"genotype\"]).values())\n",
    "plt.show()"
   ]
  },
  {
   "cell_type": "code",
   "execution_count": 72,
   "metadata": {},
   "outputs": [
    {
     "data": {
      "image/png": "[encoded data removed]",
      "text/plain": [
       "<Figure size 432x288 with 1 Axes>"
      ]
     },
     "metadata": {
      "needs_background": "light"
     },
     "output_type": "display_data"
    }
   ],
   "source": [
    "plt.hist(Counter(df_big.loc[(df_big[\"mean\"]>183e6)&(df_big[\"mean\"]<185e6)][\"genotype\"]).values())\n",
    "plt.show()"
   ]
  },
  {
   "cell_type": "code",
   "execution_count": 73,
   "metadata": {},
   "outputs": [
    {
     "data": {
      "text/plain": [
       "463"
      ]
     },
     "execution_count": 73,
     "metadata": {},
     "output_type": "execute_result"
    }
   ],
   "source": [
    "len(Counter(df_big.loc[(df_big[\"mean\"]>183e6)&(df_big[\"mean\"]<185e6)][\"genotype\"]))"
   ]
  },
  {
   "cell_type": "code",
   "execution_count": 74,
   "metadata": {},
   "outputs": [
    {
     "data": {
      "image/png": "[encoded data removed]",
      "text/plain": [
       "<Figure size 432x288 with 1 Axes>"
      ]
     },
     "metadata": {
      "needs_background": "light"
     },
     "output_type": "display_data"
    }
   ],
   "source": [
    "plt.hist(df_big.loc[(df_big[\"mean\"]>180e6)&(df_big[\"mean\"]<190e6)][\"mean\"])\n",
    "plt.show()"
   ]
  },
  {
   "cell_type": "code",
   "execution_count": 75,
   "metadata": {},
   "outputs": [
    {
     "data": {
      "text/plain": [
       "1-183    84.807327\n",
       "1-184    21.095518\n",
       "1-185     9.406608\n",
       "dtype: float64"
      ]
     },
     "execution_count": 75,
     "metadata": {},
     "output_type": "execute_result"
    }
   ],
   "source": [
    "mean_density.loc[[\"1-183\",\"1-184\", \"1-185\"]]"
   ]
  },
  {
   "cell_type": "code",
   "execution_count": null,
   "metadata": {},
   "outputs": [],
   "source": []
  }
 ],
 "metadata": {
  "kernelspec": {
   "display_name": "Python 3",
   "language": "python",
   "name": "python3"
  },
  "language_info": {
   "codemirror_mode": {
    "name": "ipython",
    "version": 3
   },
   "file_extension": ".py",
   "mimetype": "text/x-python",
   "name": "python",
   "nbconvert_exporter": "python",
   "pygments_lexer": "ipython3",
   "version": "3.8.3"
  }
 },
 "nbformat": 4,
 "nbformat_minor": 4
}
