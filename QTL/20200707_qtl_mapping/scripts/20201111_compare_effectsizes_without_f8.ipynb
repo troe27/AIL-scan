{
 "cells": [
  {
   "cell_type": "code",
   "execution_count": 2,
   "metadata": {},
   "outputs": [],
   "source": [
    "import pandas as pd\n",
    "import numpy as np\n",
    "import seaborn as sns\n",
    "import matplotlib.pyplot as plt"
   ]
  },
  {
   "cell_type": "code",
   "execution_count": 3,
   "metadata": {},
   "outputs": [],
   "source": [
    "sugg = pd.read_csv('20201111_fit_sugg_ests.csv')\n",
    "sugg_nof8 = pd.read_csv('20201111_fit_sugg_nof8_ests.csv')"
   ]
  },
  {
   "cell_type": "code",
   "execution_count": null,
   "metadata": {},
   "outputs": [],
   "source": []
  },
  {
   "cell_type": "code",
   "execution_count": 7,
   "metadata": {},
   "outputs": [],
   "source": [
    "merged_df = pd.merge(sugg, sugg_nof8, on='Unnamed: 0', )"
   ]
  },
  {
   "cell_type": "code",
   "execution_count": 9,
   "metadata": {},
   "outputs": [],
   "source": [
    "merged_df.columns = ['var', 'all', 'nof8']"
   ]
  },
  {
   "cell_type": "code",
   "execution_count": 10,
   "metadata": {},
   "outputs": [],
   "source": [
    "merged_df.index= merged_df['var']; del(merged_df['var'])"
   ]
  },
  {
   "cell_type": "code",
   "execution_count": 19,
   "metadata": {},
   "outputs": [],
   "source": [
    "diff = merged_df['all'] - merged_df['nof8']"
   ]
  },
  {
   "cell_type": "code",
   "execution_count": 42,
   "metadata": {},
   "outputs": [],
   "source": [
    "all_add_loci = merged_df.loc[[i for i in list(merged_df.index) if i .endswith('a') ]]\n",
    "all_dom_loci = merged_df.loc[[i for i in list(merged_df.index) if i .endswith('d') ]]"
   ]
  },
  {
   "cell_type": "code",
   "execution_count": 33,
   "metadata": {},
   "outputs": [],
   "source": [
    "diff = all_add_loci['all'] - all_add_loci['nof8']"
   ]
  },
  {
   "cell_type": "code",
   "execution_count": 51,
   "metadata": {},
   "outputs": [
    {
     "data": {
      "image/png": "[encoded data removed]",
      "text/plain": [
       "<Figure size 1440x360 with 2 Axes>"
      ]
     },
     "metadata": {
      "needs_background": "light"
     },
     "output_type": "display_data"
    }
   ],
   "source": [
    "fig, (ax, ax1) = plt.subplots(ncols=1, nrows=2, figsize=(20,5), sharex=True)\n",
    "#ax.bar(x=range(len(diff)), height=diff)\n",
    "ax.bar(x=range(len(diff)), height=all_add_loci['all'], color='red', alpha=0.5, label='all')\n",
    "ax.bar(x=range(len(diff)), height=all_add_loci['nof8'], color='blue', alpha=0.5, label='excluding f8')\n",
    "ax.legend()\n",
    "\n",
    "ax.set_xticks(range(len(diff)))\n",
    "ax.set_ylabel('effect-size - additive', size=12)\n",
    "ax.set_ylim(-20, 30)\n",
    "\n",
    "\n",
    "\n",
    "ax1.bar(x=range(len(diff)), height=all_dom_loci['all'], color='red', alpha=0.5, label='all')\n",
    "ax1.bar(x=range(len(diff)), height=all_dom_loci['nof8'], color='blue', alpha=0.5, label='excluding f8')\n",
    "\n",
    "ax1.set_ylim(-20, 30)\n",
    "\n",
    "ax1.set_ylabel('effect-size - dominance', size=12)\n",
    "ax1.set_xlabel('qtls', size=20)\n",
    "ax1.set_xticklabels(all_add_loci.index, rotation=90)\n",
    "\n",
    "#ax1.legend()\n",
    "\n",
    "plt.show()"
   ]
  },
  {
   "cell_type": "code",
   "execution_count": 57,
   "metadata": {},
   "outputs": [],
   "source": [
    "chrtab = [\"Chromosome 1\\tCM000093.5\\t=\\tNC_006088.5\\t7\\n\",\n",
    "    \"Chromosome 2\\tCM000094.5\\t=\\tNC_006089.5\\t0\\n\",\n",
    "    \"Chromosome 3\\tCM000095.5\\t=\\tNC_006090.5\\t4\\n\",\n",
    "    \"Chromosome 4\\tCM000096.5\\t=\\tNC_006091.5\\t0\\n\",\n",
    "    \"Chromosome 5\\tCM000097.5\\t=\\tNC_006092.5\\t0\\n\",\n",
    "    \"Chromosome 6\\tCM000098.5\\t=\\tNC_006093.5\\t6\\n\",\n",
    "    \"Chromosome 7\\tCM000099.5\\t=\\tNC_006094.5\\t0\\n\",\n",
    "    \"Chromosome 8\\tCM000100.5\\t=\\tNC_006095.5\\t0\\n\",\n",
    "    \"Chromosome 9\\tCM000101.5\\t=\\tNC_006096.5\\t1\\n\",\n",
    "    \"Chromosome 10\\tCM000102.5\\t=\\tNC_006097.5\\t0\\n\",\n",
    "    \"Chromosome 11\\tCM000103.5\\t=\\tNC_006098.5\\t0\\n\",\n",
    "    \"Chromosome 12\\tCM000104.5\\t=\\tNC_006099.5\\t0\\n\",\n",
    "    \"Chromosome 13\\tCM000105.5\\t=\\tNC_006100.5\\t1\\n\",\n",
    "    \"Chromosome 14\\tCM000106.5\\t=\\tNC_006101.5\\t1\\n\",\n",
    "    \"Chromosome 15\\tCM000107.5\\t=\\tNC_006102.5\\t1\\n\",\n",
    "    \"Chromosome 16\\tCM000108.5\\t=\\tNC_006103.5\\t1\\n\",\n",
    "    \"Chromosome 17\\tCM000109.5\\t=\\tNC_006104.5\\t0\\n\",\n",
    "    \"Chromosome 18\\tCM000110.5\\t=\\tNC_006105.5\\t0\\n\",\n",
    "    \"Chromosome 19\\tCM000111.5\\t=\\tNC_006106.5\\t1\\n\",\n",
    "    \"Chromosome 20\\tCM000112.5\\t=\\tNC_006107.5\\t0\\n\",\n",
    "    \"Chromosome 21\\tCM000113.5\\t=\\tNC_006108.5\\t0\\n\",\n",
    "    \"Chromosome 22\\tCM000114.5\\t=\\tNC_006109.5\\t1\\n\",\n",
    "    \"Chromosome 23\\tCM000115.5\\t=\\tNC_006110.5\\t6\\n\",\n",
    "    \"Chromosome 24\\tCM000116.5\\t=\\tNC_006111.5\\t0\\n\",\n",
    "    \"Chromosome 25\\tCM000124.5\\t=\\tNC_006112.4\\t1\\n\",\n",
    "    \"Chromosome 26\\tCM000117.5\\t=\\tNC_006113.5\\t0\\n\",\n",
    "    \"Chromosome 27\\tCM000118.5\\t=\\tNC_006114.5\\t0\\n\",\n",
    "    \"Chromosome 28\\tCM000119.5\\t=\\tNC_006115.5\\t1\\n\",\n",
    "    \"Chromosome 30\\tCM003637.2\\t=\\tNC_028739.2\\t0\\n\",\n",
    "    \"Chromosome 31\\tCM003638.2\\t=\\tNC_028740.2\\t3\\n\",\n",
    "    \"Chromosome 32\\tCM000120.4\\t=\\tNC_006119.4\\t0\\n\",\n",
    "    \"Chromosome 33\\tCM000123.5\\t=\\tNC_008465.4\\t1\\n\",\n",
    "    \"Chromosome W\\tCM000121.5\\t=\\tNC_006126.5\\t52\\n\",\n",
    "    \"Chromosome Z\\tCM000122.5\\t=\\tNC_006127.5\" ]"
   ]
  },
  {
   "cell_type": "code",
   "execution_count": 58,
   "metadata": {},
   "outputs": [],
   "source": [
    "chrtab = [i.rstrip('\\n') for i in chrtab]\n",
    "chrtab = [i.split('\\t') for i in chrtab]\n",
    "chrtab = pd.DataFrame(chrtab)"
   ]
  },
  {
   "cell_type": "code",
   "execution_count": 61,
   "metadata": {},
   "outputs": [],
   "source": [
    "chrtab = chrtab[[0,3]]"
   ]
  },
  {
   "cell_type": "code",
   "execution_count": 70,
   "metadata": {},
   "outputs": [
    {
     "name": "stderr",
     "output_type": "stream",
     "text": [
      "/home/tilman/miniconda3/lib/python3.8/site-packages/pandas/core/generic.py:5159: SettingWithCopyWarning: \n",
      "A value is trying to be set on a copy of a slice from a DataFrame.\n",
      "Try using .loc[row_indexer,col_indexer] = value instead\n",
      "\n",
      "See the caveats in the documentation: https://pandas.pydata.org/pandas-docs/stable/user_guide/indexing.html#returning-a-view-versus-a-copy\n",
      "  self[name] = value\n"
     ]
    }
   ],
   "source": [
    "chrtab.columns = ['number', 'name']\n",
    "chrtab.number = [i.strip('Chromosome ') for i in chrtab.number]"
   ]
  },
  {
   "cell_type": "code",
   "execution_count": 71,
   "metadata": {},
   "outputs": [],
   "source": [
    "# import the chr_ranks_table\\n\",\n",
    "chr_ranks_file = '/home/tilman/nas/stripes_AIL_gg6a/F3/stripes_data/input_aux/Index_fastq_contig_chr.txt'\n",
    "chr_ranks_table =  pd.read_csv(chr_ranks_file, sep=\"\\t\", header=0) # File has a header!\n",
    "chr_ranks_table.columns = [\"name\", \"size\", \"rank\"]\n",
    "chr_ranks_table['rank'] = chr_ranks_table['rank'].astype(int)\n",
    "chr_ranks_table['size'] = chr_ranks_table['size'].astype(int)\n",
    "chr_ranks_table.sort_values(by=\"rank\", ascending=True, inplace=True)"
   ]
  },
  {
   "cell_type": "code",
   "execution_count": 72,
   "metadata": {},
   "outputs": [],
   "source": [
    "chr_all_tab = chr_ranks_table.merge(chrtab, on='name', how='left')"
   ]
  },
  {
   "cell_type": "code",
   "execution_count": 73,
   "metadata": {},
   "outputs": [],
   "source": [
    "chr_all_tab = chr_all_tab.replace(np.nan, 'NA')"
   ]
  },
  {
   "cell_type": "code",
   "execution_count": 75,
   "metadata": {},
   "outputs": [],
   "source": [
    "translate_dict = {}\n",
    "for i , k in chr_all_tab.iterrows():\n",
    "    if not k['number']=='NA':\n",
    "        translate_dict[str(k['rank'])] = str(k['number'])\n",
    "    else:\n",
    "        translate_dict[str(k['rank'])] = str(k['name'])\n"
   ]
  },
  {
   "cell_type": "code",
   "execution_count": 80,
   "metadata": {},
   "outputs": [],
   "source": [
    "qtl_chr_ranks = \"\"\"1\n",
    "1\n",
    "1\n",
    "2\n",
    "2\n",
    "3\n",
    "4\n",
    "6\n",
    "6\n",
    "7\n",
    "8\n",
    "8\n",
    "9\n",
    "10\n",
    "12\n",
    "13\n",
    "14\n",
    "16\n",
    "21\n",
    "23\n",
    "27\n",
    "29\n",
    "\"\"\".split('\\n')"
   ]
  },
  {
   "cell_type": "code",
   "execution_count": 84,
   "metadata": {},
   "outputs": [
    {
     "name": "stdout",
     "output_type": "stream",
     "text": [
      "1\n",
      "1\n",
      "1\n",
      "2\n",
      "2\n",
      "3\n",
      "4\n",
      "5\n",
      "5\n",
      "7\n",
      "6\n",
      "6\n",
      "8\n",
      "9\n",
      "12\n",
      "11\n",
      "13\n",
      "20\n",
      "27\n",
      "21\n",
      "23\n",
      "22\n",
      "22\n"
     ]
    }
   ],
   "source": [
    "print('\\n'.join([translate_dict[i] for i in qtl_chr_ranks]))"
   ]
  },
  {
   "cell_type": "code",
   "execution_count": 92,
   "metadata": {},
   "outputs": [
    {
     "data": {
      "text/plain": [
       "[['1', 84.2],\n",
       " ['1', 164.2],\n",
       " ['1', 401.7],\n",
       " ['2', 216.0],\n",
       " ['2', 327.2],\n",
       " ['3', 141.7],\n",
       " ['4', 49.5],\n",
       " ['6', 0.0],\n",
       " ['6', 78.1],\n",
       " ['7', 50.2],\n",
       " ['8', 21.7],\n",
       " ['8', 91.2],\n",
       " ['9', 0.7],\n",
       " ['10', 20.5],\n",
       " ['12', 7.5],\n",
       " ['13', 4.3],\n",
       " ['14', 22.9],\n",
       " ['16', 9.0],\n",
       " ['21', 3.1],\n",
       " ['23', 0.0],\n",
       " ['27', 0.0],\n",
       " ['29', 0.0]]"
      ]
     },
     "execution_count": 92,
     "metadata": {},
     "output_type": "execute_result"
    }
   ],
   "source": [
    "[[i.split('@')[0], float(i.split('@')[1].rstrip('a'))] for i in merged_df.index if i.endswith('a')]"
   ]
  },
  {
   "cell_type": "code",
   "execution_count": 96,
   "metadata": {},
   "outputs": [
    {
     "name": "stdout",
     "output_type": "stream",
     "text": [
      "84.2\n",
      "164.2\n",
      "401.7\n",
      "216.0\n",
      "327.2\n",
      "141.7\n",
      "49.5\n",
      "0.0\n",
      "78.1\n",
      "50.2\n",
      "21.7\n",
      "91.2\n",
      "0.7\n",
      "20.5\n",
      "7.5\n",
      "4.3\n",
      "22.9\n",
      "9.0\n",
      "3.1\n",
      "0.0\n",
      "0.0\n",
      "0.0\n"
     ]
    }
   ],
   "source": [
    "print('\\n'.join([ i.split('@')[1].rstrip('a') for i in merged_df.index if i.endswith('a')]))"
   ]
  },
  {
   "cell_type": "code",
   "execution_count": 105,
   "metadata": {},
   "outputs": [],
   "source": [
    "mbpos = \"\"\"50\n",
    "79\n",
    "170\n",
    "98\n",
    "138\n",
    "77\n",
    "15\n",
    "4\n",
    "29\n",
    "22\n",
    "9\n",
    "36\n",
    "4\n",
    "16\n",
    "9\n",
    "8\n",
    "12\n",
    "10\n",
    "9\n",
    "1\n",
    "7\n",
    "6\"\"\".split('\\n')"
   ]
  },
  {
   "cell_type": "code",
   "execution_count": 108,
   "metadata": {},
   "outputs": [
    {
     "name": "stdout",
     "output_type": "stream",
     "text": [
      "50/84.2\n",
      "79/164.2\n",
      "170/401.7\n",
      "98/216.0\n",
      "138/327.2\n",
      "77/141.7\n",
      "15/49.5\n",
      "4/0.0\n",
      "29/78.1\n",
      "22/50.2\n",
      "9/21.7\n",
      "36/91.2\n",
      "4/0.7\n",
      "16/20.5\n",
      "9/7.5\n",
      "8/4.3\n",
      "12/22.9\n",
      "10/9.0\n",
      "9/3.1\n",
      "1/0.0\n",
      "7/0.0\n",
      "6/0.0\n"
     ]
    }
   ],
   "source": [
    "for i in list(map(list, zip(*[mbpos,[i.split('@')[1].rstrip('a') for i in merged_df.index if i.endswith('a')]]))):\n",
    "    print('/'.join(i))"
   ]
  }
 ],
 "metadata": {
  "kernelspec": {
   "display_name": "Python 3",
   "language": "python",
   "name": "python3"
  },
  "language_info": {
   "codemirror_mode": {
    "name": "ipython",
    "version": 3
   },
   "file_extension": ".py",
   "mimetype": "text/x-python",
   "name": "python",
   "nbconvert_exporter": "python",
   "pygments_lexer": "ipython3",
   "version": "3.8.3"
  }
 },
 "nbformat": 4,
 "nbformat_minor": 4
}
