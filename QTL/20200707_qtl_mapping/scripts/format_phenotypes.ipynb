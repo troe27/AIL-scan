{
 "cells": [
  {
   "cell_type": "code",
   "execution_count": 84,
   "metadata": {},
   "outputs": [],
   "source": [
    "import pandas as pd\n",
    "import numpy as np"
   ]
  },
  {
   "cell_type": "code",
   "execution_count": 3,
   "metadata": {},
   "outputs": [],
   "source": []
  },
  {
   "cell_type": "code",
   "execution_count": 31,
   "metadata": {},
   "outputs": [],
   "source": [
    "gt = pd.read_csv('../data/20200707_xo3mb_missing_ws200_bs1e6_res10kb_3mbfilled.csv')\n",
    "gt_ids = list(gt.id)\n",
    "gt_ids = gt_ids[1:]\n",
    "gt_ids = [str(int(i)) for i in gt_ids]"
   ]
  },
  {
   "cell_type": "code",
   "execution_count": null,
   "metadata": {},
   "outputs": [],
   "source": []
  },
  {
   "cell_type": "code",
   "execution_count": 10,
   "metadata": {},
   "outputs": [
    {
     "data": {
      "text/plain": [
       "3136"
      ]
     },
     "execution_count": 10,
     "metadata": {},
     "output_type": "execute_result"
    }
   ],
   "source": [
    "len(gt_ids)"
   ]
  },
  {
   "cell_type": "code",
   "execution_count": 11,
   "metadata": {},
   "outputs": [
    {
     "data": {
      "text/plain": [
       "3136"
      ]
     },
     "execution_count": 11,
     "metadata": {},
     "output_type": "execute_result"
    }
   ],
   "source": [
    "len(set(gt_ids))"
   ]
  },
  {
   "cell_type": "code",
   "execution_count": 14,
   "metadata": {},
   "outputs": [],
   "source": [
    "ph = pd.read_csv('../data/AIL_phenotypes20190827.tsv', sep='\\t')"
   ]
  },
  {
   "cell_type": "code",
   "execution_count": 51,
   "metadata": {},
   "outputs": [
    {
     "data": {
      "text/plain": [
       "Index(['id', 'Unnamed: 0', 'ABDFAT', 'BREAST_L_M', 'BREAST_R_M', 'BURSA',\n",
       "       'BW0', 'BW10', 'BW2', 'BW4', 'BW6', 'BW8', 'BW_HATCH', 'B_PROT', 'CHOL',\n",
       "       'CHOLESTEROL', 'DAM', 'DOWN', 'FAT', 'GENERATION', 'GLG', 'GLGO1',\n",
       "       'GLGO1S', 'GLUCOM', 'GLUCOSE', 'GLUL', 'GLUO1', 'GLUO1L', 'GR02',\n",
       "       'GR24', 'GR46', 'GR68', 'GR810', 'HATCH', 'ID', 'IG1CO2S', 'IGF1C',\n",
       "       'IGF1CO1', 'IGF1CO2', 'IGF1COS', 'INS', 'INSO1', 'INSO1S', 'INSS',\n",
       "       'INSULIN', 'L_BMUS', 'L_LUNG', 'L_SHK', 'MELANIN', 'PANCREAS', 'PCVM',\n",
       "       'R_BMUS', 'R_LUNG', 'R_SHK', 'SEX', 'SHANK_L_D', 'SHANK_L_L',\n",
       "       'SHANK_L_W', 'SHANK_R_D', 'SHANK_R_L', 'SHANK_R_W', 'SIRE', 'SPLN',\n",
       "       'SRBC', 'S_BMUS', 'S_LUNG', 'S_SHK', 'TG2', 'TG2O1', 'TG2O1S',\n",
       "       'left_shank_with_toes', 'out', 'NOTES', 'BW8_norm_by_gen'],\n",
       "      dtype='object')"
      ]
     },
     "execution_count": 51,
     "metadata": {},
     "output_type": "execute_result"
    }
   ],
   "source": [
    "ph.columns"
   ]
  },
  {
   "cell_type": "code",
   "execution_count": 89,
   "metadata": {},
   "outputs": [],
   "source": [
    "bw8 = ph[['id','BW8', 'GENERATION', 'SEX', 'DAM']]"
   ]
  },
  {
   "cell_type": "code",
   "execution_count": 97,
   "metadata": {},
   "outputs": [
    {
     "data": {
      "text/plain": [
       "166"
      ]
     },
     "execution_count": 97,
     "metadata": {},
     "output_type": "execute_result"
    }
   ],
   "source": [
    "bw8.DAM.isna().sum()"
   ]
  },
  {
   "cell_type": "code",
   "execution_count": 54,
   "metadata": {},
   "outputs": [],
   "source": [
    "ph_ids = [str(i) for i in list(bw8norm.id)]"
   ]
  },
  {
   "cell_type": "code",
   "execution_count": 55,
   "metadata": {},
   "outputs": [
    {
     "data": {
      "text/plain": [
       "4485"
      ]
     },
     "execution_count": 55,
     "metadata": {},
     "output_type": "execute_result"
    }
   ],
   "source": [
    "len(ph_ids)"
   ]
  },
  {
   "cell_type": "code",
   "execution_count": 44,
   "metadata": {},
   "outputs": [
    {
     "data": {
      "text/plain": [
       "3135"
      ]
     },
     "execution_count": 44,
     "metadata": {},
     "output_type": "execute_result"
    }
   ],
   "source": [
    "len(gt_ids)"
   ]
  },
  {
   "cell_type": "code",
   "execution_count": 71,
   "metadata": {},
   "outputs": [],
   "source": [
    "mock_df_gt = pd.DataFrame([[k,i] for i,k in enumerate(gt_ids)])\n",
    "mock_df_gt.columns = ['id', 'idx']"
   ]
  },
  {
   "cell_type": "code",
   "execution_count": 64,
   "metadata": {},
   "outputs": [],
   "source": []
  },
  {
   "cell_type": "code",
   "execution_count": 72,
   "metadata": {},
   "outputs": [],
   "source": [
    "del(mock_df_gt['idx'])"
   ]
  },
  {
   "cell_type": "code",
   "execution_count": 74,
   "metadata": {},
   "outputs": [
    {
     "data": {
      "text/plain": [
       "0        44902\n",
       "1        51202\n",
       "2       120502\n",
       "3        48402\n",
       "4        41402\n",
       "         ...  \n",
       "3130    635705\n",
       "3131    623905\n",
       "3132    618305\n",
       "3133    617805\n",
       "3134    615005\n",
       "Name: id, Length: 3135, dtype: object"
      ]
     },
     "execution_count": 74,
     "metadata": {},
     "output_type": "execute_result"
    }
   ],
   "source": [
    "mock_df_gt.id"
   ]
  },
  {
   "cell_type": "code",
   "execution_count": 78,
   "metadata": {},
   "outputs": [
    {
     "name": "stderr",
     "output_type": "stream",
     "text": [
      "/home/tilman/miniconda3/lib/python3.7/site-packages/ipykernel_launcher.py:1: SettingWithCopyWarning: \n",
      "A value is trying to be set on a copy of a slice from a DataFrame.\n",
      "Try using .loc[row_indexer,col_indexer] = value instead\n",
      "\n",
      "See the caveats in the documentation: https://pandas.pydata.org/pandas-docs/stable/user_guide/indexing.html#returning-a-view-versus-a-copy\n",
      "  \"\"\"Entry point for launching an IPython kernel.\n"
     ]
    }
   ],
   "source": [
    "bw8norm['id'] = bw8norm.id.astype(str)"
   ]
  },
  {
   "cell_type": "code",
   "execution_count": 79,
   "metadata": {},
   "outputs": [
    {
     "data": {
      "text/plain": [
       "0       215009\n",
       "1       215109\n",
       "2       215209\n",
       "3       215309\n",
       "4       215409\n",
       "         ...  \n",
       "4480    334315\n",
       "4481    334415\n",
       "4482    334515\n",
       "4483    334615\n",
       "4484    334715\n",
       "Name: id, Length: 4485, dtype: object"
      ]
     },
     "execution_count": 79,
     "metadata": {},
     "output_type": "execute_result"
    }
   ],
   "source": [
    "bw8norm.id"
   ]
  },
  {
   "cell_type": "code",
   "execution_count": 82,
   "metadata": {},
   "outputs": [],
   "source": [
    "filtered = pd.merge(right = mock_df_gt, left=bw8norm, on='id', how='right' )"
   ]
  },
  {
   "cell_type": "code",
   "execution_count": 85,
   "metadata": {},
   "outputs": [],
   "source": [
    "fil2 = filtered.replace(np.nan, 'NA')"
   ]
  },
  {
   "cell_type": "code",
   "execution_count": 87,
   "metadata": {},
   "outputs": [],
   "source": [
    "fil2.to_csv('20200708_intersection_normbw8.csv', sep=',')"
   ]
  },
  {
   "cell_type": "code",
   "execution_count": null,
   "metadata": {},
   "outputs": [],
   "source": []
  }
 ],
 "metadata": {
  "kernelspec": {
   "display_name": "Python 3",
   "language": "python",
   "name": "python3"
  },
  "language_info": {
   "codemirror_mode": {
    "name": "ipython",
    "version": 3
   },
   "file_extension": ".py",
   "mimetype": "text/x-python",
   "name": "python",
   "nbconvert_exporter": "python",
   "pygments_lexer": "ipython3",
   "version": "3.7.4"
  }
 },
 "nbformat": 4,
 "nbformat_minor": 4
}
