{
 "cells": [
  {
   "cell_type": "code",
   "execution_count": 1,
   "metadata": {},
   "outputs": [],
   "source": [
    "library(\"data.table\")\n",
    "library(\"qtl\")"
   ]
  },
  {
   "cell_type": "code",
   "execution_count": 2,
   "metadata": {},
   "outputs": [],
   "source": [
    "#load(\"20200730_nodens.Rdata\")\n",
    "#datf2.5.old <- datf2.5\n",
    "#load(\"202000910_nodens.Rdata\")\n",
    "load(\"20201109_nodens.Rdata\")"
   ]
  },
  {
   "cell_type": "code",
   "execution_count": null,
   "metadata": {},
   "outputs": [],
   "source": [
    "#genmap <- est.map(datf2.5, error.prob=0.005)"
   ]
  },
  {
   "cell_type": "code",
   "execution_count": null,
   "metadata": {},
   "outputs": [],
   "source": [
    "#datf2.5 <- replace.map(datf2.5, genmap)"
   ]
  },
  {
   "cell_type": "code",
   "execution_count": null,
   "metadata": {},
   "outputs": [],
   "source": [
    "#datf2.5 <- calc.genoprob(datf2.5, step=1)"
   ]
  },
  {
   "cell_type": "code",
   "execution_count": null,
   "metadata": {},
   "outputs": [],
   "source": [
    "#datf2.5 <- calc.genoprob(datf2.5, step=0, off.end = 0)\n"
   ]
  },
  {
   "cell_type": "code",
   "execution_count": null,
   "metadata": {},
   "outputs": [],
   "source": [
    "#save.image(file = \"20201109_nodens.Rdata\")"
   ]
  },
  {
   "cell_type": "markdown",
   "metadata": {},
   "source": [
    "# subset the data to only include Wahlberg F2s"
   ]
  },
  {
   "cell_type": "code",
   "execution_count": 3,
   "metadata": {},
   "outputs": [],
   "source": [
    "# READ list of individuals\n",
    "IDs <- read.table('./20201116_all_wahlberg_individs_new_id.csv')"
   ]
  },
  {
   "cell_type": "code",
   "execution_count": 4,
   "metadata": {},
   "outputs": [],
   "source": [
    "idvec <- IDs[, 'V1']"
   ]
  },
  {
   "cell_type": "code",
   "execution_count": 5,
   "metadata": {},
   "outputs": [],
   "source": [
    "idvec <- as.double(idvec)"
   ]
  },
  {
   "cell_type": "code",
   "execution_count": 6,
   "metadata": {},
   "outputs": [],
   "source": [
    "all_individs <- datf2.5$pheno[,'id'] %in% idvec"
   ]
  },
  {
   "cell_type": "code",
   "execution_count": 45,
   "metadata": {},
   "outputs": [],
   "source": [
    "#datf2.5$pheno[,'id']"
   ]
  },
  {
   "cell_type": "code",
   "execution_count": 8,
   "metadata": {},
   "outputs": [],
   "source": [
    "#subset\n",
    "Wahlberg_individs= subset(datf2.5, ind = all_individs)"
   ]
  },
  {
   "cell_type": "code",
   "execution_count": 34,
   "metadata": {},
   "outputs": [],
   "source": [
    "# make covar\n",
    "ac <- data.frame(pull.pheno(Wahlberg_individs, c(\"SEX\")))\n"
   ]
  },
  {
   "cell_type": "markdown",
   "metadata": {},
   "source": [
    "## make permutations, run scan and fit model"
   ]
  },
  {
   "cell_type": "code",
   "execution_count": 13,
   "metadata": {},
   "outputs": [
    {
     "name": "stderr",
     "output_type": "stream",
     "text": [
      "Warning message in checkcovar(cross, pheno.col, addcovar, intcovar, perm.strata, :\n",
      "“Dropping 55 individuals with missing phenotypes.\n",
      "”\n"
     ]
    }
   ],
   "source": [
    "out.acovar.Wahlberg_individs <- scanone(Wahlberg_individs, pheno.col = 3, addcovar=ac)"
   ]
  },
  {
   "cell_type": "code",
   "execution_count": null,
   "metadata": {},
   "outputs": [],
   "source": [
    "Wahlberg_individs$pheno[]"
   ]
  },
  {
   "cell_type": "code",
   "execution_count": 17,
   "metadata": {
    "collapsed": true,
    "jupyter": {
     "outputs_hidden": true
    }
   },
   "outputs": [
    {
     "name": "stderr",
     "output_type": "stream",
     "text": [
      "Warning message in checkcovar(cross, pheno.col, addcovar, intcovar, perm.strata, :\n",
      "“Dropping 55 individuals with missing phenotypes.\n",
      "”\n"
     ]
    },
    {
     "name": "stdout",
     "output_type": "stream",
     "text": [
      "Permutation 20 \n",
      "Permutation 40 \n",
      "Permutation 60 \n",
      "Permutation 80 \n",
      "Permutation 100 \n",
      "Permutation 120 \n",
      "Permutation 140 \n",
      "Permutation 160 \n",
      "Permutation 180 \n",
      "Permutation 200 \n",
      "Permutation 220 \n",
      "Permutation 240 \n",
      "Permutation 260 \n",
      "Permutation 280 \n",
      "Permutation 300 \n",
      "Permutation 320 \n",
      "Permutation 340 \n",
      "Permutation 360 \n",
      "Permutation 380 \n",
      "Permutation 400 \n",
      "Permutation 420 \n",
      "Permutation 440 \n",
      "Permutation 460 \n",
      "Permutation 480 \n",
      "Permutation 500 \n",
      "Permutation 520 \n",
      "Permutation 540 \n",
      "Permutation 560 \n",
      "Permutation 580 \n",
      "Permutation 600 \n",
      "Permutation 620 \n",
      "Permutation 640 \n",
      "Permutation 660 \n",
      "Permutation 680 \n",
      "Permutation 700 \n",
      "Permutation 720 \n",
      "Permutation 740 \n",
      "Permutation 760 \n",
      "Permutation 780 \n",
      "Permutation 800 \n",
      "Permutation 820 \n",
      "Permutation 840 \n",
      "Permutation 860 \n",
      "Permutation 880 \n",
      "Permutation 900 \n",
      "Permutation 920 \n",
      "Permutation 940 \n",
      "Permutation 960 \n",
      "Permutation 980 \n",
      "Permutation 1000 \n",
      "Permutation 1020 \n",
      "Permutation 1040 \n",
      "Permutation 1060 \n",
      "Permutation 1080 \n",
      "Permutation 1100 \n",
      "Permutation 1120 \n",
      "Permutation 1140 \n",
      "Permutation 1160 \n",
      "Permutation 1180 \n",
      "Permutation 1200 \n",
      "Permutation 1220 \n",
      "Permutation 1240 \n",
      "Permutation 1260 \n",
      "Permutation 1280 \n",
      "Permutation 1300 \n",
      "Permutation 1320 \n",
      "Permutation 1340 \n",
      "Permutation 1360 \n",
      "Permutation 1380 \n",
      "Permutation 1400 \n",
      "Permutation 1420 \n",
      "Permutation 1440 \n",
      "Permutation 1460 \n",
      "Permutation 1480 \n",
      "Permutation 1500 \n",
      "Permutation 1520 \n",
      "Permutation 1540 \n",
      "Permutation 1560 \n",
      "Permutation 1580 \n",
      "Permutation 1600 \n",
      "Permutation 1620 \n",
      "Permutation 1640 \n",
      "Permutation 1660 \n",
      "Permutation 1680 \n",
      "Permutation 1700 \n",
      "Permutation 1720 \n",
      "Permutation 1740 \n",
      "Permutation 1760 \n",
      "Permutation 1780 \n",
      "Permutation 1800 \n",
      "Permutation 1820 \n",
      "Permutation 1840 \n",
      "Permutation 1860 \n",
      "Permutation 1880 \n",
      "Permutation 1900 \n",
      "Permutation 1920 \n",
      "Permutation 1940 \n",
      "Permutation 1960 \n",
      "Permutation 1980 \n",
      "Permutation 2000 \n",
      "Permutation 2020 \n",
      "Permutation 2040 \n",
      "Permutation 2060 \n",
      "Permutation 2080 \n",
      "Permutation 2100 \n",
      "Permutation 2120 \n",
      "Permutation 2140 \n",
      "Permutation 2160 \n",
      "Permutation 2180 \n",
      "Permutation 2200 \n",
      "Permutation 2220 \n",
      "Permutation 2240 \n",
      "Permutation 2260 \n",
      "Permutation 2280 \n",
      "Permutation 2300 \n",
      "Permutation 2320 \n",
      "Permutation 2340 \n",
      "Permutation 2360 \n",
      "Permutation 2380 \n",
      "Permutation 2400 \n",
      "Permutation 2420 \n",
      "Permutation 2440 \n",
      "Permutation 2460 \n",
      "Permutation 2480 \n",
      "Permutation 2500 \n",
      "Permutation 2520 \n",
      "Permutation 2540 \n",
      "Permutation 2560 \n",
      "Permutation 2580 \n",
      "Permutation 2600 \n",
      "Permutation 2620 \n",
      "Permutation 2640 \n",
      "Permutation 2660 \n",
      "Permutation 2680 \n",
      "Permutation 2700 \n",
      "Permutation 2720 \n",
      "Permutation 2740 \n",
      "Permutation 2760 \n",
      "Permutation 2780 \n",
      "Permutation 2800 \n",
      "Permutation 2820 \n",
      "Permutation 2840 \n",
      "Permutation 2860 \n",
      "Permutation 2880 \n",
      "Permutation 2900 \n",
      "Permutation 2920 \n",
      "Permutation 2940 \n",
      "Permutation 2960 \n",
      "Permutation 2980 \n",
      "Permutation 3000 \n",
      "Permutation 3020 \n",
      "Permutation 3040 \n",
      "Permutation 3060 \n",
      "Permutation 3080 \n",
      "Permutation 3100 \n",
      "Permutation 3120 \n",
      "Permutation 3140 \n",
      "Permutation 3160 \n",
      "Permutation 3180 \n",
      "Permutation 3200 \n",
      "Permutation 3220 \n",
      "Permutation 3240 \n",
      "Permutation 3260 \n",
      "Permutation 3280 \n",
      "Permutation 3300 \n",
      "Permutation 3320 \n",
      "Permutation 3340 \n",
      "Permutation 3360 \n",
      "Permutation 3380 \n",
      "Permutation 3400 \n",
      "Permutation 3420 \n",
      "Permutation 3440 \n",
      "Permutation 3460 \n",
      "Permutation 3480 \n",
      "Permutation 3500 \n",
      "Permutation 3520 \n",
      "Permutation 3540 \n",
      "Permutation 3560 \n",
      "Permutation 3580 \n",
      "Permutation 3600 \n",
      "Permutation 3620 \n",
      "Permutation 3640 \n",
      "Permutation 3660 \n",
      "Permutation 3680 \n",
      "Permutation 3700 \n",
      "Permutation 3720 \n",
      "Permutation 3740 \n",
      "Permutation 3760 \n",
      "Permutation 3780 \n",
      "Permutation 3800 \n",
      "Permutation 3820 \n",
      "Permutation 3840 \n",
      "Permutation 3860 \n",
      "Permutation 3880 \n",
      "Permutation 3900 \n",
      "Permutation 3920 \n",
      "Permutation 3940 \n",
      "Permutation 3960 \n",
      "Permutation 3980 \n",
      "Permutation 4000 \n",
      "Permutation 4020 \n",
      "Permutation 4040 \n",
      "Permutation 4060 \n",
      "Permutation 4080 \n",
      "Permutation 4100 \n",
      "Permutation 4120 \n",
      "Permutation 4140 \n",
      "Permutation 4160 \n",
      "Permutation 4180 \n",
      "Permutation 4200 \n",
      "Permutation 4220 \n",
      "Permutation 4240 \n",
      "Permutation 4260 \n",
      "Permutation 4280 \n",
      "Permutation 4300 \n",
      "Permutation 4320 \n",
      "Permutation 4340 \n",
      "Permutation 4360 \n",
      "Permutation 4380 \n",
      "Permutation 4400 \n",
      "Permutation 4420 \n",
      "Permutation 4440 \n",
      "Permutation 4460 \n",
      "Permutation 4480 \n",
      "Permutation 4500 \n",
      "Permutation 4520 \n",
      "Permutation 4540 \n",
      "Permutation 4560 \n",
      "Permutation 4580 \n",
      "Permutation 4600 \n",
      "Permutation 4620 \n",
      "Permutation 4640 \n",
      "Permutation 4660 \n",
      "Permutation 4680 \n",
      "Permutation 4700 \n",
      "Permutation 4720 \n",
      "Permutation 4740 \n",
      "Permutation 4760 \n",
      "Permutation 4780 \n",
      "Permutation 4800 \n",
      "Permutation 4820 \n",
      "Permutation 4840 \n",
      "Permutation 4860 \n",
      "Permutation 4880 \n",
      "Permutation 4900 \n",
      "Permutation 4920 \n",
      "Permutation 4940 \n",
      "Permutation 4960 \n",
      "Permutation 4980 \n",
      "Permutation 5000 \n",
      "Permutation 5020 \n",
      "Permutation 5040 \n",
      "Permutation 5060 \n",
      "Permutation 5080 \n",
      "Permutation 5100 \n",
      "Permutation 5120 \n",
      "Permutation 5140 \n",
      "Permutation 5160 \n",
      "Permutation 5180 \n",
      "Permutation 5200 \n",
      "Permutation 5220 \n",
      "Permutation 5240 \n",
      "Permutation 5260 \n",
      "Permutation 5280 \n",
      "Permutation 5300 \n",
      "Permutation 5320 \n",
      "Permutation 5340 \n",
      "Permutation 5360 \n",
      "Permutation 5380 \n",
      "Permutation 5400 \n",
      "Permutation 5420 \n",
      "Permutation 5440 \n",
      "Permutation 5460 \n",
      "Permutation 5480 \n",
      "Permutation 5500 \n",
      "Permutation 5520 \n",
      "Permutation 5540 \n",
      "Permutation 5560 \n",
      "Permutation 5580 \n",
      "Permutation 5600 \n",
      "Permutation 5620 \n",
      "Permutation 5640 \n",
      "Permutation 5660 \n",
      "Permutation 5680 \n",
      "Permutation 5700 \n",
      "Permutation 5720 \n",
      "Permutation 5740 \n",
      "Permutation 5760 \n",
      "Permutation 5780 \n",
      "Permutation 5800 \n",
      "Permutation 5820 \n",
      "Permutation 5840 \n",
      "Permutation 5860 \n",
      "Permutation 5880 \n",
      "Permutation 5900 \n",
      "Permutation 5920 \n",
      "Permutation 5940 \n",
      "Permutation 5960 \n",
      "Permutation 5980 \n",
      "Permutation 6000 \n",
      "Permutation 6020 \n",
      "Permutation 6040 \n",
      "Permutation 6060 \n",
      "Permutation 6080 \n",
      "Permutation 6100 \n",
      "Permutation 6120 \n",
      "Permutation 6140 \n",
      "Permutation 6160 \n",
      "Permutation 6180 \n",
      "Permutation 6200 \n",
      "Permutation 6220 \n",
      "Permutation 6240 \n",
      "Permutation 6260 \n",
      "Permutation 6280 \n",
      "Permutation 6300 \n",
      "Permutation 6320 \n",
      "Permutation 6340 \n",
      "Permutation 6360 \n",
      "Permutation 6380 \n",
      "Permutation 6400 \n",
      "Permutation 6420 \n",
      "Permutation 6440 \n",
      "Permutation 6460 \n",
      "Permutation 6480 \n",
      "Permutation 6500 \n",
      "Permutation 6520 \n",
      "Permutation 6540 \n",
      "Permutation 6560 \n",
      "Permutation 6580 \n",
      "Permutation 6600 \n",
      "Permutation 6620 \n",
      "Permutation 6640 \n",
      "Permutation 6660 \n",
      "Permutation 6680 \n",
      "Permutation 6700 \n",
      "Permutation 6720 \n",
      "Permutation 6740 \n",
      "Permutation 6760 \n",
      "Permutation 6780 \n",
      "Permutation 6800 \n",
      "Permutation 6820 \n",
      "Permutation 6840 \n",
      "Permutation 6860 \n",
      "Permutation 6880 \n",
      "Permutation 6900 \n",
      "Permutation 6920 \n",
      "Permutation 6940 \n",
      "Permutation 6960 \n",
      "Permutation 6980 \n",
      "Permutation 7000 \n",
      "Permutation 7020 \n",
      "Permutation 7040 \n",
      "Permutation 7060 \n",
      "Permutation 7080 \n",
      "Permutation 7100 \n",
      "Permutation 7120 \n",
      "Permutation 7140 \n",
      "Permutation 7160 \n",
      "Permutation 7180 \n",
      "Permutation 7200 \n",
      "Permutation 7220 \n",
      "Permutation 7240 \n",
      "Permutation 7260 \n",
      "Permutation 7280 \n",
      "Permutation 7300 \n",
      "Permutation 7320 \n",
      "Permutation 7340 \n",
      "Permutation 7360 \n",
      "Permutation 7380 \n",
      "Permutation 7400 \n",
      "Permutation 7420 \n",
      "Permutation 7440 \n",
      "Permutation 7460 \n",
      "Permutation 7480 \n",
      "Permutation 7500 \n",
      "Permutation 7520 \n",
      "Permutation 7540 \n",
      "Permutation 7560 \n",
      "Permutation 7580 \n",
      "Permutation 7600 \n",
      "Permutation 7620 \n",
      "Permutation 7640 \n",
      "Permutation 7660 \n",
      "Permutation 7680 \n",
      "Permutation 7700 \n",
      "Permutation 7720 \n",
      "Permutation 7740 \n",
      "Permutation 7760 \n",
      "Permutation 7780 \n",
      "Permutation 7800 \n",
      "Permutation 7820 \n",
      "Permutation 7840 \n",
      "Permutation 7860 \n",
      "Permutation 7880 \n",
      "Permutation 7900 \n",
      "Permutation 7920 \n",
      "Permutation 7940 \n",
      "Permutation 7960 \n",
      "Permutation 7980 \n",
      "Permutation 8000 \n",
      "Permutation 8020 \n",
      "Permutation 8040 \n",
      "Permutation 8060 \n",
      "Permutation 8080 \n",
      "Permutation 8100 \n",
      "Permutation 8120 \n",
      "Permutation 8140 \n",
      "Permutation 8160 \n",
      "Permutation 8180 \n",
      "Permutation 8200 \n",
      "Permutation 8220 \n",
      "Permutation 8240 \n",
      "Permutation 8260 \n",
      "Permutation 8280 \n",
      "Permutation 8300 \n",
      "Permutation 8320 \n",
      "Permutation 8340 \n",
      "Permutation 8360 \n",
      "Permutation 8380 \n",
      "Permutation 8400 \n",
      "Permutation 8420 \n",
      "Permutation 8440 \n",
      "Permutation 8460 \n",
      "Permutation 8480 \n",
      "Permutation 8500 \n",
      "Permutation 8520 \n",
      "Permutation 8540 \n",
      "Permutation 8560 \n",
      "Permutation 8580 \n",
      "Permutation 8600 \n",
      "Permutation 8620 \n",
      "Permutation 8640 \n",
      "Permutation 8660 \n",
      "Permutation 8680 \n",
      "Permutation 8700 \n",
      "Permutation 8720 \n",
      "Permutation 8740 \n",
      "Permutation 8760 \n",
      "Permutation 8780 \n",
      "Permutation 8800 \n",
      "Permutation 8820 \n",
      "Permutation 8840 \n",
      "Permutation 8860 \n",
      "Permutation 8880 \n",
      "Permutation 8900 \n",
      "Permutation 8920 \n",
      "Permutation 8940 \n",
      "Permutation 8960 \n",
      "Permutation 8980 \n",
      "Permutation 9000 \n",
      "Permutation 9020 \n",
      "Permutation 9040 \n",
      "Permutation 9060 \n",
      "Permutation 9080 \n",
      "Permutation 9100 \n",
      "Permutation 9120 \n",
      "Permutation 9140 \n",
      "Permutation 9160 \n",
      "Permutation 9180 \n",
      "Permutation 9200 \n",
      "Permutation 9220 \n",
      "Permutation 9240 \n",
      "Permutation 9260 \n",
      "Permutation 9280 \n",
      "Permutation 9300 \n",
      "Permutation 9320 \n",
      "Permutation 9340 \n",
      "Permutation 9360 \n",
      "Permutation 9380 \n",
      "Permutation 9400 \n",
      "Permutation 9420 \n",
      "Permutation 9440 \n",
      "Permutation 9460 \n",
      "Permutation 9480 \n",
      "Permutation 9500 \n",
      "Permutation 9520 \n",
      "Permutation 9540 \n",
      "Permutation 9560 \n",
      "Permutation 9580 \n",
      "Permutation 9600 \n",
      "Permutation 9620 \n",
      "Permutation 9640 \n",
      "Permutation 9660 \n",
      "Permutation 9680 \n",
      "Permutation 9700 \n",
      "Permutation 9720 \n",
      "Permutation 9740 \n",
      "Permutation 9760 \n",
      "Permutation 9780 \n",
      "Permutation 9800 \n",
      "Permutation 9820 \n",
      "Permutation 9840 \n",
      "Permutation 9860 \n",
      "Permutation 9880 \n",
      "Permutation 9900 \n",
      "Permutation 9920 \n",
      "Permutation 9940 \n",
      "Permutation 9960 \n",
      "Permutation 9980 \n",
      "Permutation 10000 \n"
     ]
    }
   ],
   "source": [
    "out.acovar.Wahlberg_individs.perm <- scanone(Wahlberg_individs, pheno.col = 3, addcovar=ac, n.perm = 10000)"
   ]
  },
  {
   "cell_type": "code",
   "execution_count": null,
   "metadata": {},
   "outputs": [],
   "source": [
    "save.image(file = \"20201116_nodens_wahlberg_individs_only.Rdata\")"
   ]
  },
  {
   "cell_type": "code",
   "execution_count": 25,
   "metadata": {},
   "outputs": [
    {
     "data": {
      "text/plain": [
       "LOD thresholds (10000 permutations)\n",
       "     lod\n",
       "5%  3.78\n",
       "10% 3.43"
      ]
     },
     "metadata": {},
     "output_type": "display_data"
    }
   ],
   "source": [
    "summary(out.acovar.Wahlberg_individs.perm)"
   ]
  },
  {
   "cell_type": "code",
   "execution_count": 26,
   "metadata": {},
   "outputs": [
    {
     "data": {
      "image/png": "[encoded data removed]",
      "text/plain": [
       "plot without title"
      ]
     },
     "metadata": {
      "image/png": {
       "height": 420,
       "width": 420
      }
     },
     "output_type": "display_data"
    }
   ],
   "source": [
    "plot(out.acovar.Wahlberg_individs, chr=1)"
   ]
  },
  {
   "cell_type": "code",
   "execution_count": null,
   "metadata": {},
   "outputs": [],
   "source": []
  },
  {
   "cell_type": "markdown",
   "metadata": {},
   "source": []
  },
  {
   "cell_type": "code",
   "execution_count": 40,
   "metadata": {},
   "outputs": [],
   "source": [
    "ac2 <- pull.pheno(datf2.5, c(\"SEX\", \"GENERATION\"))\n",
    "#out.acovar.all <- scanone(datf2.5, pheno.col = 3, addcovar=ac)"
   ]
  },
  {
   "cell_type": "code",
   "execution_count": null,
   "metadata": {},
   "outputs": [],
   "source": [
    "#plot(out.acovar.all, chr=30)\n",
    "#xlim = c(200,500))"
   ]
  },
  {
   "cell_type": "code",
   "execution_count": null,
   "metadata": {},
   "outputs": [],
   "source": [
    "#max(out.acovar.all[out.acovar.all$chr==1 & out.acovar.all$pos > 0  ,])\n"
   ]
  },
  {
   "cell_type": "code",
   "execution_count": null,
   "metadata": {},
   "outputs": [],
   "source": [
    "#max(out.acovar.all[out.acovar.all$chr==30 & out.acovar.all$pos > 0 &  out.acovar.all$pos < 100,])\n"
   ]
  },
  {
   "cell_type": "markdown",
   "metadata": {},
   "source": [
    "below are all peaks that are suggestive - i.e. significant at chrom 4 significance levels 5% after 10k permutations"
   ]
  },
  {
   "cell_type": "code",
   "execution_count": null,
   "metadata": {
    "jupyter": {
     "source_hidden": true
    }
   },
   "outputs": [],
   "source": [
    "1-50\t1\t84.23679\t8.864121\n",
    "1-79\t1\t164.2182\t3.324873\n",
    "1-170\t1\t401.677\t5.968426\n",
    "2-98\t2\t216.027\t2.714424\n",
    "2-138\t2\t327.171\t3.21146\n",
    "3-77\t3\t141.6651\t2.690947\n",
    "4-15\t4\t49.49908\t8.079024\n",
    "6-4\t6\t0.02957916\t2.799598\n",
    "6-29\t6\t78.12438\t4.528085\n",
    "7-22\t7\t50.22548\t14.21153\n",
    "8-9\t8\t21.68429\t3.058372\n",
    "8-36\t8\t91.15566\t3.121123\n",
    "9-4\t9\t0.6851328\t3.753586\n",
    "10-16\t10\t20.48725\t3.623719\n",
    "12-9\t12\t7.497863\t2.789307\n",
    "13-8\t13\t4.298689\t5.246326\n",
    "14-12\t14\t22.88642\t2.995042\n",
    "16-10\t16\t8.951825\t3.35403\n",
    "21-9\t21\t3.066803\t2.823419\n",
    "23-1\t23\t1e-07\t2.740163\n",
    "27-7\t27\t7e-07\t3.380714\n",
    "29-6\t29\t6e-07\t2.84695"
   ]
  },
  {
   "cell_type": "code",
   "execution_count": 27,
   "metadata": {},
   "outputs": [],
   "source": [
    "chrom  <- c(1,1,1,2,2,3,4,6,6,7,8,8,9,10,12,13,14,16,21,23,27,29,29)\n",
    "\n",
    "pos <- c(84.23679,164.2182,401.677,216.027,327.171,141.6651,49.49908,0.02957916,78.12438,50.22548,21.68429,91.15566,0.6851328,20.48725,7.497863,4.298689,22.88642,8.951825,3.066803,1.00E-07,7.00E-07,6.00E-07,5.00E-07)"
   ]
  },
  {
   "cell_type": "code",
   "execution_count": 28,
   "metadata": {},
   "outputs": [],
   "source": [
    "chrom  <- c(1,1,1,2,2,3,4,6,6,7,8,8,9,10,12,13,14,16,21,23,27,29)\n",
    "\n",
    "pos <- c(84.23679,164.2182,401.677,216.027,327.171,141.6651,49.49908,0.02957916,78.12438,50.22548,21.68429,91.15566,0.6851328,20.48725,7.497863,4.298689,22.88642,8.951825,3.066803,1.00E-07,7.00E-07,6.00E-07)"
   ]
  },
  {
   "cell_type": "code",
   "execution_count": 100,
   "metadata": {},
   "outputs": [
    {
     "ename": "ERROR",
     "evalue": "Error in as.data.frame.default(x[[i]], optional = TRUE): cannot coerce class ‘c(\"1\" = \"A\")’ to a data.frame\n",
     "output_type": "error",
     "traceback": [
      "Error in as.data.frame.default(x[[i]], optional = TRUE): cannot coerce class ‘c(\"1\" = \"A\")’ to a data.frame\nTraceback:\n",
      "1. replace.map(Wahlberg_individs, genmap)",
      "2. replacemap.cross(cross, map)",
      "3. interpmap(data.frame(chr = rep(i, length(temp)), pos = temp, \n .     stringsAsFactors = TRUE), map)",
      "4. is.data.frame(oldmap)",
      "5. data.frame(chr = rep(i, length(temp)), pos = temp, stringsAsFactors = TRUE)",
      "6. as.data.frame(x[[i]], optional = TRUE)",
      "7. as.data.frame.default(x[[i]], optional = TRUE)",
      "8. stop(gettextf(\"cannot coerce class %s to a data.frame\", sQuote(deparse(class(x))[1L])), \n .     domain = NA)"
     ]
    }
   ],
   "source": [
    "Wahlberg_individs <- est.rf(Wahlberg_individs)\n",
    "#datf2.4_tst <- markerlrt(datf2.4)\n",
    "genmap <- est.map(Wahlberg_individs, error.prob=0.005)\n"
   ]
  },
  {
   "cell_type": "code",
   "execution_count": 127,
   "metadata": {},
   "outputs": [],
   "source": []
  },
  {
   "cell_type": "code",
   "execution_count": 102,
   "metadata": {},
   "outputs": [],
   "source": [
    "#Wahlberg_individs <- replace.map(Wahlberg_individs, genmap)\n",
    "\n",
    "Wahlberg_individs <- calc.genoprob(Wahlberg_individs, step=1)\n",
    "Wahlberg_individs <- calc.genoprob(Wahlberg_individs, step=0, off.end = 0)"
   ]
  },
  {
   "cell_type": "code",
   "execution_count": 103,
   "metadata": {},
   "outputs": [],
   "source": [
    "qtls_WBind <- makeqtl(Wahlberg_individs, chr = chrom, pos = pos, what = 'prob')"
   ]
  },
  {
   "cell_type": "code",
   "execution_count": 104,
   "metadata": {},
   "outputs": [
    {
     "name": "stderr",
     "output_type": "stream",
     "text": [
      "Warning message in getsex(cross):\n",
      "“3 individuals with missing sex; assuming they're female”\n"
     ]
    }
   ],
   "source": [
    "qtls <- makeqtl(datf2.5, chr = chrom, pos = pos, what = 'prob')"
   ]
  },
  {
   "cell_type": "code",
   "execution_count": 105,
   "metadata": {},
   "outputs": [
    {
     "data": {
      "image/png": "[encoded data removed]",
      "text/plain": [
       "plot without title"
      ]
     },
     "metadata": {
      "image/png": {
       "height": 420,
       "width": 420
      }
     },
     "output_type": "display_data"
    }
   ],
   "source": [
    "plot(out.acovar.Wahlberg_individs, chr=7)"
   ]
  },
  {
   "cell_type": "code",
   "execution_count": 106,
   "metadata": {},
   "outputs": [
    {
     "name": "stderr",
     "output_type": "stream",
     "text": [
      "Warning message in fitqtl(Wahlberg_individs, pheno.col = 3, qtl = qtls_WBind, covar = ac, :\n",
      "“The qtl object doesn't contain imputations; using method=\"hk\".”\n",
      "Warning message in fitqtlengine(pheno = pheno, qtl = qtl, covar = covar, formula = formula, :\n",
      "“Dropping 55 individuals with missing phenotypes.\n",
      "”\n",
      "Warning message in fitqtl(datf2.5, pheno.col = 3, qtl = qtls, covar = ac2, get.ests = TRUE):\n",
      "“The qtl object doesn't contain imputations; using method=\"hk\".”\n",
      "Warning message in fitqtlengine(pheno = pheno, qtl = qtl, covar = covar, formula = formula, :\n",
      "“Dropping 62 individuals with missing phenotypes.\n",
      "”\n",
      "Warning message in getsex(cross):\n",
      "“3 individuals with missing sex; assuming they're female”\n"
     ]
    }
   ],
   "source": [
    "fit_sugg_WB <- fitqtl(Wahlberg_individs, pheno.col = 3, qtl = qtls_WBind, covar = ac, get.ests=TRUE)\n",
    "\n",
    "fit_sugg <- fitqtl(datf2.5, pheno.col = 3, qtl = qtls, covar = ac2, get.ests=TRUE)"
   ]
  },
  {
   "cell_type": "code",
   "execution_count": 107,
   "metadata": {},
   "outputs": [
    {
     "data": {
      "text/plain": [
       "\n",
       "\t\tfitqtl summary\n",
       "\n",
       "Method: Haley-Knott regression \n",
       "Model:  normal phenotype\n",
       "Number of observations : 784 \n",
       "\n",
       "Full model result\n",
       "----------------------------------  \n",
       "Model formula: y ~ Q1 + Q2 + Q3 + Q4 + Q5 + Q6 + Q7 + Q8 + Q9 + Q10 + Q11 + Q12 \n",
       "                    + Q13 + Q14 + Q15 + Q16 + Q17 + Q18 + Q19 + Q20 + Q21 + Q22 \n",
       "                    + pull.pheno.Wahlberg_individs..c..SEX... \n",
       "\n",
       "       df       SS        MS      LOD     %var Pvalue(Chi2) Pvalue(F)\n",
       "Model  45  6930946 154021.03 49.89021 25.40168            0         0\n",
       "Error 738 20354443  27580.55                                         \n",
       "Total 783 27285389                                                   \n",
       "\n",
       "\n",
       "Drop one QTL at a time ANOVA table: \n",
       "----------------------------------  \n",
       "                                        df Type III SS      LOD     %var\n",
       "1@84.2                                   2       33859  0.28296  0.12409\n",
       "1@164.2                                  2       74667  0.62337  0.27365\n",
       "1@401.7                                  2      131181  1.09367  0.48077\n",
       "2@216.0                                  2        3931  0.03288  0.01441\n",
       "2@327.2                                  2       60417  0.50457  0.22143\n",
       "3@141.7                                  2      177287  1.47640  0.64975\n",
       "4@49.5                                   2      136533  1.13814  0.50039\n",
       "6@0.0                                    2      196118  1.63247  0.71876\n",
       "6@78.1                                   2       88846  0.74149  0.32562\n",
       "7@50.2                                   2      378566  3.13722  1.38743\n",
       "8@21.7                                   2       11968  0.10007  0.04386\n",
       "8@91.2                                   2       69020  0.57630  0.25296\n",
       "9@0.7                                    2      212669  1.76952  0.77942\n",
       "10@20.5                                  2       66202  0.55281  0.24263\n",
       "12@7.5                                   2        9540  0.07978  0.03497\n",
       "13@4.3                                   2      121301  1.01154  0.44456\n",
       "14@22.9                                  2       72430  0.60473  0.26545\n",
       "16@9.0                                   2      166447  1.38649  0.61002\n",
       "21@3.1                                   2       49471  0.41327  0.18131\n",
       "23@0.0                                   2       79850  0.66655  0.29265\n",
       "27@0.0                                   2        8131  0.06800  0.02980\n",
       "29@0.0                                   2       24040  0.20095  0.08811\n",
       "pull.pheno.Wahlberg_individs..c..SEX...  1     3922141 29.99912 14.37451\n",
       "                                          F value Pvalue(Chi2) Pvalue(F)    \n",
       "1@84.2                                    0.61381        0.521   0.54156    \n",
       "1@164.2                                   1.35362        0.238   0.25894    \n",
       "1@401.7                                   2.37814        0.081   0.09343 .  \n",
       "2@216.0                                   0.07127        0.927   0.93122    \n",
       "2@327.2                                   1.09528        0.313   0.33499    \n",
       "3@141.7                                   3.21399        0.033   0.04076 *  \n",
       "4@49.5                                    2.47517        0.073   0.08485 .  \n",
       "6@0.0                                     3.55536        0.023   0.02906 *  \n",
       "6@78.1                                    1.61066        0.181   0.20046    \n",
       "7@50.2                                    6.86291        0.001   0.00111 ** \n",
       "8@21.7                                    0.21696        0.794   0.80501    \n",
       "8@91.2                                    1.25124        0.265   0.28676    \n",
       "9@0.7                                     3.85541        0.017   0.02159 *  \n",
       "10@20.5                                   1.20015        0.280   0.30174    \n",
       "12@7.5                                    0.17295        0.832   0.84121    \n",
       "13@4.3                                    2.19902        0.097   0.11164    \n",
       "14@22.9                                   1.31307        0.248   0.26962    \n",
       "16@9.0                                    3.01747        0.041   0.04953 *  \n",
       "21@3.1                                    0.89684        0.386   0.40830    \n",
       "23@0.0                                    1.44758        0.215   0.23581    \n",
       "27@0.0                                    0.14741        0.855   0.86296    \n",
       "29@0.0                                    0.43582        0.630   0.64690    \n",
       "pull.pheno.Wahlberg_individs..c..SEX... 142.20680        0.000   < 2e-16 ***\n",
       "---\n",
       "Signif. codes:  0 ‘***’ 0.001 ‘**’ 0.01 ‘*’ 0.05 ‘.’ 0.1 ‘ ’ 1\n",
       "\n",
       "\n",
       "Estimated effects:\n",
       "-----------------\n",
       "                                             est       SE      t\n",
       "Intercept                               550.5897   8.6806 63.428\n",
       "pull.pheno.Wahlberg_individs..c..SEX... 145.1788  12.1743 11.925\n",
       "1@84.2a                                   9.1518   9.0587  1.010\n",
       "1@84.2d                                  -6.1500  13.2507 -0.464\n",
       "1@164.2a                                 10.8795   9.2835  1.172\n",
       "1@164.2d                                -15.7581  12.9355 -1.218\n",
       "1@401.7a                                 19.8142   9.1859  2.157\n",
       "1@401.7d                                 -3.6882  12.8652 -0.287\n",
       "2@216.0a                                  2.4304   9.0354  0.269\n",
       "2@216.0d                                 -3.5512  13.0205 -0.273\n",
       "2@327.2a                                 10.2491   9.0055  1.138\n",
       "2@327.2d                                -12.3416  12.4744 -0.989\n",
       "3@141.7a                                 19.7520   9.0990  2.171\n",
       "3@141.7d                                -17.1777  13.2373 -1.298\n",
       "4@49.5a                                  16.3368   8.8722  1.841\n",
       "4@49.5d                                  16.6066  12.8219  1.295\n",
       "6@0.0a                                  -12.9621   8.8007 -1.473\n",
       "6@0.0d                                   28.1681  12.9389  2.177\n",
       "6@78.1a                                  16.6892   9.3762  1.780\n",
       "6@78.1d                                   4.3334  12.8476  0.337\n",
       "7@50.2a                                  32.5849   9.4264  3.457\n",
       "7@50.2d                                 -16.9922  12.7882 -1.329\n",
       "8@21.7a                                   0.6577   8.9038  0.074\n",
       "8@21.7d                                   8.3071  12.7075  0.654\n",
       "8@91.2a                                   4.6709   9.6019  0.486\n",
       "8@91.2d                                  19.1839  12.9007  1.487\n",
       "9@0.7a                                  -26.0374   9.3768 -2.777\n",
       "9@0.7d                                    1.8676  13.4787  0.139\n",
       "10@20.5a                                  5.5923   8.9993  0.621\n",
       "10@20.5d                                 18.6838  13.0835  1.428\n",
       "12@7.5a                                  -0.1178   9.0941 -0.013\n",
       "12@7.5d                                   7.5231  12.8053  0.587\n",
       "13@4.3a                                   5.5957   9.0494  0.618\n",
       "13@4.3d                                  26.2006  13.0053  2.015\n",
       "14@22.9a                                 13.0145   9.2092  1.413\n",
       "14@22.9d                                -10.4566  13.0748 -0.800\n",
       "16@9.0a                                  21.5098   8.8584  2.428\n",
       "16@9.0d                                   7.1494  13.0986  0.546\n",
       "21@3.1a                                  13.2726  10.3552  1.282\n",
       "21@3.1d                                  -6.2286  14.1000 -0.442\n",
       "23@0.0a                                  18.3094  10.7646  1.701\n",
       "23@0.0d                                  -0.1238  14.6035 -0.008\n",
       "27@0.0a                                  -1.8356  10.3063 -0.178\n",
       "27@0.0d                                   7.6369  14.6743  0.520\n",
       "29@0.0a                                   7.9496  11.4968  0.691\n",
       "29@0.0d                                  -9.9637  16.8668 -0.591\n"
      ]
     },
     "metadata": {},
     "output_type": "display_data"
    }
   ],
   "source": [
    "summary(fit_sugg_WB)"
   ]
  },
  {
   "cell_type": "code",
   "execution_count": 108,
   "metadata": {},
   "outputs": [
    {
     "data": {
      "text/plain": [
       "\n",
       "\t\tfitqtl summary\n",
       "\n",
       "Method: Haley-Knott regression \n",
       "Model:  normal phenotype\n",
       "Number of observations : 3073 \n",
       "\n",
       "Full model result\n",
       "----------------------------------  \n",
       "Model formula: y ~ Q1 + Q2 + Q3 + Q4 + Q5 + Q6 + Q7 + Q8 + Q9 + Q10 + Q11 + Q12 \n",
       "                    + Q13 + Q14 + Q15 + Q16 + Q17 + Q18 + Q19 + Q20 + Q21 + Q22 \n",
       "                    + SEX + GENERATION \n",
       "\n",
       "        df        SS        MS      LOD     %var Pvalue(Chi2) Pvalue(F)\n",
       "Model   46  27013795 587256.42 192.1559 25.02107            0         0\n",
       "Error 3026  80950391  26751.62                                         \n",
       "Total 3072 107964187                                                   \n",
       "\n",
       "\n",
       "Drop one QTL at a time ANOVA table: \n",
       "----------------------------------  \n",
       "           df Type III SS      LOD     %var F value Pvalue(Chi2) Pvalue(F)    \n",
       "1@84.2      2      610967   5.0174  0.56590  11.419        0.000  1.15e-05 ***\n",
       "1@164.2     2      290293   2.3887  0.26888   5.426        0.004  0.004445 ** \n",
       "1@401.7     2      516508   4.2442  0.47841   9.654        0.000  6.62e-05 ***\n",
       "2@216.0     2      161585   1.3307  0.14967   3.020        0.047  0.048943 *  \n",
       "2@327.2     2      196501   1.6178  0.18201   3.673        0.024  0.025521 *  \n",
       "3@141.7     2      147183   1.2122  0.13633   2.751        0.061  0.064029 .  \n",
       "4@49.5      2      600993   4.9358  0.55666  11.233        0.000  1.38e-05 ***\n",
       "6@0.0       2      167545   1.3797  0.15519   3.131        0.042  0.043794 *  \n",
       "6@78.1      2      437277   3.5949  0.40502   8.173        0.000  0.000288 ***\n",
       "7@50.2      2     1464580  11.9650  1.35654  27.374        0.000  1.65e-12 ***\n",
       "8@21.7      2       91108   0.7506  0.08439   1.703        0.178  0.182338    \n",
       "8@91.2      2      222320   1.8301  0.20592   4.155        0.015  0.015771 *  \n",
       "9@0.7       2      444433   3.6536  0.41165   8.307        0.000  0.000253 ***\n",
       "10@20.5     2      208599   1.7173  0.19321   3.899        0.019  0.020368 *  \n",
       "12@7.5      2      467604   3.8435  0.43311   8.740        0.000  0.000164 ***\n",
       "13@4.3      2      345600   2.8428  0.32011   6.459        0.001  0.001587 ** \n",
       "14@22.9     2      247912   2.0405  0.22962   4.634        0.009  0.009789 ** \n",
       "16@9.0      2      384955   3.1658  0.35656   7.195        0.001  0.000763 ***\n",
       "21@3.1      2      356355   2.9311  0.33007   6.660        0.001  0.001299 ** \n",
       "23@0.0      2      201221   1.6567  0.18638   3.761        0.022  0.023371 *  \n",
       "27@0.0      2      215799   1.7765  0.19988   4.033        0.017  0.017810 *  \n",
       "29@0.0      2      136835   1.1270  0.12674   2.558        0.075  0.077665 .  \n",
       "SEX         1    15039935 113.7141 13.93049 562.207        0.000   < 2e-16 ***\n",
       "GENERATION  1      722051   5.9257  0.66879  26.991        0.000  2.18e-07 ***\n",
       "---\n",
       "Signif. codes:  0 ‘***’ 0.001 ‘**’ 0.01 ‘*’ 0.05 ‘.’ 0.1 ‘ ’ 1\n",
       "\n",
       "\n",
       "Estimated effects:\n",
       "-----------------\n",
       "                est       SE      t\n",
       "Intercept  577.1653   5.9482 97.032\n",
       "SEX        140.8257   5.9393 23.711\n",
       "GENERATION  -3.3023   0.6356 -5.195\n",
       "1@84.2a     20.6406   4.4882  4.599\n",
       "1@84.2d      8.0879   6.4653  1.251\n",
       "1@164.2a     9.6448   4.6757  2.063\n",
       "1@164.2d   -18.5857   6.4877 -2.865\n",
       "1@401.7a    19.4739   4.5231  4.305\n",
       "1@401.7d    -3.6761   6.5537 -0.561\n",
       "2@216.0a    10.9460   4.4560  2.456\n",
       "2@216.0d     0.7308   6.4935  0.113\n",
       "2@327.2a    11.6925   4.4225  2.644\n",
       "2@327.2d    -6.6826   6.3119 -1.059\n",
       "3@141.7a    11.1208   4.7879  2.323\n",
       "3@141.7d    -1.0182   7.0946 -0.144\n",
       "4@49.5a     21.9825   4.7400  4.638\n",
       "4@49.5d      0.8699   6.7487  0.129\n",
       "6@0.0a      -0.5192   4.7213 -0.110\n",
       "6@0.0d      16.7950   6.7640  2.483\n",
       "6@78.1a     18.9074   4.6908  4.031\n",
       "6@78.1d     -4.6131   6.6885 -0.690\n",
       "7@50.2a     33.1385   4.5293  7.316\n",
       "7@50.2d      5.7234   6.6455  0.861\n",
       "8@21.7a      7.3691   4.4412  1.659\n",
       "8@21.7d     -4.5993   6.4597 -0.712\n",
       "8@91.2a     13.3592   4.7805  2.795\n",
       "8@91.2d     -1.7829   6.6138 -0.270\n",
       "9@0.7a     -13.8721   4.9204 -2.819\n",
       "9@0.7d      17.7337   6.9558  2.549\n",
       "10@20.5a    12.8473   4.6027  2.791\n",
       "10@20.5d     2.3598   6.8385  0.345\n",
       "12@7.5a    -19.1640   4.5927 -4.173\n",
       "12@7.5d     -3.0520   6.7470 -0.452\n",
       "13@4.3a     15.3958   4.5127  3.412\n",
       "13@4.3d      7.2315   6.5242  1.108\n",
       "14@22.9a    13.6626   4.5414  3.008\n",
       "14@22.9d     2.9305   6.8849  0.426\n",
       "16@9.0a     17.5830   4.6357  3.793\n",
       "16@9.0d      5.5834   6.7482  0.827\n",
       "21@3.1a     18.7559   5.6733  3.306\n",
       "21@3.1d     -9.6869   7.8275 -1.238\n",
       "23@0.0a      7.6704   4.3501  1.763\n",
       "23@0.0d     18.2904   8.6908  2.105\n",
       "27@0.0a      9.5789   5.8703  1.632\n",
       "27@0.0d     14.8429   8.5421  1.738\n",
       "29@0.0a     11.1062   4.9138  2.260\n",
       "29@0.0d     -1.9033   9.9130 -0.192\n"
      ]
     },
     "metadata": {},
     "output_type": "display_data"
    }
   ],
   "source": [
    "summary(fit_sugg)"
   ]
  },
  {
   "cell_type": "code",
   "execution_count": 109,
   "metadata": {},
   "outputs": [],
   "source": [
    "save.image(file = \"20201117_nodens_wahlberg.Rdata\")"
   ]
  },
  {
   "cell_type": "markdown",
   "metadata": {},
   "source": [
    "# 20201117 Investigate Effect of marker density on Effectsize and %var explained"
   ]
  },
  {
   "cell_type": "code",
   "execution_count": 110,
   "metadata": {},
   "outputs": [],
   "source": [
    "# load data - which bins have a Wahlberg 2009 marker?\n",
    "\n",
    "Wahlberg_bins = read.table('../../../../chicken-assoc-vis/data/20201117_all_bins_with_WB_marker.csv', sep = ',')"
   ]
  },
  {
   "cell_type": "markdown",
   "metadata": {},
   "source": [
    "###  make two subsets: one with all Individuals at Wahlberg resolution, one with only wahlberg individuals and Wahlberg resolution"
   ]
  },
  {
   "cell_type": "code",
   "execution_count": 111,
   "metadata": {},
   "outputs": [
    {
     "name": "stderr",
     "output_type": "stream",
     "text": [
      "Warning message in pull.markers(datf2.5, Wahlberg_bins$V2):\n",
      "“Some markers couldn't be found: 0 20-13”\n",
      "Warning message in pull.markers(Wahlberg_individs, Wahlberg_bins$V2):\n",
      "“Some markers couldn't be found: 0 20-13”\n"
     ]
    }
   ],
   "source": [
    "\n",
    "WB_markers_all <- pull.markers(datf2.5,Wahlberg_bins$V2 )\n",
    "WB_markers_WBind <- pull.markers(Wahlberg_individs, Wahlberg_bins$V2 )"
   ]
  },
  {
   "cell_type": "markdown",
   "metadata": {},
   "source": [
    "### reestimate some stuff for WB_markers_all(individs)"
   ]
  },
  {
   "cell_type": "code",
   "execution_count": 112,
   "metadata": {},
   "outputs": [],
   "source": [
    "WB_markers_all <- est.rf(WB_markers_all)"
   ]
  },
  {
   "cell_type": "code",
   "execution_count": null,
   "metadata": {},
   "outputs": [],
   "source": [
    "#genmap <- est.map(WB_markers_all, error.prob=0.005)\n",
    "#WB_markers_all <- replace.map(WB_markers_all, genmap)\n"
   ]
  },
  {
   "cell_type": "code",
   "execution_count": 114,
   "metadata": {},
   "outputs": [],
   "source": [
    "WB_markers_all <- calc.genoprob(WB_markers_all, step=1)\n",
    "WB_markers_all <- calc.genoprob(WB_markers_all, step=0, off.end = 0)"
   ]
  },
  {
   "cell_type": "code",
   "execution_count": 113,
   "metadata": {},
   "outputs": [],
   "source": [
    "\n"
   ]
  },
  {
   "cell_type": "code",
   "execution_count": 115,
   "metadata": {},
   "outputs": [],
   "source": [
    "# modifying the list of qtls to account for the fact that Chromosome rank29 is missing in the Wahlberg markers!\n",
    "chromWBmark  <- c(1,1,1,2,2,3,4,6,6,7,8,8,9,10,12,13,14,16,21,23,27)\n",
    "\n",
    "posWBmark <- c(84.23679,164.2182,401.677,216.027,327.171,141.6651,49.49908,0.02957916,78.12438,50.22548,21.68429,91.15566,0.6851328,20.48725,7.497863,4.298689,22.88642,8.951825,3.066803,1.00E-07,7.00E-07)"
   ]
  },
  {
   "cell_type": "code",
   "execution_count": 116,
   "metadata": {},
   "outputs": [
    {
     "name": "stderr",
     "output_type": "stream",
     "text": [
      "Warning message in getsex(cross):\n",
      "“3 individuals with missing sex; assuming they're female”\n",
      "Warning message in fitqtl(WB_markers_all, pheno.col = 3, qtl = qtls_WBmark_all, :\n",
      "“The qtl object doesn't contain imputations; using method=\"hk\".”\n",
      "Warning message in fitqtlengine(pheno = pheno, qtl = qtl, covar = covar, formula = formula, :\n",
      "“Dropping 62 individuals with missing phenotypes.\n",
      "”\n",
      "Warning message in getsex(cross):\n",
      "“3 individuals with missing sex; assuming they're female”\n"
     ]
    }
   ],
   "source": [
    "qtls_WBmark_all <- makeqtl(WB_markers_all, chr = chromWBmark, pos = posWBmark, what = 'prob')\n",
    "fit_sugg_WBmark_all <- fitqtl(WB_markers_all, pheno.col = 3, qtl = qtls_WBmark_all, covar = ac2, get.ests=TRUE)\n"
   ]
  },
  {
   "cell_type": "code",
   "execution_count": null,
   "metadata": {},
   "outputs": [],
   "source": []
  },
  {
   "cell_type": "code",
   "execution_count": 117,
   "metadata": {},
   "outputs": [
    {
     "data": {
      "text/plain": [
       "\n",
       "\t\tfitqtl summary\n",
       "\n",
       "Method: Haley-Knott regression \n",
       "Model:  normal phenotype\n",
       "Number of observations : 3073 \n",
       "\n",
       "Full model result\n",
       "----------------------------------  \n",
       "Model formula: y ~ Q1 + Q2 + Q3 + Q4 + Q5 + Q6 + Q7 + Q8 + Q9 + Q10 + Q11 + Q12 \n",
       "                    + Q13 + Q14 + Q15 + Q16 + Q17 + Q18 + Q19 + Q20 + Q21 + SEX \n",
       "                    + GENERATION \n",
       "\n",
       "        df        SS        MS      LOD     %var Pvalue(Chi2) Pvalue(F)\n",
       "Model   44  25561290 580938.40 180.2887 23.67571            0         0\n",
       "Error 3028  82402897  27213.64                                         \n",
       "Total 3072 107964187                                                   \n",
       "\n",
       "\n",
       "Drop one QTL at a time ANOVA table: \n",
       "----------------------------------  \n",
       "           df Type III SS      LOD     %var F value Pvalue(Chi2) Pvalue(F)    \n",
       "1@76.8      2      542699   4.3803  0.50267   9.971        0.000  4.83e-05 ***\n",
       "1@164.6     2      283146   2.2890  0.26226   5.202        0.005  0.005553 ** \n",
       "1@407.5     2      639433   5.1581  0.59226  11.748        0.000  8.27e-06 ***\n",
       "2@212.5     2      172632   1.3965  0.15990   3.172        0.040  0.042068 *  \n",
       "2@330.8     2      156167   1.2634  0.14465   2.869        0.055  0.056894 .  \n",
       "3@152.6     2       64965   0.5259  0.06017   1.194        0.298  0.303265    \n",
       "4@40.8      2      494973   3.9963  0.45846   9.094        0.000  0.000115 ***\n",
       "6@2.9       2      112504   0.9104  0.10420   2.067        0.123  0.126738    \n",
       "6@78.7      2      480460   3.8794  0.44502   8.828        0.000  0.000150 ***\n",
       "7@44.1      2     1321439  10.6160  1.22396  24.279        0.000  3.46e-11 ***\n",
       "8@18.9      2      189198   1.5304  0.17524   3.476        0.029  0.031049 *  \n",
       "8@63.6      2       65639   0.5313  0.06080   1.206        0.294  0.299539    \n",
       "9@0.0       2      488967   3.9479  0.45290   8.984        0.000  0.000129 ***\n",
       "10@20.5     2      272406   2.2023  0.25231   5.005        0.006  0.006760 ** \n",
       "12@7.5      2      411855   3.3269  0.38147   7.567        0.000  0.000527 ***\n",
       "13@4.3      2      416031   3.3605  0.38534   7.644        0.000  0.000488 ***\n",
       "14@31.4     2      198712   1.6072  0.18405   3.651        0.025  0.026081 *  \n",
       "16@5.0      2       98159   0.7944  0.09092   1.803        0.161  0.164901    \n",
       "21@3.1      2      397712   3.2129  0.36837   7.307        0.001  0.000683 ***\n",
       "23@0.0      2      238744   1.9305  0.22113   4.386        0.012  0.012524 *  \n",
       "27@0.0      2      285302   2.3064  0.26426   5.242        0.005  0.005338 ** \n",
       "SEX         1    14696658 109.5137 13.61253 540.048        0.000   < 2e-16 ***\n",
       "GENERATION  1      560597   4.5243  0.51924  20.600        0.000  5.88e-06 ***\n",
       "---\n",
       "Signif. codes:  0 ‘***’ 0.001 ‘**’ 0.01 ‘*’ 0.05 ‘.’ 0.1 ‘ ’ 1\n",
       "\n",
       "\n",
       "Estimated effects:\n",
       "-----------------\n",
       "                est       SE      t\n",
       "Intercept  574.5714   5.9572 96.449\n",
       "SEX        139.5120   6.0034 23.239\n",
       "GENERATION  -2.8458   0.6270 -4.539\n",
       "1@76.8a     19.5983   4.6169  4.245\n",
       "1@76.8d      7.2033   6.6726  1.080\n",
       "1@164.6a    10.3068   4.7298  2.179\n",
       "1@164.6d   -17.8292   6.6047 -2.699\n",
       "1@407.5a    23.0507   4.7585  4.844\n",
       "1@407.5d     1.3389   7.0316  0.190\n",
       "2@212.5a    11.1895   4.4764  2.500\n",
       "2@212.5d    -1.4853   6.3685 -0.233\n",
       "2@330.8a    10.4655   4.3693  2.395\n",
       "2@330.8d    -2.8328   6.4684 -0.438\n",
       "3@152.6a     7.0551   4.5827  1.540\n",
       "3@152.6d    -1.3797   6.9585 -0.198\n",
       "4@40.8a     21.1768   5.0551  4.189\n",
       "4@40.8d      0.9022   7.2978  0.124\n",
       "6@2.9a      -3.8120   4.8153 -0.792\n",
       "6@2.9d      13.7974   6.9789  1.977\n",
       "6@78.7a     20.1264   4.8025  4.191\n",
       "6@78.7d     -4.9009   6.8035 -0.720\n",
       "7@44.1a     31.0938   4.4833  6.936\n",
       "7@44.1d      3.7195   6.5928  0.564\n",
       "8@18.9a     12.8779   4.9553  2.599\n",
       "8@18.9d     -1.6227   6.9070 -0.235\n",
       "8@63.6a     -3.1760   5.0475 -0.629\n",
       "8@63.6d     10.1166   6.8121  1.485\n",
       "9@0.0a     -14.8075   4.9596 -2.986\n",
       "9@0.0d      18.3150   6.9983  2.617\n",
       "10@20.5a    14.6262   4.6313  3.158\n",
       "10@20.5d     0.7637   6.8647  0.111\n",
       "12@7.5a    -18.0039   4.6906 -3.838\n",
       "12@7.5d     -5.7264   6.9202 -0.828\n",
       "13@4.3a     16.9588   4.5590  3.720\n",
       "13@4.3d      7.7300   6.6339  1.165\n",
       "14@31.4a    12.5081   4.6401  2.696\n",
       "14@31.4d     0.8156   7.1622  0.114\n",
       "16@5.0a     10.4734   5.8104  1.803\n",
       "16@5.0d     -1.3482   8.9422 -0.151\n",
       "21@3.1a     20.2209   5.7710  3.504\n",
       "21@3.1d     -9.7056   8.0371 -1.208\n",
       "23@0.0a      8.1790   4.3882  1.864\n",
       "23@0.0d     20.1346   8.7204  2.309\n",
       "27@0.0a     11.1390   5.9394  1.875\n",
       "27@0.0d     16.8626   8.6077  1.959\n"
      ]
     },
     "metadata": {},
     "output_type": "display_data"
    }
   ],
   "source": [
    "#summary(fit_sugg_WBmark_all)"
   ]
  },
  {
   "cell_type": "code",
   "execution_count": 118,
   "metadata": {},
   "outputs": [],
   "source": [
    "save.image(file = \"20201118_nodens_wahlberg.Rdata\")"
   ]
  },
  {
   "cell_type": "code",
   "execution_count": 119,
   "metadata": {},
   "outputs": [],
   "source": [
    "WB_markers_WBind <- est.rf(WB_markers_WBind)"
   ]
  },
  {
   "cell_type": "code",
   "execution_count": 120,
   "metadata": {},
   "outputs": [],
   "source": [
    "genmap <- est.map(WB_markers_WBind, error.prob=0.005)\n",
    "WB_markers_WBind <- replace.map(WB_markers_WBind, genmap)\n"
   ]
  },
  {
   "cell_type": "code",
   "execution_count": 121,
   "metadata": {},
   "outputs": [],
   "source": [
    "\n",
    "\n",
    "\n",
    "WB_markers_WBind <- calc.genoprob(WB_markers_WBind, step=1)\n",
    "WB_markers_WBind <- calc.genoprob(WB_markers_WBind, step=0, off.end = 0)"
   ]
  },
  {
   "cell_type": "code",
   "execution_count": 122,
   "metadata": {},
   "outputs": [
    {
     "name": "stderr",
     "output_type": "stream",
     "text": [
      "Warning message in fitqtl(WB_markers_WBind, pheno.col = 3, qtl = qtls_WBmark_WBind, :\n",
      "“The qtl object doesn't contain imputations; using method=\"hk\".”\n",
      "Warning message in fitqtlengine(pheno = pheno, qtl = qtl, covar = covar, formula = formula, :\n",
      "“Dropping 55 individuals with missing phenotypes.\n",
      "”\n"
     ]
    }
   ],
   "source": [
    "qtls_WBmark_WBind <- makeqtl(WB_markers_WBind, chr = chromWBmark, pos = posWBmark, what = 'prob')\n",
    "fit_sugg_WBmark_WBind <- fitqtl(WB_markers_WBind, pheno.col = 3, qtl = qtls_WBmark_WBind, covar = ac, get.ests=TRUE)\n"
   ]
  },
  {
   "cell_type": "code",
   "execution_count": 136,
   "metadata": {},
   "outputs": [
    {
     "name": "stderr",
     "output_type": "stream",
     "text": [
      "Warning message in checkcovar(cross, pheno.col, addcovar, intcovar, perm.strata, :\n",
      "“Dropping 55 individuals with missing phenotypes.\n",
      "”\n"
     ]
    }
   ],
   "source": [
    "ac_wb_wb <-  pull.pheno(WB_markers_WBind, c(\"SEX\"))\n",
    "\n",
    "out.hk.wbmrk_wb_ind <- scanone(WB_markers_WBind, method = 'hk', addcovar = ac_wb_wb, pheno.col = 3)"
   ]
  },
  {
   "cell_type": "code",
   "execution_count": 137,
   "metadata": {},
   "outputs": [
    {
     "name": "stderr",
     "output_type": "stream",
     "text": [
      "Warning message in checkcovar(cross, pheno.col, addcovar, intcovar, perm.strata, :\n",
      "“Dropping 55 individuals with missing phenotypes.\n",
      "”\n"
     ]
    }
   ],
   "source": [
    "ac_wb_all <- pull.pheno(Wahlberg_individs, c(\"SEX\"))\n",
    "\n",
    "out.hk.wbmrk_all <- scanone(Wahlberg_individs, method = 'hk', addcovar = ac_wb_all, pheno.col = 3)"
   ]
  },
  {
   "cell_type": "code",
   "execution_count": 140,
   "metadata": {},
   "outputs": [
    {
     "name": "stderr",
     "output_type": "stream",
     "text": [
      "Warning message in checkcovar(cross, pheno.col, addcovar, intcovar, perm.strata, :\n",
      "“Dropping 62 individuals with missing phenotypes.\n",
      "”\n"
     ]
    }
   ],
   "source": [
    "ac_all_all <-  pull.pheno(datf2.5, c(\"SEX\", 'GENERATION'))\n",
    "\n",
    "out.hk.all_all <- scanone(datf2.5, method = 'hk', addcovar = ac_all_all, pheno.col = 3)"
   ]
  },
  {
   "cell_type": "code",
   "execution_count": 144,
   "metadata": {},
   "outputs": [
    {
     "data": {
      "image/png": "[encoded data removed]",
      "text/plain": [
       "plot without title"
      ]
     },
     "metadata": {
      "image/png": {
       "height": 420,
       "width": 420
      }
     },
     "output_type": "display_data"
    }
   ],
   "source": [
    "plot(out.hk.wbmrk_wb_ind,out.hk.wbmrk_all,out.hk.all_all, chr=9)\n"
   ]
  },
  {
   "cell_type": "code",
   "execution_count": 145,
   "metadata": {},
   "outputs": [
    {
     "data": {
      "image/png": "[encoded data removed]",
      "text/plain": [
       "plot without title"
      ]
     },
     "metadata": {
      "image/png": {
       "height": 420,
       "width": 420
      }
     },
     "output_type": "display_data"
    }
   ],
   "source": [
    "plot(out.hk.wbmrk_wb_ind, chr=9)"
   ]
  },
  {
   "cell_type": "code",
   "execution_count": 157,
   "metadata": {},
   "outputs": [],
   "source": [
    "test <- pull.map(WB_markers_WBind)\n",
    "\n",
    "test2 <- pull.map(WB_markers_all)\n",
    "test3 <- pull.map(datf2.5)"
   ]
  },
  {
   "cell_type": "code",
   "execution_count": 156,
   "metadata": {},
   "outputs": [
    {
     "data": {
      "text/plain": [
       "     8-7     8-16     8-23     8-25     8-27     8-28 \n",
       "18.85007 31.51179 46.77133 59.71774 60.31981 63.57202 "
      ]
     },
     "metadata": {},
     "output_type": "display_data"
    }
   ],
   "source": [
    "test2['8']"
   ]
  },
  {
   "cell_type": "code",
   "execution_count": 158,
   "metadata": {},
   "outputs": [
    {
     "data": {
      "text/plain": [
       "       8-0        8-1        8-2        8-3        8-4        8-5        8-6 \n",
       " 0.0000000  0.0000001  0.0000002  0.0000003  0.9350173 17.0699880 18.0460276 \n",
       "       8-7        8-8        8-9       8-10       8-11       8-12       8-13 \n",
       "18.8500724 21.5698515 21.6842869 25.8401836 25.8401837 29.6432127 30.8412752 \n",
       "      8-14       8-15       8-16       8-17       8-18       8-19       8-20 \n",
       "31.4070199 31.4070200 31.5117905 33.2124394 45.3476078 45.6344692 45.8105933 \n",
       "      8-21       8-22       8-23       8-24       8-25       8-26       8-27 \n",
       "46.2587677 46.7164576 46.7713294 54.8871424 59.7177370 59.8027607 60.3198146 \n",
       "      8-28       8-29       8-30       8-31       8-32       8-33       8-34 \n",
       "63.5720160 64.1692121 65.9077942 82.8130330 90.7505688 91.1556603 91.1556604 \n",
       "      8-35       8-36       8-37 \n",
       "91.1556605 91.1556606 91.1556607 "
      ]
     },
     "metadata": {},
     "output_type": "display_data"
    }
   ],
   "source": [
    "test3['8']"
   ]
  },
  {
   "cell_type": "code",
   "execution_count": 154,
   "metadata": {},
   "outputs": [
    {
     "data": {
      "text/plain": [
       "     8-7     8-16     8-23     8-25     8-27     8-28 \n",
       "18.85007 27.92656 40.39150 51.84492 54.59477 55.70993 "
      ]
     },
     "metadata": {},
     "output_type": "display_data"
    }
   ],
   "source": [
    "test['8']"
   ]
  },
  {
   "cell_type": "code",
   "execution_count": 124,
   "metadata": {},
   "outputs": [],
   "source": [
    "save.image(file = \"20201118_nodens_wahlberg.Rdata\")"
   ]
  },
  {
   "cell_type": "markdown",
   "metadata": {},
   "source": [
    "# remove F8's to look at effect sizes"
   ]
  },
  {
   "cell_type": "code",
   "execution_count": null,
   "metadata": {},
   "outputs": [],
   "source": [
    "F2 = datf2.5$pheno['GENERATION'] ==2\n",
    "F3 = datf2.5$pheno['GENERATION'] ==3\n",
    "F4 = datf2.5$pheno['GENERATION'] ==4\n",
    "F5 = datf2.5$pheno['GENERATION'] ==5\n",
    "F6 = datf2.5$pheno['GENERATION'] ==6\n",
    "F7 = datf2.5$pheno['GENERATION'] ==7\n",
    "F8 = datf2.5$pheno['GENERATION'] ==8\n",
    "F9 = datf2.5$pheno['GENERATION'] ==9\n",
    "F10 = datf2.5$pheno['GENERATION'] ==10\n",
    "F11 = datf2.5$pheno['GENERATION'] ==11\n",
    "F13 = datf2.5$pheno['GENERATION'] ==13\n",
    "F14 = datf2.5$pheno['GENERATION'] ==14\n",
    "F15 = datf2.5$pheno['GENERATION'] ==15"
   ]
  },
  {
   "cell_type": "code",
   "execution_count": null,
   "metadata": {},
   "outputs": [],
   "source": []
  },
  {
   "cell_type": "code",
   "execution_count": null,
   "metadata": {},
   "outputs": [],
   "source": [
    "all_but_f8 = as.logical(F2+F3+F4+F5+F6+F7+F9+F10+F11+F13+F14+F15)"
   ]
  },
  {
   "cell_type": "code",
   "execution_count": null,
   "metadata": {},
   "outputs": [],
   "source": [
    "all_butf8_subs = subset(datf2.5, ind = all_but_f8)\n",
    "acnoF8 <- pull.pheno(all_butf8_subs, c(\"SEX\", 'GENERATION'))\n",
    "out.acovar.noF8 <- scanone(all_butf8_subs, pheno.col = 3, addcovar=acnoF8)\n"
   ]
  },
  {
   "cell_type": "code",
   "execution_count": null,
   "metadata": {},
   "outputs": [],
   "source": []
  },
  {
   "cell_type": "code",
   "execution_count": null,
   "metadata": {},
   "outputs": [],
   "source": [
    "qtls_noF8 <- makeqtl(all_butf8_subs, chr = chrom, pos = pos, what = 'prob')"
   ]
  },
  {
   "cell_type": "code",
   "execution_count": null,
   "metadata": {},
   "outputs": [],
   "source": [
    "fit_sugg_noF8 <- fitqtl(all_butf8_subs, pheno.col = 3, qtl = qtls_noF8, covar = acnoF8, get.ests=TRUE)"
   ]
  },
  {
   "cell_type": "code",
   "execution_count": null,
   "metadata": {},
   "outputs": [],
   "source": [
    "summary(fit_sugg_noF8)"
   ]
  },
  {
   "cell_type": "code",
   "execution_count": null,
   "metadata": {},
   "outputs": [],
   "source": [
    "write.csv(fit_sugg_noF8$ests$ests, '20201111_fit_sugg_nof8_ests.csv')"
   ]
  },
  {
   "cell_type": "code",
   "execution_count": null,
   "metadata": {},
   "outputs": [],
   "source": [
    "write.csv(fit_sugg$ests$ests, '20201111_fit_sugg_ests.csv')"
   ]
  },
  {
   "cell_type": "code",
   "execution_count": null,
   "metadata": {},
   "outputs": [],
   "source": []
  }
 ],
 "metadata": {
  "kernelspec": {
   "display_name": "R",
   "language": "R",
   "name": "ir"
  },
  "language_info": {
   "codemirror_mode": "r",
   "file_extension": ".r",
   "mimetype": "text/x-r-source",
   "name": "R",
   "pygments_lexer": "r",
   "version": "3.6.3"
  }
 },
 "nbformat": 4,
 "nbformat_minor": 4
}
