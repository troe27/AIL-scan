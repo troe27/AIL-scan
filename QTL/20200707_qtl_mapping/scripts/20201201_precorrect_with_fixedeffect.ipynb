{
 "cells": [
  {
   "cell_type": "code",
   "execution_count": 1,
   "metadata": {},
   "outputs": [],
   "source": [
    "import pandas as pd\n",
    "import numpy as np\n",
    "import statsmodels.api as sm\n",
    "import statsmodels.formula.api as smf"
   ]
  },
  {
   "cell_type": "code",
   "execution_count": 2,
   "metadata": {},
   "outputs": [],
   "source": [
    "# load data\n",
    "\n",
    "cross = pd.read_csv('20201125_cross.csv', low_memory=False)\n",
    "cross = cross.drop([0,1])\n",
    "cross = cross.reset_index()\n",
    "\n",
    "cross = cross.replace('AA', -1)\n",
    "cross = cross.replace('AB', 0)\n",
    "cross = cross.replace('BB', 1)\n",
    "cross = cross.replace('-', np.nan)\n",
    "\n",
    "cross.GENERATION = ['F'+str(i) for i in cross.GENERATION]\n",
    "cross.DAM = ['D'+str(i) for i in cross.DAM]\n",
    "\n",
    "cross = cross.loc[cross.BW8.isna()==False]\n",
    "cross.BW8 = cross.BW8.astype(float)\n",
    "cross.SEX = cross.SEX.astype(float)\n",
    "\n",
    "\n",
    "cnew = []\n",
    "for i in cross.columns:\n",
    "    if '-' in i:\n",
    "        ni = 'mrk_'+'_'.join(i.split('-'))\n",
    "    else:\n",
    "        ni = i\n",
    "    cnew.append(ni)\n",
    "    \n",
    "cross.columns = cnew\n",
    "\n",
    "\n",
    "cross_markers = [i for i in cross.columns if i.startswith('mrk')]\n"
   ]
  },
  {
   "cell_type": "code",
   "execution_count": 4,
   "metadata": {},
   "outputs": [],
   "source": [
    "#cross"
   ]
  },
  {
   "cell_type": "markdown",
   "metadata": {},
   "source": [
    "# building a simple ols instead of the linear model"
   ]
  },
  {
   "cell_type": "code",
   "execution_count": 5,
   "metadata": {},
   "outputs": [],
   "source": [
    "data = cross\n",
    "pheno = 'BW8'\n",
    "md = smf.ols(\"{pheno} ~ SEX + GENERATION\".format(pheno=pheno), data=data)\n",
    "mdf = md.fit()"
   ]
  },
  {
   "cell_type": "code",
   "execution_count": 6,
   "metadata": {},
   "outputs": [
    {
     "data": {
      "text/html": [
       "<table class=\"simpletable\">\n",
       "<caption>OLS Regression Results</caption>\n",
       "<tr>\n",
       "  <th>Dep. Variable:</th>           <td>BW8</td>       <th>  R-squared:         </th> <td>   0.370</td> \n",
       "</tr>\n",
       "<tr>\n",
       "  <th>Model:</th>                   <td>OLS</td>       <th>  Adj. R-squared:    </th> <td>   0.367</td> \n",
       "</tr>\n",
       "<tr>\n",
       "  <th>Method:</th>             <td>Least Squares</td>  <th>  F-statistic:       </th> <td>   138.0</td> \n",
       "</tr>\n",
       "<tr>\n",
       "  <th>Date:</th>             <td>Tue, 01 Dec 2020</td> <th>  Prob (F-statistic):</th> <td>1.35e-294</td>\n",
       "</tr>\n",
       "<tr>\n",
       "  <th>Time:</th>                 <td>13:24:13</td>     <th>  Log-Likelihood:    </th> <td> -19734.</td> \n",
       "</tr>\n",
       "<tr>\n",
       "  <th>No. Observations:</th>      <td>  3073</td>      <th>  AIC:               </th> <td>3.950e+04</td>\n",
       "</tr>\n",
       "<tr>\n",
       "  <th>Df Residuals:</th>          <td>  3059</td>      <th>  BIC:               </th> <td>3.958e+04</td>\n",
       "</tr>\n",
       "<tr>\n",
       "  <th>Df Model:</th>              <td>    13</td>      <th>                     </th>     <td> </td>    \n",
       "</tr>\n",
       "<tr>\n",
       "  <th>Covariance Type:</th>      <td>nonrobust</td>    <th>                     </th>     <td> </td>    \n",
       "</tr>\n",
       "</table>\n",
       "<table class=\"simpletable\">\n",
       "<tr>\n",
       "          <td></td>             <th>coef</th>     <th>std err</th>      <th>t</th>      <th>P>|t|</th>  <th>[0.025</th>    <th>0.975]</th>  \n",
       "</tr>\n",
       "<tr>\n",
       "  <th>Intercept</th>         <td>  575.6627</td> <td>   19.446</td> <td>   29.603</td> <td> 0.000</td> <td>  537.534</td> <td>  613.792</td>\n",
       "</tr>\n",
       "<tr>\n",
       "  <th>GENERATION[T.F11]</th> <td>  -60.9723</td> <td>   25.030</td> <td>   -2.436</td> <td> 0.015</td> <td> -110.050</td> <td>  -11.895</td>\n",
       "</tr>\n",
       "<tr>\n",
       "  <th>GENERATION[T.F13]</th> <td>  -16.6544</td> <td>   25.759</td> <td>   -0.647</td> <td> 0.518</td> <td>  -67.160</td> <td>   33.852</td>\n",
       "</tr>\n",
       "<tr>\n",
       "  <th>GENERATION[T.F14]</th> <td>   68.3692</td> <td>   32.651</td> <td>    2.094</td> <td> 0.036</td> <td>    4.348</td> <td>  132.390</td>\n",
       "</tr>\n",
       "<tr>\n",
       "  <th>GENERATION[T.F15]</th> <td>  -52.2795</td> <td>   19.950</td> <td>   -2.620</td> <td> 0.009</td> <td>  -91.397</td> <td>  -13.162</td>\n",
       "</tr>\n",
       "<tr>\n",
       "  <th>GENERATION[T.F2]</th>  <td>  -17.2503</td> <td>   19.905</td> <td>   -0.867</td> <td> 0.386</td> <td>  -56.279</td> <td>   21.778</td>\n",
       "</tr>\n",
       "<tr>\n",
       "  <th>GENERATION[T.F3]</th>  <td>   63.2823</td> <td>   20.565</td> <td>    3.077</td> <td> 0.002</td> <td>   22.960</td> <td>  103.604</td>\n",
       "</tr>\n",
       "<tr>\n",
       "  <th>GENERATION[T.F4]</th>  <td>  -53.5611</td> <td>   23.864</td> <td>   -2.244</td> <td> 0.025</td> <td> -100.352</td> <td>   -6.771</td>\n",
       "</tr>\n",
       "<tr>\n",
       "  <th>GENERATION[T.F5]</th>  <td>    6.2125</td> <td>   23.719</td> <td>    0.262</td> <td> 0.793</td> <td>  -40.294</td> <td>   52.719</td>\n",
       "</tr>\n",
       "<tr>\n",
       "  <th>GENERATION[T.F6]</th>  <td>  122.4939</td> <td>   24.972</td> <td>    4.905</td> <td> 0.000</td> <td>   73.531</td> <td>  171.457</td>\n",
       "</tr>\n",
       "<tr>\n",
       "  <th>GENERATION[T.F7]</th>  <td>   43.9834</td> <td>   30.322</td> <td>    1.451</td> <td> 0.147</td> <td>  -15.469</td> <td>  103.436</td>\n",
       "</tr>\n",
       "<tr>\n",
       "  <th>GENERATION[T.F8]</th>  <td> -273.9595</td> <td>   21.161</td> <td>  -12.947</td> <td> 0.000</td> <td> -315.450</td> <td> -232.469</td>\n",
       "</tr>\n",
       "<tr>\n",
       "  <th>GENERATION[T.F9]</th>  <td>   81.2095</td> <td>   28.561</td> <td>    2.843</td> <td> 0.004</td> <td>   25.209</td> <td>  137.210</td>\n",
       "</tr>\n",
       "<tr>\n",
       "  <th>SEX</th>               <td>  141.1413</td> <td>    5.431</td> <td>   25.990</td> <td> 0.000</td> <td>  130.493</td> <td>  151.789</td>\n",
       "</tr>\n",
       "</table>\n",
       "<table class=\"simpletable\">\n",
       "<tr>\n",
       "  <th>Omnibus:</th>       <td>22.307</td> <th>  Durbin-Watson:     </th> <td>   1.966</td>\n",
       "</tr>\n",
       "<tr>\n",
       "  <th>Prob(Omnibus):</th> <td> 0.000</td> <th>  Jarque-Bera (JB):  </th> <td>  24.484</td>\n",
       "</tr>\n",
       "<tr>\n",
       "  <th>Skew:</th>          <td>-0.163</td> <th>  Prob(JB):          </th> <td>4.82e-06</td>\n",
       "</tr>\n",
       "<tr>\n",
       "  <th>Kurtosis:</th>      <td> 3.291</td> <th>  Cond. No.          </th> <td>    32.1</td>\n",
       "</tr>\n",
       "</table><br/><br/>Warnings:<br/>[1] Standard Errors assume that the covariance matrix of the errors is correctly specified."
      ],
      "text/plain": [
       "<class 'statsmodels.iolib.summary.Summary'>\n",
       "\"\"\"\n",
       "                            OLS Regression Results                            \n",
       "==============================================================================\n",
       "Dep. Variable:                    BW8   R-squared:                       0.370\n",
       "Model:                            OLS   Adj. R-squared:                  0.367\n",
       "Method:                 Least Squares   F-statistic:                     138.0\n",
       "Date:                Tue, 01 Dec 2020   Prob (F-statistic):          1.35e-294\n",
       "Time:                        13:24:13   Log-Likelihood:                -19734.\n",
       "No. Observations:                3073   AIC:                         3.950e+04\n",
       "Df Residuals:                    3059   BIC:                         3.958e+04\n",
       "Df Model:                          13                                         \n",
       "Covariance Type:            nonrobust                                         \n",
       "=====================================================================================\n",
       "                        coef    std err          t      P>|t|      [0.025      0.975]\n",
       "-------------------------------------------------------------------------------------\n",
       "Intercept           575.6627     19.446     29.603      0.000     537.534     613.792\n",
       "GENERATION[T.F11]   -60.9723     25.030     -2.436      0.015    -110.050     -11.895\n",
       "GENERATION[T.F13]   -16.6544     25.759     -0.647      0.518     -67.160      33.852\n",
       "GENERATION[T.F14]    68.3692     32.651      2.094      0.036       4.348     132.390\n",
       "GENERATION[T.F15]   -52.2795     19.950     -2.620      0.009     -91.397     -13.162\n",
       "GENERATION[T.F2]    -17.2503     19.905     -0.867      0.386     -56.279      21.778\n",
       "GENERATION[T.F3]     63.2823     20.565      3.077      0.002      22.960     103.604\n",
       "GENERATION[T.F4]    -53.5611     23.864     -2.244      0.025    -100.352      -6.771\n",
       "GENERATION[T.F5]      6.2125     23.719      0.262      0.793     -40.294      52.719\n",
       "GENERATION[T.F6]    122.4939     24.972      4.905      0.000      73.531     171.457\n",
       "GENERATION[T.F7]     43.9834     30.322      1.451      0.147     -15.469     103.436\n",
       "GENERATION[T.F8]   -273.9595     21.161    -12.947      0.000    -315.450    -232.469\n",
       "GENERATION[T.F9]     81.2095     28.561      2.843      0.004      25.209     137.210\n",
       "SEX                 141.1413      5.431     25.990      0.000     130.493     151.789\n",
       "==============================================================================\n",
       "Omnibus:                       22.307   Durbin-Watson:                   1.966\n",
       "Prob(Omnibus):                  0.000   Jarque-Bera (JB):               24.484\n",
       "Skew:                          -0.163   Prob(JB):                     4.82e-06\n",
       "Kurtosis:                       3.291   Cond. No.                         32.1\n",
       "==============================================================================\n",
       "\n",
       "Warnings:\n",
       "[1] Standard Errors assume that the covariance matrix of the errors is correctly specified.\n",
       "\"\"\""
      ]
     },
     "execution_count": 6,
     "metadata": {},
     "output_type": "execute_result"
    }
   ],
   "source": [
    "mdf.summary()"
   ]
  },
  {
   "cell_type": "code",
   "execution_count": 7,
   "metadata": {},
   "outputs": [
    {
     "data": {
      "text/plain": [
       "0      -459.553657\n",
       "1       -11.553657\n",
       "2       142.587656\n",
       "3       -23.412344\n",
       "4        12.587656\n",
       "           ...    \n",
       "3130   -132.945015\n",
       "3131    117.913672\n",
       "3132    127.913672\n",
       "3133   -210.086328\n",
       "3134    -40.945015\n",
       "Length: 3073, dtype: float64"
      ]
     },
     "execution_count": 7,
     "metadata": {},
     "output_type": "execute_result"
    }
   ],
   "source": [
    "mdf.resid"
   ]
  },
  {
   "cell_type": "code",
   "execution_count": 8,
   "metadata": {},
   "outputs": [],
   "source": [
    "residuals = pd.DataFrame([cross['id.1'], mdf.resid]).T"
   ]
  },
  {
   "cell_type": "code",
   "execution_count": 9,
   "metadata": {},
   "outputs": [],
   "source": [
    "residuals.columns = ['id', 'sex_gen_resid']\n",
    "residuals.to_csv('20201201_residuals_precorrected_for_sex_and_generation_as_fixed_effects.csv')"
   ]
  },
  {
   "cell_type": "code",
   "execution_count": null,
   "metadata": {},
   "outputs": [],
   "source": []
  }
 ],
 "metadata": {
  "kernelspec": {
   "display_name": "Python 3",
   "language": "python",
   "name": "python3"
  },
  "language_info": {
   "codemirror_mode": {
    "name": "ipython",
    "version": 3
   },
   "file_extension": ".py",
   "mimetype": "text/x-python",
   "name": "python",
   "nbconvert_exporter": "python",
   "pygments_lexer": "ipython3",
   "version": "3.8.3"
  }
 },
 "nbformat": 4,
 "nbformat_minor": 4
}
