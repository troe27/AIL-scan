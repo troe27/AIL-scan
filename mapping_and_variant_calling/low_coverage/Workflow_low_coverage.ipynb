{
 "cells": [
  {
   "cell_type": "markdown",
   "metadata": {},
   "source": [
    "# Workflow for Low coverage Individuals\n",
    "### Aligning, variantcalling and merging of all individuals of a Generation"
   ]
  },
  {
   "cell_type": "markdown",
   "metadata": {},
   "source": [
    "## overview:\n",
    "![low_coverage_workflow](../../figures/LOW_COV_workflow.png)"
   ]
  },
  {
   "cell_type": "markdown",
   "metadata": {},
   "source": [
    "## Run Snakemake pipeline to get per-individual VCFs\n",
    "\n",
    "config-files for for [F2](./config/config_f2.yaml), [F3](./config/config_f3.yaml), [F8](./config/config_f8.yaml) and [F15](./config/config_f15.yaml)\n",
    "are in the  [config folder](./config) \n",
    "\n",
    "note that you have to modify the snakemake file to use the corresponding config-file\n"
   ]
  },
  {
   "cell_type": "markdown",
   "metadata": {},
   "source": [
    "## run batch-merge twice:\n",
    "here for F8  \n",
    "the Code below is also in the script [make_merge_stage1.sh](./F8/make_merge_stage1.sh)"
   ]
  },
  {
   "cell_type": "code",
   "execution_count": null,
   "metadata": {},
   "outputs": [],
   "source": [
    "%%bash\n",
    "source activate v3 \n",
    "mkdir ./sbatches_merge_1\n",
    "mkdir /home/tilman/storage/F8/merge_vcf_stage1\n",
    "\n",
    "python create_merge.py --infolder /home/tilman/storage/F8/bams/ \\\n",
    "                       --prefix /home/tilman/storage/F8/merge_vcf_stage1/run001 \\\n",
    "                       --make_sbatch \\\n",
    "                       --threads 4 \\\n",
    "                       --bcftools_path bcftools \\\n",
    "                       --batchsize 10 \\\n",
    "                       --scriptprefix ./sbatches_merge_1/stage1\n",
    "\n",
    "#execute : \n",
    "ls ./sbatches_merge_1/stage1* | xargs -n1 -I{} bash -c \"sbatch  {}; sleep 2s\" # sbatch had i/o issues"
   ]
  },
  {
   "cell_type": "markdown",
   "metadata": {},
   "source": [
    "this uses the script [create_merge.py](./create_merge.py) to create an sbatch file for each merge job submit those.\n",
    "each merge-job merges batchsize=10 files and uses four cores for each of these jobs.\n",
    "\n",
    "the subsequent ten-sample files are merged in the next stage, using [make_merge_stage2.sh](./F8/make_merge_stage2.sh) \n",
    "\n",
    "which also executes [create_merge.py](./create_merge.py), but on the merged files, with a smaller batchsize and more cores (mostly because of memory) per job.  \n",
    "subsequently, the remainder of this is merged with [merge_final_f8.sh](./F8/merge_final.sh) "
   ]
  },
  {
   "cell_type": "markdown",
   "metadata": {},
   "source": [
    "## rename samples"
   ]
  },
  {
   "cell_type": "markdown",
   "metadata": {},
   "source": [
    "run [sample_name_list.py](./F8/sample_name_list.py) for each generation.  \n",
    "this file is also used for the sample name generation in stripes.  \n",
    "run [rename_samples.sh](./F8/rename_samples.sh) for each generation"
   ]
  },
  {
   "cell_type": "code",
   "execution_count": null,
   "metadata": {},
   "outputs": [],
   "source": []
  }
 ],
 "metadata": {
  "kernelspec": {
   "display_name": "Python 3",
   "language": "python",
   "name": "python3"
  },
  "language_info": {
   "codemirror_mode": {
    "name": "ipython",
    "version": 3
   },
   "file_extension": ".py",
   "mimetype": "text/x-python",
   "name": "python",
   "nbconvert_exporter": "python",
   "pygments_lexer": "ipython3",
   "version": "3.6.6"
  }
 },
 "nbformat": 4,
 "nbformat_minor": 2
}
