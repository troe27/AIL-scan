{
 "cells": [
  {
   "cell_type": "markdown",
   "metadata": {},
   "source": [
    "# Workflow for Calling Variants on Founders"
   ]
  },
  {
   "cell_type": "markdown",
   "metadata": {},
   "source": [
    "## Overview:\n",
    "\n",
    "![workflow_founders](../../figures/FOUNDERS_workflow.png)"
   ]
  },
  {
   "cell_type": "markdown",
   "metadata": {},
   "source": [
    "### create g.vcfs per sample:\n",
    " - edit [config.yaml](./snakemake_version/config/config.yaml) to use with your data"
   ]
  },
  {
   "cell_type": "markdown",
   "metadata": {},
   "source": [
    "run snakemake pipeline\n",
    "\n",
    "on Rackham:\n",
    " - modify the [slurm.json](./snakemake_version/config/slurm.json) to change the project name and  default time per job"
   ]
  },
  {
   "cell_type": "code",
   "execution_count": 11,
   "metadata": {},
   "outputs": [],
   "source": [
    "%%bash\n",
    "num_jobs=150 # number of concurrently running jobs on the cluster \n",
    "cd ./snakemake_version/\n",
    "nohup snakemake  -j $num_jobs \\\n",
    "                 -s map_and_call_founders.snek \\\n",
    "                --cluster-config config/slurm.json \\\n",
    "                --cluster config/slurm_scheduler.py  \\\n",
    "                --cluster-status config/slurm_status.py  \\\n",
    "                --rerun-incomplete \\\n",
    "                --use-conda > make_gvcfs_founders.out &"
   ]
  },
  {
   "cell_type": "markdown",
   "metadata": {},
   "source": [
    "### call variants on all big chromosomes:\n",
    "- get list of all chromosomes, e.g.:\n",
    "```bash\n",
    "grep \">\" path/to/reference.fna.gz | sort -u > ./allchroms.txt\n",
    "```\n",
    "\n",
    "chromosomes are in [bigchroms.txt](./call_variants_big_chromosomes/bigchroms.txt)\n",
    "and separated in \n",
    " - [bigchroms_large.txt](./call_variants_big_chromosomes/bigchroms_large.txt)  \n",
    " - [bigchroms_medium.txt](./call_variants_big_chromosomes/bigchroms_medium.txt)  \n",
    " - [bigchroms_small.txt](./call_variants_big_chromosomes/bigchroms_small.txt)  \n",
    "\n",
    "for job-resource allocation.\n",
    "\n",
    "create sbatch files for each big chromosome:  \n",
    "big gets 20 threads, medium 15 and small 10"
   ]
  },
  {
   "cell_type": "code",
   "execution_count": 15,
   "metadata": {},
   "outputs": [],
   "source": [
    "%%bash\n",
    "bash ./call_variants_big_chromosomes/create_sbatch_for_chrom.sh"
   ]
  },
  {
   "cell_type": "markdown",
   "metadata": {},
   "source": [
    "This uses [gatk_gt_gvcf_creator.py](./call_variants_big_chromosomes/gatk_gt_gvcf_creator.py) for each big chromosome and makes a sbatch with resources according to size"
   ]
  },
  {
   "cell_type": "code",
   "execution_count": null,
   "metadata": {},
   "outputs": [],
   "source": [
    "%%bash\n",
    "# submit sbatch files:\n",
    "ls /home/tilman/storage/subset3/vcf/run_001* | xargs -n1 -I{} sbatch {}"
   ]
  },
  {
   "cell_type": "markdown",
   "metadata": {},
   "source": [
    "### call variants on all small and unassociated scaffolds:\n",
    "#### filter them out of each .g.vcf \n",
    "- in the reference that i'm using, their names start with \"NW\""
   ]
  },
  {
   "cell_type": "code",
   "execution_count": null,
   "metadata": {},
   "outputs": [],
   "source": [
    "%%bash\n",
    "sbatch ./extract_small_scaffolds/filter_gvcfs_per_chrom.sh"
   ]
  },
  {
   "cell_type": "markdown",
   "metadata": {},
   "source": [
    "this script uses [filter_gvcfs_per_chrom.py](./extract_small_scaffolds/filter_gvcfs_per_chrom.py)"
   ]
  },
  {
   "cell_type": "markdown",
   "metadata": {},
   "source": [
    "#### fix filtered g.vcf files:\n",
    "GATK is more stringent with regards to floating point numbers than htslib which is used in cyvcf2. htslib codes 0.0 as 0, gatk doesnt like that. apparently this is fixed in gatk 4.0, but im using 3.8\n",
    "\n",
    "i found a perl-script online to fix that, written by Peter Danecek:  \n",
    "https://github.com/samtools/bcftools/blob/develop/misc/fix-broken-GATK-Double-vs-Integer\n",
    "\n",
    "i called it [fix_broken_gvcf.pl](./extract_small_scaffolds/fix_broken_gvcf.pl).\n"
   ]
  },
  {
   "cell_type": "code",
   "execution_count": 1,
   "metadata": {},
   "outputs": [
    {
     "name": "stdout",
     "output_type": "stream",
     "text": [
      "#!/bin/bash -l\n",
      "#SBATCH -A snic2018-3-170\n",
      "# -p specifies the type of resource i want ( whole node, or core? ) and n the amount\n",
      "#SBATCH -p core -n 10\n",
      "#SBATCH -t 2:00:00\n",
      "#SBATCH -J fix_gvcf\n",
      "#SBATCH --mail-type=all\n",
      "#SBATCH --get-user-env\n",
      "#SBATCH --mail-user=tillman.ronneburg@imbim.uu.se\n",
      "#SBATCH -o /home/tilman/storage/subset3/fix_gvcf_%j.out\n",
      "#SBATCH -e /home/tilman/storage/subset3/fix_gvcf_%j.error\n",
      "ls /home/tilman/storage/subset3/gvcf_small/*.vcf | xargs -n1 -I{} basename {} | xargs -n1 -P20 -I{} bash -c \"cat /home/tilman/storage/subset3/gvcf_small/{} | /home/tilman/scripts/fix_broken_gvcf.pl  > /home/tilman/storage/subset3/gvcf_small_floatingpoint_fixed/{}\"\n"
     ]
    }
   ],
   "source": [
    "%%bash\n",
    "#sbatch ./extract_small_scaffolds/fix_small_gvcfs.sh\n",
    "cat ./extract_small_scaffolds/fix_small_gvcfs.sh\n"
   ]
  },
  {
   "cell_type": "markdown",
   "metadata": {},
   "source": [
    "\n",
    "#### call variants on small scaffolds:"
   ]
  },
  {
   "cell_type": "code",
   "execution_count": 24,
   "metadata": {},
   "outputs": [],
   "source": [
    "%%bash \n",
    "sbatch ./extract_small_scaffolds/call_variants_small_fp_fixed_sbatch.sh"
   ]
  },
  {
   "cell_type": "markdown",
   "metadata": {},
   "source": [
    "### Filter variants and merge them:\n",
    " - config file is at [./filtering/config/config.yaml](./filtering/config/config.yaml)  \n",
    " \n",
    "executing lenient filtering on rackham:"
   ]
  },
  {
   "cell_type": "code",
   "execution_count": null,
   "metadata": {},
   "outputs": [],
   "source": [
    "%%bash \n",
    "cd ./filtering/\n",
    "bash ./run_filtering.sh"
   ]
  },
  {
   "cell_type": "code",
   "execution_count": null,
   "metadata": {},
   "outputs": [],
   "source": []
  }
 ],
 "metadata": {
  "kernelspec": {
   "display_name": "Python 3",
   "language": "python",
   "name": "python3"
  },
  "language_info": {
   "codemirror_mode": {
    "name": "ipython",
    "version": 3
   },
   "file_extension": ".py",
   "mimetype": "text/x-python",
   "name": "python",
   "nbconvert_exporter": "python",
   "pygments_lexer": "ipython3",
   "version": "3.6.6"
  }
 },
 "nbformat": 4,
 "nbformat_minor": 2
}
