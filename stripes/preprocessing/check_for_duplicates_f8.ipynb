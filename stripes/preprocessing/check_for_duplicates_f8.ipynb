{
 "cells": [
  {
   "cell_type": "code",
   "execution_count": 3,
   "metadata": {},
   "outputs": [],
   "source": [
    "from cyvcf2 import VCF\n",
    "from collections import Counter"
   ]
  },
  {
   "cell_type": "code",
   "execution_count": 4,
   "metadata": {},
   "outputs": [],
   "source": [
    "## load file into notebook\n",
    "infile = \"../../../stripes_AIL_gg6a/F8/stripes_input/all_f8_only_founder_snps.vcf.bgz\"\n",
    "vcf = VCF(infile, threads=5)"
   ]
  },
  {
   "cell_type": "code",
   "execution_count": 5,
   "metadata": {},
   "outputs": [],
   "source": [
    "#get sample_names\n",
    "sample = vcf.samples\n",
    "sampl = [i.rsplit(\"/\",1)[1].split(\"_\")[0] for i in sample] # adjust this if naming convention of files differs\n",
    "\n",
    "d=dict(Counter(sampl))\n",
    "#get all samples that are duplicates\n",
    "dups = [key for key, item in d.items() if item>1]\n"
   ]
  },
  {
   "cell_type": "code",
   "execution_count": 6,
   "metadata": {},
   "outputs": [
    {
     "name": "stdout",
     "output_type": "stream",
     "text": [
      "5215\n",
      "/mnt/bbg/AIL_reseq/F0_F19_lowCov/fastq.processed/fc3/5215_F8_S41_L001_R1_001.fastq.gz\n",
      "/mnt/bbg/AIL_reseq/F0_F19_lowCov/fastq.processed/fc3/5215_F8_S41_L001_R2_001.fastq.gz\n",
      "/mnt/bbg/AIL_reseq/F0_F19_lowCov/fastq.processed/testplate/5215_F8_S49_L005_R1_001.fastq.gz\n",
      "/mnt/bbg/AIL_reseq/F0_F19_lowCov/fastq.processed/testplate/5215_F8_S49_L005_R2_001.fastq.gz\n",
      "/mnt/bbg/AIL_reseq/F0_F19_lowCov/fastq.processed/all/085215_forward.fastq.gz\n",
      "/mnt/bbg/AIL_reseq/F0_F19_lowCov/fastq.processed/all/085215_reverse.fastq.gz\n",
      "5311\n",
      "/mnt/bbg/AIL_reseq/F0_F19_lowCov/fastq.processed/fc3/5311_F8_S82_L001_R1_001.fastq.gz\n",
      "/mnt/bbg/AIL_reseq/F0_F19_lowCov/fastq.processed/fc3/5311_F8_S82_L001_R2_001.fastq.gz\n",
      "/mnt/bbg/AIL_reseq/F0_F19_lowCov/fastq.processed/testplate/5311_F8_S50_L005_R1_001.fastq.gz\n",
      "/mnt/bbg/AIL_reseq/F0_F19_lowCov/fastq.processed/testplate/5311_F8_S50_L005_R2_001.fastq.gz\n",
      "/mnt/bbg/AIL_reseq/F0_F19_lowCov/fastq.processed/all/153110_forward.fastq.gz\n",
      "/mnt/bbg/AIL_reseq/F0_F19_lowCov/fastq.processed/all/153110_reverse.fastq.gz\n",
      "/mnt/bbg/AIL_reseq/F0_F19_lowCov/fastq.processed/all/153111_forward.fastq.gz\n",
      "/mnt/bbg/AIL_reseq/F0_F19_lowCov/fastq.processed/all/153111_reverse.fastq.gz\n",
      "/mnt/bbg/AIL_reseq/F0_F19_lowCov/fastq.processed/all/153112_forward.fastq.gz\n",
      "/mnt/bbg/AIL_reseq/F0_F19_lowCov/fastq.processed/all/153112_reverse.fastq.gz\n",
      "/mnt/bbg/AIL_reseq/F0_F19_lowCov/fastq.processed/all/153113_forward.fastq.gz\n",
      "/mnt/bbg/AIL_reseq/F0_F19_lowCov/fastq.processed/all/153113_reverse.fastq.gz\n",
      "/mnt/bbg/AIL_reseq/F0_F19_lowCov/fastq.processed/all/153114_forward.fastq.gz\n",
      "/mnt/bbg/AIL_reseq/F0_F19_lowCov/fastq.processed/all/153114_reverse.fastq.gz\n",
      "/mnt/bbg/AIL_reseq/F0_F19_lowCov/fastq.processed/all/153115_forward.fastq.gz\n",
      "/mnt/bbg/AIL_reseq/F0_F19_lowCov/fastq.processed/all/153115_reverse.fastq.gz\n",
      "/mnt/bbg/AIL_reseq/F0_F19_lowCov/fastq.processed/all/153117_forward.fastq.gz\n",
      "/mnt/bbg/AIL_reseq/F0_F19_lowCov/fastq.processed/all/153117_reverse.fastq.gz\n",
      "/mnt/bbg/AIL_reseq/F0_F19_lowCov/fastq.processed/all/153118_forward.fastq.gz\n",
      "/mnt/bbg/AIL_reseq/F0_F19_lowCov/fastq.processed/all/153118_reverse.fastq.gz\n",
      "/mnt/bbg/AIL_reseq/F0_F19_lowCov/fastq.processed/all/153119_forward.fastq.gz\n",
      "/mnt/bbg/AIL_reseq/F0_F19_lowCov/fastq.processed/all/153119_reverse.fastq.gz\n",
      "/mnt/bbg/AIL_reseq/F0_F19_lowCov/fastq.processed/all/153116_forward.fastq.gz\n",
      "/mnt/bbg/AIL_reseq/F0_F19_lowCov/fastq.processed/all/153116_reverse.fastq.gz\n",
      "/mnt/bbg/AIL_reseq/F0_F19_lowCov/fastq.processed/all/085311_forward.fastq.gz\n",
      "/mnt/bbg/AIL_reseq/F0_F19_lowCov/fastq.processed/all/085311_reverse.fastq.gz\n",
      "5167\n",
      "/mnt/bbg/AIL_reseq/F0_F19_lowCov/fastq.processed/fc3/5167_F8_S1_L001_R1_001.fastq.gz\n",
      "/mnt/bbg/AIL_reseq/F0_F19_lowCov/fastq.processed/fc3/5167_F8_S1_L001_R2_001.fastq.gz\n",
      "/mnt/bbg/AIL_reseq/F0_F19_lowCov/fastq.processed/testplate/5167_F8_S48_L005_R1_001.fastq.gz\n",
      "/mnt/bbg/AIL_reseq/F0_F19_lowCov/fastq.processed/testplate/5167_F8_S48_L005_R2_001.fastq.gz\n",
      "/mnt/bbg/AIL_reseq/F0_F19_lowCov/fastq.processed/all/085167_forward.fastq.gz\n",
      "/mnt/bbg/AIL_reseq/F0_F19_lowCov/fastq.processed/all/085167_reverse.fastq.gz\n"
     ]
    }
   ],
   "source": [
    "#check if fastq files for both exist\n",
    "for duplicate in dups:\n",
    "    print(duplicate)\n",
    "    !find /mnt/bbg/AIL_reseq/ -name *{duplicate}* #ipython, because i cant be bothered to use os right now"
   ]
  },
  {
   "cell_type": "code",
   "execution_count": null,
   "metadata": {},
   "outputs": [],
   "source": [
    "\n",
    "# run vcftools to check which plate/copy was better in missingness:\n",
    "\n",
    "! vcftools --missing-indv  --vcf {infile}"
   ]
  },
  {
   "cell_type": "code",
   "execution_count": 13,
   "metadata": {},
   "outputs": [],
   "source": [
    "with open(\"../../../stripes_AIL_gg6a/F8/stripes_input/out.imiss\", \"r\") as handle: \n",
    "    qual = handle.read().split(\"\\n\")\n",
    "    qual.pop(0)\n",
    "    qual = [i.split(\"\\t\") for i in qual]     "
   ]
  },
  {
   "cell_type": "code",
   "execution_count": 14,
   "metadata": {},
   "outputs": [
    {
     "name": "stdout",
     "output_type": "stream",
     "text": [
      "/home/tilman/storage/F8/bams/5215_F8_S49_L005_call2.bam\n",
      "0.526314\n",
      "/home/tilman/storage/F8/bams/5311_F8_S82_L001_call2.bam\n",
      "0.726071\n",
      "/home/tilman/storage/F8/bams/5167_F8_S1_L001_call2.bam\n",
      "0.729484\n",
      "/home/tilman/storage/F8/bams/5311_F8_S50_L005_call2.bam\n",
      "0.452693\n",
      "/home/tilman/storage/F8/bams/5167_F8_S48_L005_call2.bam\n",
      "0.443444\n",
      "/home/tilman/storage/F8/bams/5215_F8_S41_L001_call2.bam\n",
      "0.833583\n"
     ]
    }
   ],
   "source": [
    "#check which samples are bad:\n",
    "for i in qual:     \n",
    "    if len(i)>1: \n",
    "        if i[0].rsplit(\"/\",1)[1].split(\"_\")[0] in dups: \n",
    "            print(i[0]) \n",
    "            print(i[4]) # fraction of called variants \n"
   ]
  },
  {
   "cell_type": "code",
   "execution_count": 19,
   "metadata": {},
   "outputs": [],
   "source": [
    "## kicking out:\n",
    "exclude_samples = [\"/home/tilman/storage/F8/bams/5215_F8_S49_L005_call2.bam\",\n",
    "\"/home/tilman/storage/F8/bams/5311_F8_S50_L005_call2.bam\",\n",
    "\"/home/tilman/storage/F8/bams/5167_F8_S48_L005_call2.bam\"]\n",
    "\n",
    "remove_samples = \"../../../stripes_AIL_gg6a/F8/stripes_input/remove_F8.txt\"\n",
    "\n",
    "with open(remove_samples, \"w\") as handle:\n",
    "    handle.write(\"\\n\".join(exclude_samples))"
   ]
  },
  {
   "cell_type": "code",
   "execution_count": 25,
   "metadata": {},
   "outputs": [
    {
     "name": "stdout",
     "output_type": "stream",
     "text": [
      "../../../stripes_AIL_gg6a/F8/stripes_input/all_f8_only_founder_snps_removed_dups.vcf\n"
     ]
    }
   ],
   "source": [
    "output = infile.split(\".vcf\")[0]+\"_removed_dups.vcf\"\n",
    "print(output)"
   ]
  },
  {
   "cell_type": "code",
   "execution_count": null,
   "metadata": {},
   "outputs": [],
   "source": [
    "## filtering out the bad duplicate samples using bcftools"
   ]
  },
  {
   "cell_type": "code",
   "execution_count": 29,
   "metadata": {},
   "outputs": [],
   "source": [
    "! bcftools view --samples-file ^{remove_samples} -Ov {infile} -o {output}"
   ]
  },
  {
   "cell_type": "code",
   "execution_count": 30,
   "metadata": {},
   "outputs": [],
   "source": [
    "vcf2 = VCF(output, threads=4)"
   ]
  },
  {
   "cell_type": "code",
   "execution_count": 31,
   "metadata": {},
   "outputs": [
    {
     "data": {
      "text/plain": [
       "379"
      ]
     },
     "execution_count": 31,
     "metadata": {},
     "output_type": "execute_result"
    }
   ],
   "source": [
    "print(len(vcf.samples))"
   ]
  },
  {
   "cell_type": "code",
   "execution_count": 34,
   "metadata": {},
   "outputs": [
    {
     "name": "stdout",
     "output_type": "stream",
     "text": [
      "379\n",
      "376\n"
     ]
    }
   ],
   "source": [
    "print(len(vcf.samples))\n",
    "print(len(vcf2.samples))  #cool, i actually filtered them out.\n",
    "samples = vcf2.samples "
   ]
  },
  {
   "cell_type": "code",
   "execution_count": 35,
   "metadata": {},
   "outputs": [],
   "source": [
    "samples = vcf2.samples \n",
    "sampl2 = [i.rsplit(\"/\",1)[1].split(\"_\")[0]+\"08\" for i in samples] # adjust this if naming convention of files differs\n"
   ]
  },
  {
   "cell_type": "code",
   "execution_count": 37,
   "metadata": {},
   "outputs": [
    {
     "data": {
      "text/plain": [
       "[('529508', 1), ('519808', 1), ('542608', 1), ('537908', 1), ('552408', 1)]"
      ]
     },
     "execution_count": 37,
     "metadata": {},
     "output_type": "execute_result"
    }
   ],
   "source": [
    "Counter(sampl2).most_common(5)  ## cool, no duplicates."
   ]
  },
  {
   "cell_type": "code",
   "execution_count": 7,
   "metadata": {},
   "outputs": [],
   "source": [
    "new_samples = infile.rsplit(\"/\",1)[0]+\"/new_names_F8.txt\""
   ]
  },
  {
   "cell_type": "code",
   "execution_count": 8,
   "metadata": {},
   "outputs": [
    {
     "data": {
      "text/plain": [
       "'../../../stripes_AIL_gg6a/F8/stripes_input/new_names_F8.txt'"
      ]
     },
     "execution_count": 8,
     "metadata": {},
     "output_type": "execute_result"
    }
   ],
   "source": [
    "new_samples"
   ]
  },
  {
   "cell_type": "code",
   "execution_count": 44,
   "metadata": {},
   "outputs": [],
   "source": [
    "with open(new_samples, \"w\") as handle:\n",
    "    handle.write(\"\\n\".join(sampl2))"
   ]
  },
  {
   "cell_type": "code",
   "execution_count": 45,
   "metadata": {},
   "outputs": [],
   "source": [
    "output2 = output.rsplit(\".\",1)[0]+\"_new_names.vcf\""
   ]
  },
  {
   "cell_type": "code",
   "execution_count": 48,
   "metadata": {},
   "outputs": [],
   "source": [
    "! bcftools reheader --samples {new_samples} -o {output2} {output}  ###rename samples"
   ]
  },
  {
   "cell_type": "code",
   "execution_count": 49,
   "metadata": {},
   "outputs": [
    {
     "name": "stdout",
     "output_type": "stream",
     "text": [
      "#CHROM\tPOS\tID\tREF\tALT\tQUAL\tFILTER\tINFO\tFORMAT\t529508\t519808\t542608\t537908\t552408\t540708\t550308\t549908\t549508\t529908\t539808\t517208\t550708\t528408\t531208\t544708\t535808\t558008\t527908\t531408\t561508\t554008\t562808\t538808\t536308\t558208\t533408\t534608\t545008\t536408\t552308\t560808\t556008\t519608\t541608\t535508\t541008\t531708\t521008\t518508\t560208\t558108\t546008\t547708\t530208\t561008\t547108\t537808\t554908\t550208\t536808\t554508\t532308\t520808\t522108\t528808\t544308\t543208\t529008\t540608\t520608\t552808\t546408\t548408\t538308\t556408\t517808\t546708\t531008\t530608\t532008\t559008\t535608\t520908\t544008\t537008\t555908\t549208\t535208\t531608\t540408\t542908\t534208\t557308\t542008\t535408\t531108\t546508\t559308\t529408\t560008\t553908\t543308\t517708\t562308\t529208\t530708\t530108\t557408\t547208\t542108\t546308\t545808\t537408\t558908\t533908\t532608\t543408\t553508\t554308\t558808\t560508\t544508\t528308\t551508\t549408\t559708\t534808\t545708\t561608\t534308\t557108\t530908\t558308\t520708\t542708\t539108\t563208\t519108\t557608\t561908\t547608\t545208\t544808\t559508\t557808\t517308\t545608\t556908\t516708\t532108\t556808\t848908\t545508\t561208\t540008\t539408\t549808\t547008\t516808\t554208\t551308\t518708\t522308\t547508\t528208\t553208\t548308\t520108\t555208\t539908\t529708\t546108\t544408\t532908\t530808\t517008\t521708\t521808\t536208\t555508\t550908\t527808\t552008\t537208\t540908\t518908\t534508\t516908\t562208\t543108\t542308\t560408\t562708\t546908\t538908\t537508\t532808\t550508\t557908\t544608\t549308\t535908\t562608\t548208\t552908\t555108\t547308\t533708\t542408\t528908\t535308\t533808\t533608\t528508\t540508\t537108\t550408\t554808\t549008\t541808\t517608\t557508\t535708\t561108\t521108\t560108\t557708\t554408\t531508\t556708\t517408\t561708\t540108\t529108\t559608\t552108\t549708\t541508\t520308\t553008\t517108\t553108\t530408\t519008\t556608\t552208\t550108\t538508\t536008\t556508\t539708\t535008\t534408\t531308\t539508\t519908\t538008\t528608\t546608\t527608\t548608\t559408\t557008\t538408\t528708\t550008\t541708\t536908\t527708\t542508\t543908\t555008\t545108\t535108\t554108\t538608\t529608\t549608\t562908\t555608\t552708\t549108\t558508\t540208\t548108\t521908\t544208\t518308\t553308\t522208\t532208\t533208\t539308\t555708\t556308\t530008\t551408\t519708\t531908\t550808\t552608\t551108\t544108\t520508\t520008\t518008\t519208\t534008\t540308\t541408\t545308\t546208\t518408\t554708\t547808\t556208\t536108\t541308\t530508\t553408\t529308\t538108\t551008\t538708\t546808\t548708\t536708\t517908\t534708\t559208\t518208\t561408\t554608\t534908\t540808\t550608\t534108\t562408\t558408\t555408\t551908\t543008\t538208\t533108\t558608\t551708\t559808\t531808\t537608\t547408\t559908\t542208\t520408\t520208\t533508\t521508\t521608\t553708\t539008\t532408\t544908\t541908\t532508\t518808\t522008\t555308\t548808\t541108\t528008\t563008\t558708\t545408\t561808\t557208\t553808\t539608\t563108\t537308\t543508\t517508\t542808\t556108\t560708\t543808\t555808\n"
     ]
    }
   ],
   "source": [
    "!grep \"#CHROM\" {output2} #yay"
   ]
  },
  {
   "cell_type": "code",
   "execution_count": 50,
   "metadata": {},
   "outputs": [],
   "source": [
    "##now change the vcf and the sample-file for stripes & we're set."
   ]
  },
  {
   "cell_type": "code",
   "execution_count": null,
   "metadata": {},
   "outputs": [],
   "source": []
  }
 ],
 "metadata": {
  "kernelspec": {
   "display_name": "Python 3",
   "language": "python",
   "name": "python3"
  },
  "language_info": {
   "codemirror_mode": {
    "name": "ipython",
    "version": 3
   },
   "file_extension": ".py",
   "mimetype": "text/x-python",
   "name": "python",
   "nbconvert_exporter": "python",
   "pygments_lexer": "ipython3",
   "version": "3.6.7"
  }
 },
 "nbformat": 4,
 "nbformat_minor": 2
}
